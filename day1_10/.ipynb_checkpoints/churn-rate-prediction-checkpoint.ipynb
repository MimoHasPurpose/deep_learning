{
 "cells": [
  {
   "cell_type": "code",
   "execution_count": 1,
   "metadata": {
    "_cell_guid": "b1076dfc-b9ad-4769-8c92-a6c4dae69d19",
    "_uuid": "8f2839f25d086af736a60e9eeb907d3b93b6e0e5"
   },
   "outputs": [],
   "source": [
    "# This Python 3 environment comes with many helpful analytics libraries installed\n",
    "# It is defined by the kaggle/python Docker image: https://github.com/kaggle/docker-python\n",
    "# For example, here's several helpful packages to load\n",
    "\n",
    "import numpy as np # linear algebra\n",
    "import pandas as pd # data processing, CSV file I/O (e.g. pd.read_csv)\n",
    "\n",
    "# Input data files are available in the read-only \"../input/\" directory\n",
    "# For example, running this (by clicking run or pressing Shift+Enter) will list all files under the input directory\n",
    "\n",
    "import os\n",
    "for dirname, _, filenames in os.walk('/kaggle/input'):\n",
    "    for filename in filenames:\n",
    "        print(os.path.join(dirname, filename))\n",
    "\n",
    "# You can write up to 20GB to the current directory (/kaggle/working/) that gets preserved as output when you create a version using \"Save & Run All\" \n",
    "# You can also write temporary files to /kaggle/temp/, but they won't be saved outside of the current session"
   ]
  },
  {
   "cell_type": "code",
   "execution_count": 2,
   "metadata": {},
   "outputs": [
    {
     "ename": "FileNotFoundError",
     "evalue": "[Errno 2] No such file or directory: '/kaggle/input/credit-card-customer-churn-prediction/Churn_Modelling.csv'",
     "output_type": "error",
     "traceback": [
      "\u001b[1;31m---------------------------------------------------------------------------\u001b[0m",
      "\u001b[1;31mFileNotFoundError\u001b[0m                         Traceback (most recent call last)",
      "Cell \u001b[1;32mIn[2], line 1\u001b[0m\n\u001b[1;32m----> 1\u001b[0m df \u001b[38;5;241m=\u001b[39m \u001b[43mpd\u001b[49m\u001b[38;5;241;43m.\u001b[39;49m\u001b[43mread_csv\u001b[49m\u001b[43m(\u001b[49m\u001b[38;5;124;43m'\u001b[39;49m\u001b[38;5;124;43m/kaggle/input/credit-card-customer-churn-prediction/Churn_Modelling.csv\u001b[39;49m\u001b[38;5;124;43m'\u001b[39;49m\u001b[43m)\u001b[49m\n",
      "File \u001b[1;32m~\\miniconda3\\Lib\\site-packages\\pandas\\io\\parsers\\readers.py:1026\u001b[0m, in \u001b[0;36mread_csv\u001b[1;34m(filepath_or_buffer, sep, delimiter, header, names, index_col, usecols, dtype, engine, converters, true_values, false_values, skipinitialspace, skiprows, skipfooter, nrows, na_values, keep_default_na, na_filter, verbose, skip_blank_lines, parse_dates, infer_datetime_format, keep_date_col, date_parser, date_format, dayfirst, cache_dates, iterator, chunksize, compression, thousands, decimal, lineterminator, quotechar, quoting, doublequote, escapechar, comment, encoding, encoding_errors, dialect, on_bad_lines, delim_whitespace, low_memory, memory_map, float_precision, storage_options, dtype_backend)\u001b[0m\n\u001b[0;32m   1013\u001b[0m kwds_defaults \u001b[38;5;241m=\u001b[39m _refine_defaults_read(\n\u001b[0;32m   1014\u001b[0m     dialect,\n\u001b[0;32m   1015\u001b[0m     delimiter,\n\u001b[1;32m   (...)\u001b[0m\n\u001b[0;32m   1022\u001b[0m     dtype_backend\u001b[38;5;241m=\u001b[39mdtype_backend,\n\u001b[0;32m   1023\u001b[0m )\n\u001b[0;32m   1024\u001b[0m kwds\u001b[38;5;241m.\u001b[39mupdate(kwds_defaults)\n\u001b[1;32m-> 1026\u001b[0m \u001b[38;5;28;01mreturn\u001b[39;00m \u001b[43m_read\u001b[49m\u001b[43m(\u001b[49m\u001b[43mfilepath_or_buffer\u001b[49m\u001b[43m,\u001b[49m\u001b[43m \u001b[49m\u001b[43mkwds\u001b[49m\u001b[43m)\u001b[49m\n",
      "File \u001b[1;32m~\\miniconda3\\Lib\\site-packages\\pandas\\io\\parsers\\readers.py:620\u001b[0m, in \u001b[0;36m_read\u001b[1;34m(filepath_or_buffer, kwds)\u001b[0m\n\u001b[0;32m    617\u001b[0m _validate_names(kwds\u001b[38;5;241m.\u001b[39mget(\u001b[38;5;124m\"\u001b[39m\u001b[38;5;124mnames\u001b[39m\u001b[38;5;124m\"\u001b[39m, \u001b[38;5;28;01mNone\u001b[39;00m))\n\u001b[0;32m    619\u001b[0m \u001b[38;5;66;03m# Create the parser.\u001b[39;00m\n\u001b[1;32m--> 620\u001b[0m parser \u001b[38;5;241m=\u001b[39m \u001b[43mTextFileReader\u001b[49m\u001b[43m(\u001b[49m\u001b[43mfilepath_or_buffer\u001b[49m\u001b[43m,\u001b[49m\u001b[43m \u001b[49m\u001b[38;5;241;43m*\u001b[39;49m\u001b[38;5;241;43m*\u001b[39;49m\u001b[43mkwds\u001b[49m\u001b[43m)\u001b[49m\n\u001b[0;32m    622\u001b[0m \u001b[38;5;28;01mif\u001b[39;00m chunksize \u001b[38;5;129;01mor\u001b[39;00m iterator:\n\u001b[0;32m    623\u001b[0m     \u001b[38;5;28;01mreturn\u001b[39;00m parser\n",
      "File \u001b[1;32m~\\miniconda3\\Lib\\site-packages\\pandas\\io\\parsers\\readers.py:1620\u001b[0m, in \u001b[0;36mTextFileReader.__init__\u001b[1;34m(self, f, engine, **kwds)\u001b[0m\n\u001b[0;32m   1617\u001b[0m     \u001b[38;5;28mself\u001b[39m\u001b[38;5;241m.\u001b[39moptions[\u001b[38;5;124m\"\u001b[39m\u001b[38;5;124mhas_index_names\u001b[39m\u001b[38;5;124m\"\u001b[39m] \u001b[38;5;241m=\u001b[39m kwds[\u001b[38;5;124m\"\u001b[39m\u001b[38;5;124mhas_index_names\u001b[39m\u001b[38;5;124m\"\u001b[39m]\n\u001b[0;32m   1619\u001b[0m \u001b[38;5;28mself\u001b[39m\u001b[38;5;241m.\u001b[39mhandles: IOHandles \u001b[38;5;241m|\u001b[39m \u001b[38;5;28;01mNone\u001b[39;00m \u001b[38;5;241m=\u001b[39m \u001b[38;5;28;01mNone\u001b[39;00m\n\u001b[1;32m-> 1620\u001b[0m \u001b[38;5;28mself\u001b[39m\u001b[38;5;241m.\u001b[39m_engine \u001b[38;5;241m=\u001b[39m \u001b[38;5;28;43mself\u001b[39;49m\u001b[38;5;241;43m.\u001b[39;49m\u001b[43m_make_engine\u001b[49m\u001b[43m(\u001b[49m\u001b[43mf\u001b[49m\u001b[43m,\u001b[49m\u001b[43m \u001b[49m\u001b[38;5;28;43mself\u001b[39;49m\u001b[38;5;241;43m.\u001b[39;49m\u001b[43mengine\u001b[49m\u001b[43m)\u001b[49m\n",
      "File \u001b[1;32m~\\miniconda3\\Lib\\site-packages\\pandas\\io\\parsers\\readers.py:1880\u001b[0m, in \u001b[0;36mTextFileReader._make_engine\u001b[1;34m(self, f, engine)\u001b[0m\n\u001b[0;32m   1878\u001b[0m     \u001b[38;5;28;01mif\u001b[39;00m \u001b[38;5;124m\"\u001b[39m\u001b[38;5;124mb\u001b[39m\u001b[38;5;124m\"\u001b[39m \u001b[38;5;129;01mnot\u001b[39;00m \u001b[38;5;129;01min\u001b[39;00m mode:\n\u001b[0;32m   1879\u001b[0m         mode \u001b[38;5;241m+\u001b[39m\u001b[38;5;241m=\u001b[39m \u001b[38;5;124m\"\u001b[39m\u001b[38;5;124mb\u001b[39m\u001b[38;5;124m\"\u001b[39m\n\u001b[1;32m-> 1880\u001b[0m \u001b[38;5;28mself\u001b[39m\u001b[38;5;241m.\u001b[39mhandles \u001b[38;5;241m=\u001b[39m \u001b[43mget_handle\u001b[49m\u001b[43m(\u001b[49m\n\u001b[0;32m   1881\u001b[0m \u001b[43m    \u001b[49m\u001b[43mf\u001b[49m\u001b[43m,\u001b[49m\n\u001b[0;32m   1882\u001b[0m \u001b[43m    \u001b[49m\u001b[43mmode\u001b[49m\u001b[43m,\u001b[49m\n\u001b[0;32m   1883\u001b[0m \u001b[43m    \u001b[49m\u001b[43mencoding\u001b[49m\u001b[38;5;241;43m=\u001b[39;49m\u001b[38;5;28;43mself\u001b[39;49m\u001b[38;5;241;43m.\u001b[39;49m\u001b[43moptions\u001b[49m\u001b[38;5;241;43m.\u001b[39;49m\u001b[43mget\u001b[49m\u001b[43m(\u001b[49m\u001b[38;5;124;43m\"\u001b[39;49m\u001b[38;5;124;43mencoding\u001b[39;49m\u001b[38;5;124;43m\"\u001b[39;49m\u001b[43m,\u001b[49m\u001b[43m \u001b[49m\u001b[38;5;28;43;01mNone\u001b[39;49;00m\u001b[43m)\u001b[49m\u001b[43m,\u001b[49m\n\u001b[0;32m   1884\u001b[0m \u001b[43m    \u001b[49m\u001b[43mcompression\u001b[49m\u001b[38;5;241;43m=\u001b[39;49m\u001b[38;5;28;43mself\u001b[39;49m\u001b[38;5;241;43m.\u001b[39;49m\u001b[43moptions\u001b[49m\u001b[38;5;241;43m.\u001b[39;49m\u001b[43mget\u001b[49m\u001b[43m(\u001b[49m\u001b[38;5;124;43m\"\u001b[39;49m\u001b[38;5;124;43mcompression\u001b[39;49m\u001b[38;5;124;43m\"\u001b[39;49m\u001b[43m,\u001b[49m\u001b[43m \u001b[49m\u001b[38;5;28;43;01mNone\u001b[39;49;00m\u001b[43m)\u001b[49m\u001b[43m,\u001b[49m\n\u001b[0;32m   1885\u001b[0m \u001b[43m    \u001b[49m\u001b[43mmemory_map\u001b[49m\u001b[38;5;241;43m=\u001b[39;49m\u001b[38;5;28;43mself\u001b[39;49m\u001b[38;5;241;43m.\u001b[39;49m\u001b[43moptions\u001b[49m\u001b[38;5;241;43m.\u001b[39;49m\u001b[43mget\u001b[49m\u001b[43m(\u001b[49m\u001b[38;5;124;43m\"\u001b[39;49m\u001b[38;5;124;43mmemory_map\u001b[39;49m\u001b[38;5;124;43m\"\u001b[39;49m\u001b[43m,\u001b[49m\u001b[43m \u001b[49m\u001b[38;5;28;43;01mFalse\u001b[39;49;00m\u001b[43m)\u001b[49m\u001b[43m,\u001b[49m\n\u001b[0;32m   1886\u001b[0m \u001b[43m    \u001b[49m\u001b[43mis_text\u001b[49m\u001b[38;5;241;43m=\u001b[39;49m\u001b[43mis_text\u001b[49m\u001b[43m,\u001b[49m\n\u001b[0;32m   1887\u001b[0m \u001b[43m    \u001b[49m\u001b[43merrors\u001b[49m\u001b[38;5;241;43m=\u001b[39;49m\u001b[38;5;28;43mself\u001b[39;49m\u001b[38;5;241;43m.\u001b[39;49m\u001b[43moptions\u001b[49m\u001b[38;5;241;43m.\u001b[39;49m\u001b[43mget\u001b[49m\u001b[43m(\u001b[49m\u001b[38;5;124;43m\"\u001b[39;49m\u001b[38;5;124;43mencoding_errors\u001b[39;49m\u001b[38;5;124;43m\"\u001b[39;49m\u001b[43m,\u001b[49m\u001b[43m \u001b[49m\u001b[38;5;124;43m\"\u001b[39;49m\u001b[38;5;124;43mstrict\u001b[39;49m\u001b[38;5;124;43m\"\u001b[39;49m\u001b[43m)\u001b[49m\u001b[43m,\u001b[49m\n\u001b[0;32m   1888\u001b[0m \u001b[43m    \u001b[49m\u001b[43mstorage_options\u001b[49m\u001b[38;5;241;43m=\u001b[39;49m\u001b[38;5;28;43mself\u001b[39;49m\u001b[38;5;241;43m.\u001b[39;49m\u001b[43moptions\u001b[49m\u001b[38;5;241;43m.\u001b[39;49m\u001b[43mget\u001b[49m\u001b[43m(\u001b[49m\u001b[38;5;124;43m\"\u001b[39;49m\u001b[38;5;124;43mstorage_options\u001b[39;49m\u001b[38;5;124;43m\"\u001b[39;49m\u001b[43m,\u001b[49m\u001b[43m \u001b[49m\u001b[38;5;28;43;01mNone\u001b[39;49;00m\u001b[43m)\u001b[49m\u001b[43m,\u001b[49m\n\u001b[0;32m   1889\u001b[0m \u001b[43m\u001b[49m\u001b[43m)\u001b[49m\n\u001b[0;32m   1890\u001b[0m \u001b[38;5;28;01massert\u001b[39;00m \u001b[38;5;28mself\u001b[39m\u001b[38;5;241m.\u001b[39mhandles \u001b[38;5;129;01mis\u001b[39;00m \u001b[38;5;129;01mnot\u001b[39;00m \u001b[38;5;28;01mNone\u001b[39;00m\n\u001b[0;32m   1891\u001b[0m f \u001b[38;5;241m=\u001b[39m \u001b[38;5;28mself\u001b[39m\u001b[38;5;241m.\u001b[39mhandles\u001b[38;5;241m.\u001b[39mhandle\n",
      "File \u001b[1;32m~\\miniconda3\\Lib\\site-packages\\pandas\\io\\common.py:873\u001b[0m, in \u001b[0;36mget_handle\u001b[1;34m(path_or_buf, mode, encoding, compression, memory_map, is_text, errors, storage_options)\u001b[0m\n\u001b[0;32m    868\u001b[0m \u001b[38;5;28;01melif\u001b[39;00m \u001b[38;5;28misinstance\u001b[39m(handle, \u001b[38;5;28mstr\u001b[39m):\n\u001b[0;32m    869\u001b[0m     \u001b[38;5;66;03m# Check whether the filename is to be opened in binary mode.\u001b[39;00m\n\u001b[0;32m    870\u001b[0m     \u001b[38;5;66;03m# Binary mode does not support 'encoding' and 'newline'.\u001b[39;00m\n\u001b[0;32m    871\u001b[0m     \u001b[38;5;28;01mif\u001b[39;00m ioargs\u001b[38;5;241m.\u001b[39mencoding \u001b[38;5;129;01mand\u001b[39;00m \u001b[38;5;124m\"\u001b[39m\u001b[38;5;124mb\u001b[39m\u001b[38;5;124m\"\u001b[39m \u001b[38;5;129;01mnot\u001b[39;00m \u001b[38;5;129;01min\u001b[39;00m ioargs\u001b[38;5;241m.\u001b[39mmode:\n\u001b[0;32m    872\u001b[0m         \u001b[38;5;66;03m# Encoding\u001b[39;00m\n\u001b[1;32m--> 873\u001b[0m         handle \u001b[38;5;241m=\u001b[39m \u001b[38;5;28;43mopen\u001b[39;49m\u001b[43m(\u001b[49m\n\u001b[0;32m    874\u001b[0m \u001b[43m            \u001b[49m\u001b[43mhandle\u001b[49m\u001b[43m,\u001b[49m\n\u001b[0;32m    875\u001b[0m \u001b[43m            \u001b[49m\u001b[43mioargs\u001b[49m\u001b[38;5;241;43m.\u001b[39;49m\u001b[43mmode\u001b[49m\u001b[43m,\u001b[49m\n\u001b[0;32m    876\u001b[0m \u001b[43m            \u001b[49m\u001b[43mencoding\u001b[49m\u001b[38;5;241;43m=\u001b[39;49m\u001b[43mioargs\u001b[49m\u001b[38;5;241;43m.\u001b[39;49m\u001b[43mencoding\u001b[49m\u001b[43m,\u001b[49m\n\u001b[0;32m    877\u001b[0m \u001b[43m            \u001b[49m\u001b[43merrors\u001b[49m\u001b[38;5;241;43m=\u001b[39;49m\u001b[43merrors\u001b[49m\u001b[43m,\u001b[49m\n\u001b[0;32m    878\u001b[0m \u001b[43m            \u001b[49m\u001b[43mnewline\u001b[49m\u001b[38;5;241;43m=\u001b[39;49m\u001b[38;5;124;43m\"\u001b[39;49m\u001b[38;5;124;43m\"\u001b[39;49m\u001b[43m,\u001b[49m\n\u001b[0;32m    879\u001b[0m \u001b[43m        \u001b[49m\u001b[43m)\u001b[49m\n\u001b[0;32m    880\u001b[0m     \u001b[38;5;28;01melse\u001b[39;00m:\n\u001b[0;32m    881\u001b[0m         \u001b[38;5;66;03m# Binary mode\u001b[39;00m\n\u001b[0;32m    882\u001b[0m         handle \u001b[38;5;241m=\u001b[39m \u001b[38;5;28mopen\u001b[39m(handle, ioargs\u001b[38;5;241m.\u001b[39mmode)\n",
      "\u001b[1;31mFileNotFoundError\u001b[0m: [Errno 2] No such file or directory: '/kaggle/input/credit-card-customer-churn-prediction/Churn_Modelling.csv'"
     ]
    }
   ],
   "source": [
    "df = pd.read_csv('churn.csv')"
   ]
  },
  {
   "cell_type": "code",
   "execution_count": 3,
   "metadata": {
    "execution": {
     "iopub.execute_input": "2025-05-16T09:26:58.680146Z",
     "iopub.status.busy": "2025-05-16T09:26:58.679816Z",
     "iopub.status.idle": "2025-05-16T09:26:58.707244Z",
     "shell.execute_reply": "2025-05-16T09:26:58.706075Z",
     "shell.execute_reply.started": "2025-05-16T09:26:58.680110Z"
    }
   },
   "outputs": [
    {
     "data": {
      "text/html": [
       "<div>\n",
       "<style scoped>\n",
       "    .dataframe tbody tr th:only-of-type {\n",
       "        vertical-align: middle;\n",
       "    }\n",
       "\n",
       "    .dataframe tbody tr th {\n",
       "        vertical-align: top;\n",
       "    }\n",
       "\n",
       "    .dataframe thead th {\n",
       "        text-align: right;\n",
       "    }\n",
       "</style>\n",
       "<table border=\"1\" class=\"dataframe\">\n",
       "  <thead>\n",
       "    <tr style=\"text-align: right;\">\n",
       "      <th></th>\n",
       "      <th>RowNumber</th>\n",
       "      <th>CustomerId</th>\n",
       "      <th>Surname</th>\n",
       "      <th>CreditScore</th>\n",
       "      <th>Geography</th>\n",
       "      <th>Gender</th>\n",
       "      <th>Age</th>\n",
       "      <th>Tenure</th>\n",
       "      <th>Balance</th>\n",
       "      <th>NumOfProducts</th>\n",
       "      <th>HasCrCard</th>\n",
       "      <th>IsActiveMember</th>\n",
       "      <th>EstimatedSalary</th>\n",
       "      <th>Exited</th>\n",
       "    </tr>\n",
       "  </thead>\n",
       "  <tbody>\n",
       "    <tr>\n",
       "      <th>0</th>\n",
       "      <td>1</td>\n",
       "      <td>15634602</td>\n",
       "      <td>Hargrave</td>\n",
       "      <td>619</td>\n",
       "      <td>France</td>\n",
       "      <td>Female</td>\n",
       "      <td>42</td>\n",
       "      <td>2</td>\n",
       "      <td>0.00</td>\n",
       "      <td>1</td>\n",
       "      <td>1</td>\n",
       "      <td>1</td>\n",
       "      <td>101348.88</td>\n",
       "      <td>1</td>\n",
       "    </tr>\n",
       "    <tr>\n",
       "      <th>1</th>\n",
       "      <td>2</td>\n",
       "      <td>15647311</td>\n",
       "      <td>Hill</td>\n",
       "      <td>608</td>\n",
       "      <td>Spain</td>\n",
       "      <td>Female</td>\n",
       "      <td>41</td>\n",
       "      <td>1</td>\n",
       "      <td>83807.86</td>\n",
       "      <td>1</td>\n",
       "      <td>0</td>\n",
       "      <td>1</td>\n",
       "      <td>112542.58</td>\n",
       "      <td>0</td>\n",
       "    </tr>\n",
       "    <tr>\n",
       "      <th>2</th>\n",
       "      <td>3</td>\n",
       "      <td>15619304</td>\n",
       "      <td>Onio</td>\n",
       "      <td>502</td>\n",
       "      <td>France</td>\n",
       "      <td>Female</td>\n",
       "      <td>42</td>\n",
       "      <td>8</td>\n",
       "      <td>159660.80</td>\n",
       "      <td>3</td>\n",
       "      <td>1</td>\n",
       "      <td>0</td>\n",
       "      <td>113931.57</td>\n",
       "      <td>1</td>\n",
       "    </tr>\n",
       "    <tr>\n",
       "      <th>3</th>\n",
       "      <td>4</td>\n",
       "      <td>15701354</td>\n",
       "      <td>Boni</td>\n",
       "      <td>699</td>\n",
       "      <td>France</td>\n",
       "      <td>Female</td>\n",
       "      <td>39</td>\n",
       "      <td>1</td>\n",
       "      <td>0.00</td>\n",
       "      <td>2</td>\n",
       "      <td>0</td>\n",
       "      <td>0</td>\n",
       "      <td>93826.63</td>\n",
       "      <td>0</td>\n",
       "    </tr>\n",
       "    <tr>\n",
       "      <th>4</th>\n",
       "      <td>5</td>\n",
       "      <td>15737888</td>\n",
       "      <td>Mitchell</td>\n",
       "      <td>850</td>\n",
       "      <td>Spain</td>\n",
       "      <td>Female</td>\n",
       "      <td>43</td>\n",
       "      <td>2</td>\n",
       "      <td>125510.82</td>\n",
       "      <td>1</td>\n",
       "      <td>1</td>\n",
       "      <td>1</td>\n",
       "      <td>79084.10</td>\n",
       "      <td>0</td>\n",
       "    </tr>\n",
       "  </tbody>\n",
       "</table>\n",
       "</div>"
      ],
      "text/plain": [
       "   RowNumber  CustomerId   Surname  CreditScore Geography  Gender  Age  \\\n",
       "0          1    15634602  Hargrave          619    France  Female   42   \n",
       "1          2    15647311      Hill          608     Spain  Female   41   \n",
       "2          3    15619304      Onio          502    France  Female   42   \n",
       "3          4    15701354      Boni          699    France  Female   39   \n",
       "4          5    15737888  Mitchell          850     Spain  Female   43   \n",
       "\n",
       "   Tenure    Balance  NumOfProducts  HasCrCard  IsActiveMember  \\\n",
       "0       2       0.00              1          1               1   \n",
       "1       1   83807.86              1          0               1   \n",
       "2       8  159660.80              3          1               0   \n",
       "3       1       0.00              2          0               0   \n",
       "4       2  125510.82              1          1               1   \n",
       "\n",
       "   EstimatedSalary  Exited  \n",
       "0        101348.88       1  \n",
       "1        112542.58       0  \n",
       "2        113931.57       1  \n",
       "3         93826.63       0  \n",
       "4         79084.10       0  "
      ]
     },
     "execution_count": 3,
     "metadata": {},
     "output_type": "execute_result"
    }
   ],
   "source": [
    "df.head()"
   ]
  },
  {
   "cell_type": "code",
   "execution_count": 4,
   "metadata": {
    "execution": {
     "iopub.execute_input": "2025-05-16T09:26:59.860114Z",
     "iopub.status.busy": "2025-05-16T09:26:59.859134Z",
     "iopub.status.idle": "2025-05-16T09:26:59.872318Z",
     "shell.execute_reply": "2025-05-16T09:26:59.871294Z",
     "shell.execute_reply.started": "2025-05-16T09:26:59.860067Z"
    }
   },
   "outputs": [],
   "source": [
    "df.drop(columns = ['RowNumber','CustomerId','Surname'],inplace=True)"
   ]
  },
  {
   "cell_type": "code",
   "execution_count": 5,
   "metadata": {
    "execution": {
     "iopub.execute_input": "2025-05-16T09:27:03.630240Z",
     "iopub.status.busy": "2025-05-16T09:27:03.629622Z",
     "iopub.status.idle": "2025-05-16T09:27:03.644494Z",
     "shell.execute_reply": "2025-05-16T09:27:03.643489Z",
     "shell.execute_reply.started": "2025-05-16T09:27:03.630202Z"
    }
   },
   "outputs": [
    {
     "data": {
      "text/html": [
       "<div>\n",
       "<style scoped>\n",
       "    .dataframe tbody tr th:only-of-type {\n",
       "        vertical-align: middle;\n",
       "    }\n",
       "\n",
       "    .dataframe tbody tr th {\n",
       "        vertical-align: top;\n",
       "    }\n",
       "\n",
       "    .dataframe thead th {\n",
       "        text-align: right;\n",
       "    }\n",
       "</style>\n",
       "<table border=\"1\" class=\"dataframe\">\n",
       "  <thead>\n",
       "    <tr style=\"text-align: right;\">\n",
       "      <th></th>\n",
       "      <th>CreditScore</th>\n",
       "      <th>Geography</th>\n",
       "      <th>Gender</th>\n",
       "      <th>Age</th>\n",
       "      <th>Tenure</th>\n",
       "      <th>Balance</th>\n",
       "      <th>NumOfProducts</th>\n",
       "      <th>HasCrCard</th>\n",
       "      <th>IsActiveMember</th>\n",
       "      <th>EstimatedSalary</th>\n",
       "      <th>Exited</th>\n",
       "    </tr>\n",
       "  </thead>\n",
       "  <tbody>\n",
       "    <tr>\n",
       "      <th>0</th>\n",
       "      <td>619</td>\n",
       "      <td>France</td>\n",
       "      <td>Female</td>\n",
       "      <td>42</td>\n",
       "      <td>2</td>\n",
       "      <td>0.00</td>\n",
       "      <td>1</td>\n",
       "      <td>1</td>\n",
       "      <td>1</td>\n",
       "      <td>101348.88</td>\n",
       "      <td>1</td>\n",
       "    </tr>\n",
       "    <tr>\n",
       "      <th>1</th>\n",
       "      <td>608</td>\n",
       "      <td>Spain</td>\n",
       "      <td>Female</td>\n",
       "      <td>41</td>\n",
       "      <td>1</td>\n",
       "      <td>83807.86</td>\n",
       "      <td>1</td>\n",
       "      <td>0</td>\n",
       "      <td>1</td>\n",
       "      <td>112542.58</td>\n",
       "      <td>0</td>\n",
       "    </tr>\n",
       "    <tr>\n",
       "      <th>2</th>\n",
       "      <td>502</td>\n",
       "      <td>France</td>\n",
       "      <td>Female</td>\n",
       "      <td>42</td>\n",
       "      <td>8</td>\n",
       "      <td>159660.80</td>\n",
       "      <td>3</td>\n",
       "      <td>1</td>\n",
       "      <td>0</td>\n",
       "      <td>113931.57</td>\n",
       "      <td>1</td>\n",
       "    </tr>\n",
       "    <tr>\n",
       "      <th>3</th>\n",
       "      <td>699</td>\n",
       "      <td>France</td>\n",
       "      <td>Female</td>\n",
       "      <td>39</td>\n",
       "      <td>1</td>\n",
       "      <td>0.00</td>\n",
       "      <td>2</td>\n",
       "      <td>0</td>\n",
       "      <td>0</td>\n",
       "      <td>93826.63</td>\n",
       "      <td>0</td>\n",
       "    </tr>\n",
       "    <tr>\n",
       "      <th>4</th>\n",
       "      <td>850</td>\n",
       "      <td>Spain</td>\n",
       "      <td>Female</td>\n",
       "      <td>43</td>\n",
       "      <td>2</td>\n",
       "      <td>125510.82</td>\n",
       "      <td>1</td>\n",
       "      <td>1</td>\n",
       "      <td>1</td>\n",
       "      <td>79084.10</td>\n",
       "      <td>0</td>\n",
       "    </tr>\n",
       "  </tbody>\n",
       "</table>\n",
       "</div>"
      ],
      "text/plain": [
       "   CreditScore Geography  Gender  Age  Tenure    Balance  NumOfProducts  \\\n",
       "0          619    France  Female   42       2       0.00              1   \n",
       "1          608     Spain  Female   41       1   83807.86              1   \n",
       "2          502    France  Female   42       8  159660.80              3   \n",
       "3          699    France  Female   39       1       0.00              2   \n",
       "4          850     Spain  Female   43       2  125510.82              1   \n",
       "\n",
       "   HasCrCard  IsActiveMember  EstimatedSalary  Exited  \n",
       "0          1               1        101348.88       1  \n",
       "1          0               1        112542.58       0  \n",
       "2          1               0        113931.57       1  \n",
       "3          0               0         93826.63       0  \n",
       "4          1               1         79084.10       0  "
      ]
     },
     "execution_count": 5,
     "metadata": {},
     "output_type": "execute_result"
    }
   ],
   "source": [
    "df.head()"
   ]
  },
  {
   "cell_type": "code",
   "execution_count": 6,
   "metadata": {
    "execution": {
     "iopub.execute_input": "2025-05-16T09:27:04.041641Z",
     "iopub.status.busy": "2025-05-16T09:27:04.041342Z",
     "iopub.status.idle": "2025-05-16T09:27:04.054149Z",
     "shell.execute_reply": "2025-05-16T09:27:04.053175Z",
     "shell.execute_reply.started": "2025-05-16T09:27:04.041609Z"
    }
   },
   "outputs": [
    {
     "data": {
      "text/plain": [
       "France     5014\n",
       "Germany    2509\n",
       "Spain      2477\n",
       "Name: Geography, dtype: int64"
      ]
     },
     "execution_count": 6,
     "metadata": {},
     "output_type": "execute_result"
    }
   ],
   "source": [
    "df['Geography'].value_counts()"
   ]
  },
  {
   "cell_type": "code",
   "execution_count": 7,
   "metadata": {
    "execution": {
     "iopub.execute_input": "2025-05-16T09:27:04.561298Z",
     "iopub.status.busy": "2025-05-16T09:27:04.560981Z",
     "iopub.status.idle": "2025-05-16T09:27:04.570094Z",
     "shell.execute_reply": "2025-05-16T09:27:04.569206Z",
     "shell.execute_reply.started": "2025-05-16T09:27:04.561237Z"
    }
   },
   "outputs": [
    {
     "data": {
      "text/plain": [
       "Male      5457\n",
       "Female    4543\n",
       "Name: Gender, dtype: int64"
      ]
     },
     "execution_count": 7,
     "metadata": {},
     "output_type": "execute_result"
    }
   ],
   "source": [
    "df['Gender'].value_counts()"
   ]
  },
  {
   "cell_type": "code",
   "execution_count": 8,
   "metadata": {
    "execution": {
     "iopub.execute_input": "2025-05-16T09:27:04.936059Z",
     "iopub.status.busy": "2025-05-16T09:27:04.935751Z",
     "iopub.status.idle": "2025-05-16T09:27:04.952531Z",
     "shell.execute_reply": "2025-05-16T09:27:04.951607Z",
     "shell.execute_reply.started": "2025-05-16T09:27:04.936026Z"
    }
   },
   "outputs": [],
   "source": [
    "df = pd.get_dummies(df,columns=['Geography','Gender'],drop_first=True)"
   ]
  },
  {
   "cell_type": "code",
   "execution_count": 9,
   "metadata": {
    "execution": {
     "iopub.execute_input": "2025-05-16T09:27:05.267406Z",
     "iopub.status.busy": "2025-05-16T09:27:05.267076Z",
     "iopub.status.idle": "2025-05-16T09:27:05.282513Z",
     "shell.execute_reply": "2025-05-16T09:27:05.281526Z",
     "shell.execute_reply.started": "2025-05-16T09:27:05.267371Z"
    }
   },
   "outputs": [
    {
     "data": {
      "text/html": [
       "<div>\n",
       "<style scoped>\n",
       "    .dataframe tbody tr th:only-of-type {\n",
       "        vertical-align: middle;\n",
       "    }\n",
       "\n",
       "    .dataframe tbody tr th {\n",
       "        vertical-align: top;\n",
       "    }\n",
       "\n",
       "    .dataframe thead th {\n",
       "        text-align: right;\n",
       "    }\n",
       "</style>\n",
       "<table border=\"1\" class=\"dataframe\">\n",
       "  <thead>\n",
       "    <tr style=\"text-align: right;\">\n",
       "      <th></th>\n",
       "      <th>CreditScore</th>\n",
       "      <th>Age</th>\n",
       "      <th>Tenure</th>\n",
       "      <th>Balance</th>\n",
       "      <th>NumOfProducts</th>\n",
       "      <th>HasCrCard</th>\n",
       "      <th>IsActiveMember</th>\n",
       "      <th>EstimatedSalary</th>\n",
       "      <th>Exited</th>\n",
       "      <th>Geography_Germany</th>\n",
       "      <th>Geography_Spain</th>\n",
       "      <th>Gender_Male</th>\n",
       "    </tr>\n",
       "  </thead>\n",
       "  <tbody>\n",
       "    <tr>\n",
       "      <th>0</th>\n",
       "      <td>619</td>\n",
       "      <td>42</td>\n",
       "      <td>2</td>\n",
       "      <td>0.00</td>\n",
       "      <td>1</td>\n",
       "      <td>1</td>\n",
       "      <td>1</td>\n",
       "      <td>101348.88</td>\n",
       "      <td>1</td>\n",
       "      <td>0</td>\n",
       "      <td>0</td>\n",
       "      <td>0</td>\n",
       "    </tr>\n",
       "    <tr>\n",
       "      <th>1</th>\n",
       "      <td>608</td>\n",
       "      <td>41</td>\n",
       "      <td>1</td>\n",
       "      <td>83807.86</td>\n",
       "      <td>1</td>\n",
       "      <td>0</td>\n",
       "      <td>1</td>\n",
       "      <td>112542.58</td>\n",
       "      <td>0</td>\n",
       "      <td>0</td>\n",
       "      <td>1</td>\n",
       "      <td>0</td>\n",
       "    </tr>\n",
       "    <tr>\n",
       "      <th>2</th>\n",
       "      <td>502</td>\n",
       "      <td>42</td>\n",
       "      <td>8</td>\n",
       "      <td>159660.80</td>\n",
       "      <td>3</td>\n",
       "      <td>1</td>\n",
       "      <td>0</td>\n",
       "      <td>113931.57</td>\n",
       "      <td>1</td>\n",
       "      <td>0</td>\n",
       "      <td>0</td>\n",
       "      <td>0</td>\n",
       "    </tr>\n",
       "    <tr>\n",
       "      <th>3</th>\n",
       "      <td>699</td>\n",
       "      <td>39</td>\n",
       "      <td>1</td>\n",
       "      <td>0.00</td>\n",
       "      <td>2</td>\n",
       "      <td>0</td>\n",
       "      <td>0</td>\n",
       "      <td>93826.63</td>\n",
       "      <td>0</td>\n",
       "      <td>0</td>\n",
       "      <td>0</td>\n",
       "      <td>0</td>\n",
       "    </tr>\n",
       "    <tr>\n",
       "      <th>4</th>\n",
       "      <td>850</td>\n",
       "      <td>43</td>\n",
       "      <td>2</td>\n",
       "      <td>125510.82</td>\n",
       "      <td>1</td>\n",
       "      <td>1</td>\n",
       "      <td>1</td>\n",
       "      <td>79084.10</td>\n",
       "      <td>0</td>\n",
       "      <td>0</td>\n",
       "      <td>1</td>\n",
       "      <td>0</td>\n",
       "    </tr>\n",
       "  </tbody>\n",
       "</table>\n",
       "</div>"
      ],
      "text/plain": [
       "   CreditScore  Age  Tenure    Balance  NumOfProducts  HasCrCard  \\\n",
       "0          619   42       2       0.00              1          1   \n",
       "1          608   41       1   83807.86              1          0   \n",
       "2          502   42       8  159660.80              3          1   \n",
       "3          699   39       1       0.00              2          0   \n",
       "4          850   43       2  125510.82              1          1   \n",
       "\n",
       "   IsActiveMember  EstimatedSalary  Exited  Geography_Germany  \\\n",
       "0               1        101348.88       1                  0   \n",
       "1               1        112542.58       0                  0   \n",
       "2               0        113931.57       1                  0   \n",
       "3               0         93826.63       0                  0   \n",
       "4               1         79084.10       0                  0   \n",
       "\n",
       "   Geography_Spain  Gender_Male  \n",
       "0                0            0  \n",
       "1                1            0  \n",
       "2                0            0  \n",
       "3                0            0  \n",
       "4                1            0  "
      ]
     },
     "execution_count": 9,
     "metadata": {},
     "output_type": "execute_result"
    }
   ],
   "source": [
    "df.head()"
   ]
  },
  {
   "cell_type": "code",
   "execution_count": 10,
   "metadata": {
    "execution": {
     "iopub.execute_input": "2025-05-16T09:27:05.530235Z",
     "iopub.status.busy": "2025-05-16T09:27:05.529946Z",
     "iopub.status.idle": "2025-05-16T09:27:06.714653Z",
     "shell.execute_reply": "2025-05-16T09:27:06.713718Z",
     "shell.execute_reply.started": "2025-05-16T09:27:05.530206Z"
    }
   },
   "outputs": [],
   "source": [
    "X = df.drop(columns=['Exited'])\n",
    "y = df['Exited'].values\n",
    "\n",
    "from sklearn.model_selection import train_test_split\n",
    "X_train,X_test,y_train,y_test = train_test_split(X,y,test_size=0.2,random_state=0)"
   ]
  },
  {
   "cell_type": "code",
   "execution_count": 11,
   "metadata": {
    "execution": {
     "iopub.execute_input": "2025-05-16T09:27:06.717348Z",
     "iopub.status.busy": "2025-05-16T09:27:06.716559Z",
     "iopub.status.idle": "2025-05-16T09:27:06.731085Z",
     "shell.execute_reply": "2025-05-16T09:27:06.730063Z",
     "shell.execute_reply.started": "2025-05-16T09:27:06.717298Z"
    }
   },
   "outputs": [],
   "source": [
    "from sklearn.preprocessing import StandardScaler\n",
    "scaler = StandardScaler()\n",
    "\n",
    "X_train_trf = scaler.fit_transform(X_train)\n",
    "X_test_trf = scaler.transform(X_test)"
   ]
  },
  {
   "cell_type": "code",
   "execution_count": 12,
   "metadata": {
    "execution": {
     "iopub.execute_input": "2025-05-16T09:27:06.732545Z",
     "iopub.status.busy": "2025-05-16T09:27:06.732314Z",
     "iopub.status.idle": "2025-05-16T09:27:13.825025Z",
     "shell.execute_reply": "2025-05-16T09:27:13.823709Z",
     "shell.execute_reply.started": "2025-05-16T09:27:06.732517Z"
    }
   },
   "outputs": [],
   "source": [
    "import tensorflow\n",
    "from tensorflow import keras\n",
    "from tensorflow.keras import Sequential \n",
    "from tensorflow.keras.layers import Dense"
   ]
  },
  {
   "cell_type": "code",
   "execution_count": 13,
   "metadata": {
    "execution": {
     "iopub.execute_input": "2025-05-16T09:27:13.827675Z",
     "iopub.status.busy": "2025-05-16T09:27:13.827375Z",
     "iopub.status.idle": "2025-05-16T09:27:13.958505Z",
     "shell.execute_reply": "2025-05-16T09:27:13.957484Z",
     "shell.execute_reply.started": "2025-05-16T09:27:13.827640Z"
    }
   },
   "outputs": [],
   "source": [
    "model = Sequential()\n",
    "\n",
    "model.add(Dense(11,activation='sigmoid',input_dim=11))\n",
    "model.add(Dense(11,activation='sigmoid'))\n",
    "model.add(Dense(1,activation='sigmoid'))"
   ]
  },
  {
   "cell_type": "code",
   "execution_count": 14,
   "metadata": {
    "execution": {
     "iopub.execute_input": "2025-05-16T09:27:13.960330Z",
     "iopub.status.busy": "2025-05-16T09:27:13.959940Z",
     "iopub.status.idle": "2025-05-16T09:27:13.970095Z",
     "shell.execute_reply": "2025-05-16T09:27:13.969167Z",
     "shell.execute_reply.started": "2025-05-16T09:27:13.960283Z"
    }
   },
   "outputs": [
    {
     "name": "stdout",
     "output_type": "stream",
     "text": [
      "Model: \"sequential\"\n",
      "_________________________________________________________________\n",
      "Layer (type)                 Output Shape              Param #   \n",
      "=================================================================\n",
      "dense (Dense)                (None, 11)                132       \n",
      "_________________________________________________________________\n",
      "dense_1 (Dense)              (None, 11)                132       \n",
      "_________________________________________________________________\n",
      "dense_2 (Dense)              (None, 1)                 12        \n",
      "=================================================================\n",
      "Total params: 276\n",
      "Trainable params: 276\n",
      "Non-trainable params: 0\n",
      "_________________________________________________________________\n"
     ]
    }
   ],
   "source": [
    "model.summary()"
   ]
  },
  {
   "cell_type": "code",
   "execution_count": 15,
   "metadata": {
    "execution": {
     "iopub.execute_input": "2025-05-16T09:27:13.971660Z",
     "iopub.status.busy": "2025-05-16T09:27:13.971400Z",
     "iopub.status.idle": "2025-05-16T09:27:13.997437Z",
     "shell.execute_reply": "2025-05-16T09:27:13.996001Z",
     "shell.execute_reply.started": "2025-05-16T09:27:13.971622Z"
    }
   },
   "outputs": [],
   "source": [
    "model.compile(optimizer='Adam',loss='binary_crossentropy',metrics=['accuracy'])"
   ]
  },
  {
   "cell_type": "code",
   "execution_count": 16,
   "metadata": {
    "execution": {
     "iopub.execute_input": "2025-05-16T09:27:13.999898Z",
     "iopub.status.busy": "2025-05-16T09:27:13.999555Z",
     "iopub.status.idle": "2025-05-16T09:27:46.159060Z",
     "shell.execute_reply": "2025-05-16T09:27:46.157827Z",
     "shell.execute_reply.started": "2025-05-16T09:27:13.999856Z"
    }
   },
   "outputs": [
    {
     "name": "stdout",
     "output_type": "stream",
     "text": [
      "Epoch 1/100\n",
      "128/128 [==============================] - 1s 4ms/step - loss: 0.5089 - accuracy: 0.7958 - val_loss: 0.5002 - val_accuracy: 0.7969\n",
      "Epoch 2/100\n",
      "128/128 [==============================] - 0s 3ms/step - loss: 0.5032 - accuracy: 0.7958 - val_loss: 0.4981 - val_accuracy: 0.7969\n",
      "Epoch 3/100\n",
      "128/128 [==============================] - 0s 4ms/step - loss: 0.5016 - accuracy: 0.7958 - val_loss: 0.4968 - val_accuracy: 0.7969\n",
      "Epoch 4/100\n",
      "128/128 [==============================] - 0s 3ms/step - loss: 0.5007 - accuracy: 0.7958 - val_loss: 0.4958 - val_accuracy: 0.7969\n",
      "Epoch 5/100\n",
      "128/128 [==============================] - 0s 4ms/step - loss: 0.5004 - accuracy: 0.7958 - val_loss: 0.4955 - val_accuracy: 0.7969\n",
      "Epoch 6/100\n",
      "128/128 [==============================] - 0s 3ms/step - loss: 0.5001 - accuracy: 0.7958 - val_loss: 0.4951 - val_accuracy: 0.7969\n",
      "Epoch 7/100\n",
      "128/128 [==============================] - 0s 2ms/step - loss: 0.4997 - accuracy: 0.7958 - val_loss: 0.4948 - val_accuracy: 0.7969\n",
      "Epoch 8/100\n",
      "128/128 [==============================] - 0s 2ms/step - loss: 0.4998 - accuracy: 0.7958 - val_loss: 0.4952 - val_accuracy: 0.7969\n",
      "Epoch 9/100\n",
      "128/128 [==============================] - 0s 2ms/step - loss: 0.4996 - accuracy: 0.7958 - val_loss: 0.4952 - val_accuracy: 0.7969\n",
      "Epoch 10/100\n",
      "128/128 [==============================] - 0s 2ms/step - loss: 0.4995 - accuracy: 0.7958 - val_loss: 0.4950 - val_accuracy: 0.7969\n",
      "Epoch 11/100\n",
      "128/128 [==============================] - 0s 2ms/step - loss: 0.4994 - accuracy: 0.7958 - val_loss: 0.4952 - val_accuracy: 0.7969\n",
      "Epoch 12/100\n",
      "128/128 [==============================] - 0s 2ms/step - loss: 0.4995 - accuracy: 0.7958 - val_loss: 0.4951 - val_accuracy: 0.7969\n",
      "Epoch 13/100\n",
      "128/128 [==============================] - 0s 2ms/step - loss: 0.4994 - accuracy: 0.7958 - val_loss: 0.4951 - val_accuracy: 0.7969\n",
      "Epoch 14/100\n",
      "128/128 [==============================] - 0s 2ms/step - loss: 0.4993 - accuracy: 0.7958 - val_loss: 0.4953 - val_accuracy: 0.7969\n",
      "Epoch 15/100\n",
      "128/128 [==============================] - 0s 2ms/step - loss: 0.4993 - accuracy: 0.7958 - val_loss: 0.4951 - val_accuracy: 0.7969\n",
      "Epoch 16/100\n",
      "128/128 [==============================] - 0s 2ms/step - loss: 0.4995 - accuracy: 0.7958 - val_loss: 0.4952 - val_accuracy: 0.7969\n",
      "Epoch 17/100\n",
      "128/128 [==============================] - 0s 2ms/step - loss: 0.4993 - accuracy: 0.7958 - val_loss: 0.4955 - val_accuracy: 0.7969\n",
      "Epoch 18/100\n",
      "128/128 [==============================] - 0s 2ms/step - loss: 0.4993 - accuracy: 0.7958 - val_loss: 0.4952 - val_accuracy: 0.7969\n",
      "Epoch 19/100\n",
      "128/128 [==============================] - 0s 2ms/step - loss: 0.4993 - accuracy: 0.7958 - val_loss: 0.4954 - val_accuracy: 0.7969\n",
      "Epoch 20/100\n",
      "128/128 [==============================] - 0s 2ms/step - loss: 0.4991 - accuracy: 0.7958 - val_loss: 0.4952 - val_accuracy: 0.7969\n",
      "Epoch 21/100\n",
      "128/128 [==============================] - 0s 3ms/step - loss: 0.4992 - accuracy: 0.7958 - val_loss: 0.4951 - val_accuracy: 0.7969\n",
      "Epoch 22/100\n",
      "128/128 [==============================] - 0s 2ms/step - loss: 0.4992 - accuracy: 0.7958 - val_loss: 0.4960 - val_accuracy: 0.7969\n",
      "Epoch 23/100\n",
      "128/128 [==============================] - 0s 2ms/step - loss: 0.4991 - accuracy: 0.7958 - val_loss: 0.4957 - val_accuracy: 0.7969\n",
      "Epoch 24/100\n",
      "128/128 [==============================] - 0s 2ms/step - loss: 0.4992 - accuracy: 0.7958 - val_loss: 0.4955 - val_accuracy: 0.7969\n",
      "Epoch 25/100\n",
      "128/128 [==============================] - 0s 2ms/step - loss: 0.4992 - accuracy: 0.7958 - val_loss: 0.4954 - val_accuracy: 0.7969\n",
      "Epoch 26/100\n",
      "128/128 [==============================] - 0s 2ms/step - loss: 0.4992 - accuracy: 0.7958 - val_loss: 0.4956 - val_accuracy: 0.7969\n",
      "Epoch 27/100\n",
      "128/128 [==============================] - 0s 2ms/step - loss: 0.4993 - accuracy: 0.7958 - val_loss: 0.4954 - val_accuracy: 0.7969\n",
      "Epoch 28/100\n",
      "128/128 [==============================] - 0s 2ms/step - loss: 0.4991 - accuracy: 0.7958 - val_loss: 0.4957 - val_accuracy: 0.7969\n",
      "Epoch 29/100\n",
      "128/128 [==============================] - 0s 2ms/step - loss: 0.4992 - accuracy: 0.7958 - val_loss: 0.4954 - val_accuracy: 0.7969\n",
      "Epoch 30/100\n",
      "128/128 [==============================] - 0s 3ms/step - loss: 0.4992 - accuracy: 0.7958 - val_loss: 0.4954 - val_accuracy: 0.7969\n",
      "Epoch 31/100\n",
      "128/128 [==============================] - 0s 2ms/step - loss: 0.4991 - accuracy: 0.7958 - val_loss: 0.4954 - val_accuracy: 0.7969\n",
      "Epoch 32/100\n",
      "128/128 [==============================] - 0s 2ms/step - loss: 0.4991 - accuracy: 0.7958 - val_loss: 0.4956 - val_accuracy: 0.7969\n",
      "Epoch 33/100\n",
      "128/128 [==============================] - 0s 2ms/step - loss: 0.4989 - accuracy: 0.7958 - val_loss: 0.4959 - val_accuracy: 0.7969\n",
      "Epoch 34/100\n",
      "128/128 [==============================] - 0s 2ms/step - loss: 0.4992 - accuracy: 0.7958 - val_loss: 0.4957 - val_accuracy: 0.7969\n",
      "Epoch 35/100\n",
      "128/128 [==============================] - 0s 2ms/step - loss: 0.4994 - accuracy: 0.7958 - val_loss: 0.4958 - val_accuracy: 0.7969\n",
      "Epoch 36/100\n",
      "128/128 [==============================] - 0s 2ms/step - loss: 0.4992 - accuracy: 0.7958 - val_loss: 0.4959 - val_accuracy: 0.7969\n",
      "Epoch 37/100\n",
      "128/128 [==============================] - 0s 2ms/step - loss: 0.4993 - accuracy: 0.7958 - val_loss: 0.4954 - val_accuracy: 0.7969\n",
      "Epoch 38/100\n",
      "128/128 [==============================] - 0s 2ms/step - loss: 0.4991 - accuracy: 0.7958 - val_loss: 0.4956 - val_accuracy: 0.7969\n",
      "Epoch 39/100\n",
      "128/128 [==============================] - 0s 2ms/step - loss: 0.4992 - accuracy: 0.7958 - val_loss: 0.4953 - val_accuracy: 0.7969\n",
      "Epoch 40/100\n",
      "128/128 [==============================] - 0s 2ms/step - loss: 0.4992 - accuracy: 0.7958 - val_loss: 0.4953 - val_accuracy: 0.7969\n",
      "Epoch 41/100\n",
      "128/128 [==============================] - 0s 3ms/step - loss: 0.4991 - accuracy: 0.7958 - val_loss: 0.4954 - val_accuracy: 0.7969\n",
      "Epoch 42/100\n",
      "128/128 [==============================] - 0s 2ms/step - loss: 0.4995 - accuracy: 0.7958 - val_loss: 0.4954 - val_accuracy: 0.7969\n",
      "Epoch 43/100\n",
      "128/128 [==============================] - 0s 2ms/step - loss: 0.4991 - accuracy: 0.7958 - val_loss: 0.4952 - val_accuracy: 0.7969\n",
      "Epoch 44/100\n",
      "128/128 [==============================] - 0s 2ms/step - loss: 0.4991 - accuracy: 0.7958 - val_loss: 0.4954 - val_accuracy: 0.7969\n",
      "Epoch 45/100\n",
      "128/128 [==============================] - 0s 2ms/step - loss: 0.4991 - accuracy: 0.7958 - val_loss: 0.4955 - val_accuracy: 0.7969\n",
      "Epoch 46/100\n",
      "128/128 [==============================] - 0s 2ms/step - loss: 0.4993 - accuracy: 0.7958 - val_loss: 0.4952 - val_accuracy: 0.7969\n",
      "Epoch 47/100\n",
      "128/128 [==============================] - 0s 2ms/step - loss: 0.4992 - accuracy: 0.7958 - val_loss: 0.4953 - val_accuracy: 0.7969\n",
      "Epoch 48/100\n",
      "128/128 [==============================] - 0s 2ms/step - loss: 0.4991 - accuracy: 0.7958 - val_loss: 0.4954 - val_accuracy: 0.7969\n",
      "Epoch 49/100\n",
      "128/128 [==============================] - 0s 2ms/step - loss: 0.4992 - accuracy: 0.7958 - val_loss: 0.4956 - val_accuracy: 0.7969\n",
      "Epoch 50/100\n",
      "128/128 [==============================] - 0s 2ms/step - loss: 0.4989 - accuracy: 0.7958 - val_loss: 0.4954 - val_accuracy: 0.7969\n",
      "Epoch 51/100\n",
      "128/128 [==============================] - 0s 2ms/step - loss: 0.4993 - accuracy: 0.7958 - val_loss: 0.4952 - val_accuracy: 0.7969\n",
      "Epoch 52/100\n",
      "128/128 [==============================] - 0s 2ms/step - loss: 0.4992 - accuracy: 0.7958 - val_loss: 0.4957 - val_accuracy: 0.7969\n",
      "Epoch 53/100\n",
      "128/128 [==============================] - 0s 2ms/step - loss: 0.4993 - accuracy: 0.7958 - val_loss: 0.4953 - val_accuracy: 0.7969\n",
      "Epoch 54/100\n",
      "128/128 [==============================] - 0s 2ms/step - loss: 0.4989 - accuracy: 0.7958 - val_loss: 0.4956 - val_accuracy: 0.7969\n",
      "Epoch 55/100\n",
      "128/128 [==============================] - 0s 2ms/step - loss: 0.4992 - accuracy: 0.7958 - val_loss: 0.4953 - val_accuracy: 0.7969\n",
      "Epoch 56/100\n",
      "128/128 [==============================] - 0s 2ms/step - loss: 0.4993 - accuracy: 0.7958 - val_loss: 0.4956 - val_accuracy: 0.7969\n",
      "Epoch 57/100\n",
      "128/128 [==============================] - 0s 2ms/step - loss: 0.4994 - accuracy: 0.7958 - val_loss: 0.4956 - val_accuracy: 0.7969\n",
      "Epoch 58/100\n",
      "128/128 [==============================] - 0s 2ms/step - loss: 0.4992 - accuracy: 0.7958 - val_loss: 0.4953 - val_accuracy: 0.7969\n",
      "Epoch 59/100\n",
      "128/128 [==============================] - 0s 2ms/step - loss: 0.4993 - accuracy: 0.7958 - val_loss: 0.4953 - val_accuracy: 0.7969\n",
      "Epoch 60/100\n",
      "128/128 [==============================] - 0s 2ms/step - loss: 0.4991 - accuracy: 0.7958 - val_loss: 0.4953 - val_accuracy: 0.7969\n",
      "Epoch 61/100\n",
      "128/128 [==============================] - 0s 2ms/step - loss: 0.4991 - accuracy: 0.7958 - val_loss: 0.4952 - val_accuracy: 0.7969\n",
      "Epoch 62/100\n",
      "128/128 [==============================] - 0s 2ms/step - loss: 0.4991 - accuracy: 0.7958 - val_loss: 0.4956 - val_accuracy: 0.7969\n",
      "Epoch 63/100\n",
      "128/128 [==============================] - 0s 3ms/step - loss: 0.4990 - accuracy: 0.7958 - val_loss: 0.4953 - val_accuracy: 0.7969\n",
      "Epoch 64/100\n",
      "128/128 [==============================] - 0s 2ms/step - loss: 0.4991 - accuracy: 0.7958 - val_loss: 0.4955 - val_accuracy: 0.7969\n",
      "Epoch 65/100\n",
      "128/128 [==============================] - 0s 2ms/step - loss: 0.4992 - accuracy: 0.7958 - val_loss: 0.4953 - val_accuracy: 0.7969\n",
      "Epoch 66/100\n",
      "128/128 [==============================] - 0s 2ms/step - loss: 0.4992 - accuracy: 0.7958 - val_loss: 0.4952 - val_accuracy: 0.7969\n",
      "Epoch 67/100\n",
      "128/128 [==============================] - 0s 2ms/step - loss: 0.4991 - accuracy: 0.7958 - val_loss: 0.4952 - val_accuracy: 0.7969\n",
      "Epoch 68/100\n",
      "128/128 [==============================] - 0s 2ms/step - loss: 0.4991 - accuracy: 0.7958 - val_loss: 0.4953 - val_accuracy: 0.7969\n",
      "Epoch 69/100\n",
      "128/128 [==============================] - 0s 2ms/step - loss: 0.4992 - accuracy: 0.7958 - val_loss: 0.4953 - val_accuracy: 0.7969\n",
      "Epoch 70/100\n",
      "128/128 [==============================] - 0s 2ms/step - loss: 0.4992 - accuracy: 0.7958 - val_loss: 0.4955 - val_accuracy: 0.7969\n",
      "Epoch 71/100\n",
      "128/128 [==============================] - 0s 2ms/step - loss: 0.4996 - accuracy: 0.7958 - val_loss: 0.4953 - val_accuracy: 0.7969\n",
      "Epoch 72/100\n",
      "128/128 [==============================] - 0s 2ms/step - loss: 0.4991 - accuracy: 0.7958 - val_loss: 0.4952 - val_accuracy: 0.7969\n",
      "Epoch 73/100\n",
      "128/128 [==============================] - 0s 2ms/step - loss: 0.4992 - accuracy: 0.7958 - val_loss: 0.4952 - val_accuracy: 0.7969\n",
      "Epoch 74/100\n",
      "128/128 [==============================] - 0s 2ms/step - loss: 0.4991 - accuracy: 0.7958 - val_loss: 0.4953 - val_accuracy: 0.7969\n",
      "Epoch 75/100\n",
      "128/128 [==============================] - 0s 2ms/step - loss: 0.4992 - accuracy: 0.7958 - val_loss: 0.4952 - val_accuracy: 0.7969\n",
      "Epoch 76/100\n",
      "128/128 [==============================] - 0s 2ms/step - loss: 0.4991 - accuracy: 0.7958 - val_loss: 0.4953 - val_accuracy: 0.7969\n",
      "Epoch 77/100\n",
      "128/128 [==============================] - 0s 2ms/step - loss: 0.4993 - accuracy: 0.7958 - val_loss: 0.4952 - val_accuracy: 0.7969\n",
      "Epoch 78/100\n",
      "128/128 [==============================] - 0s 3ms/step - loss: 0.4992 - accuracy: 0.7958 - val_loss: 0.4953 - val_accuracy: 0.7969\n",
      "Epoch 79/100\n",
      "128/128 [==============================] - 0s 2ms/step - loss: 0.4992 - accuracy: 0.7958 - val_loss: 0.4951 - val_accuracy: 0.7969\n",
      "Epoch 80/100\n",
      "128/128 [==============================] - 0s 2ms/step - loss: 0.4990 - accuracy: 0.7958 - val_loss: 0.4953 - val_accuracy: 0.7969\n",
      "Epoch 81/100\n",
      "128/128 [==============================] - 0s 2ms/step - loss: 0.4991 - accuracy: 0.7958 - val_loss: 0.4953 - val_accuracy: 0.7969\n",
      "Epoch 82/100\n",
      "128/128 [==============================] - 0s 2ms/step - loss: 0.4991 - accuracy: 0.7958 - val_loss: 0.4953 - val_accuracy: 0.7969\n",
      "Epoch 83/100\n",
      "128/128 [==============================] - 0s 2ms/step - loss: 0.4991 - accuracy: 0.7958 - val_loss: 0.4952 - val_accuracy: 0.7969\n",
      "Epoch 84/100\n",
      "128/128 [==============================] - 0s 2ms/step - loss: 0.4991 - accuracy: 0.7958 - val_loss: 0.4953 - val_accuracy: 0.7969\n",
      "Epoch 85/100\n",
      "128/128 [==============================] - 0s 2ms/step - loss: 0.4991 - accuracy: 0.7958 - val_loss: 0.4952 - val_accuracy: 0.7969\n",
      "Epoch 86/100\n",
      "128/128 [==============================] - 0s 2ms/step - loss: 0.4991 - accuracy: 0.7958 - val_loss: 0.4952 - val_accuracy: 0.7969\n",
      "Epoch 87/100\n",
      "128/128 [==============================] - 0s 2ms/step - loss: 0.4991 - accuracy: 0.7958 - val_loss: 0.4952 - val_accuracy: 0.7969\n",
      "Epoch 88/100\n",
      "128/128 [==============================] - 0s 2ms/step - loss: 0.4995 - accuracy: 0.7958 - val_loss: 0.4952 - val_accuracy: 0.7969\n",
      "Epoch 89/100\n",
      "128/128 [==============================] - 0s 2ms/step - loss: 0.4992 - accuracy: 0.7958 - val_loss: 0.4952 - val_accuracy: 0.7969\n",
      "Epoch 90/100\n",
      "128/128 [==============================] - 0s 2ms/step - loss: 0.4992 - accuracy: 0.7958 - val_loss: 0.4954 - val_accuracy: 0.7969\n",
      "Epoch 91/100\n",
      "128/128 [==============================] - 0s 2ms/step - loss: 0.4990 - accuracy: 0.7958 - val_loss: 0.4952 - val_accuracy: 0.7969\n",
      "Epoch 92/100\n",
      "128/128 [==============================] - 0s 2ms/step - loss: 0.4990 - accuracy: 0.7958 - val_loss: 0.4954 - val_accuracy: 0.7969\n",
      "Epoch 93/100\n",
      "128/128 [==============================] - 0s 3ms/step - loss: 0.4992 - accuracy: 0.7958 - val_loss: 0.4953 - val_accuracy: 0.7969\n",
      "Epoch 94/100\n",
      "128/128 [==============================] - 0s 3ms/step - loss: 0.4991 - accuracy: 0.7958 - val_loss: 0.4952 - val_accuracy: 0.7969\n",
      "Epoch 95/100\n",
      "128/128 [==============================] - 0s 3ms/step - loss: 0.4991 - accuracy: 0.7958 - val_loss: 0.4952 - val_accuracy: 0.7969\n",
      "Epoch 96/100\n",
      "128/128 [==============================] - 0s 2ms/step - loss: 0.4992 - accuracy: 0.7958 - val_loss: 0.4952 - val_accuracy: 0.7969\n",
      "Epoch 97/100\n",
      "128/128 [==============================] - 0s 3ms/step - loss: 0.4994 - accuracy: 0.7958 - val_loss: 0.4952 - val_accuracy: 0.7969\n",
      "Epoch 98/100\n",
      "128/128 [==============================] - 0s 2ms/step - loss: 0.4992 - accuracy: 0.7958 - val_loss: 0.4952 - val_accuracy: 0.7969\n",
      "Epoch 99/100\n",
      "128/128 [==============================] - 0s 2ms/step - loss: 0.4990 - accuracy: 0.7958 - val_loss: 0.4953 - val_accuracy: 0.7969\n",
      "Epoch 100/100\n",
      "128/128 [==============================] - 0s 3ms/step - loss: 0.4994 - accuracy: 0.7958 - val_loss: 0.4956 - val_accuracy: 0.7969\n"
     ]
    }
   ],
   "source": [
    "history = model.fit(X_train,y_train,batch_size=50,epochs=100,verbose=1,validation_split=0.2)"
   ]
  },
  {
   "cell_type": "code",
   "execution_count": 23,
   "metadata": {
    "execution": {
     "iopub.execute_input": "2025-05-16T09:27:50.304103Z",
     "iopub.status.busy": "2025-05-16T09:27:50.303776Z",
     "iopub.status.idle": "2025-05-16T09:27:50.439349Z",
     "shell.execute_reply": "2025-05-16T09:27:50.438354Z",
     "shell.execute_reply.started": "2025-05-16T09:27:50.304066Z"
    }
   },
   "outputs": [],
   "source": [
    "y_pred = model.predict(X_test)"
   ]
  },
  {
   "cell_type": "code",
   "execution_count": 24,
   "metadata": {
    "execution": {
     "iopub.execute_input": "2025-05-16T09:27:51.179019Z",
     "iopub.status.busy": "2025-05-16T09:27:51.178702Z",
     "iopub.status.idle": "2025-05-16T09:27:51.186621Z",
     "shell.execute_reply": "2025-05-16T09:27:51.185583Z",
     "shell.execute_reply.started": "2025-05-16T09:27:51.178983Z"
    }
   },
   "outputs": [
    {
     "data": {
      "text/plain": [
       "array([[0.2269609 ],\n",
       "       [0.2269609 ],\n",
       "       [0.2269609 ],\n",
       "       ...,\n",
       "       [0.2269609 ],\n",
       "       [0.24268487],\n",
       "       [0.2269609 ]], dtype=float32)"
      ]
     },
     "execution_count": 24,
     "metadata": {},
     "output_type": "execute_result"
    }
   ],
   "source": [
    "y_pred"
   ]
  },
  {
   "cell_type": "code",
   "execution_count": 25,
   "metadata": {
    "execution": {
     "iopub.execute_input": "2025-05-16T09:27:55.367453Z",
     "iopub.status.busy": "2025-05-16T09:27:55.367113Z",
     "iopub.status.idle": "2025-05-16T09:27:55.372394Z",
     "shell.execute_reply": "2025-05-16T09:27:55.371378Z",
     "shell.execute_reply.started": "2025-05-16T09:27:55.367416Z"
    }
   },
   "outputs": [],
   "source": [
    "y_pred = y_pred.argmax(axis=-1)"
   ]
  },
  {
   "cell_type": "code",
   "execution_count": 26,
   "metadata": {
    "execution": {
     "iopub.execute_input": "2025-05-16T09:27:56.244627Z",
     "iopub.status.busy": "2025-05-16T09:27:56.244298Z",
     "iopub.status.idle": "2025-05-16T09:27:56.255213Z",
     "shell.execute_reply": "2025-05-16T09:27:56.253804Z",
     "shell.execute_reply.started": "2025-05-16T09:27:56.244591Z"
    }
   },
   "outputs": [
    {
     "data": {
      "text/plain": [
       "0.7975"
      ]
     },
     "execution_count": 26,
     "metadata": {},
     "output_type": "execute_result"
    }
   ],
   "source": [
    "from sklearn.metrics import accuracy_score\n",
    "accuracy_score(y_test,y_pred)"
   ]
  },
  {
   "cell_type": "code",
   "execution_count": 27,
   "metadata": {
    "execution": {
     "iopub.execute_input": "2025-05-16T09:27:57.523391Z",
     "iopub.status.busy": "2025-05-16T09:27:57.523049Z",
     "iopub.status.idle": "2025-05-16T09:27:57.749869Z",
     "shell.execute_reply": "2025-05-16T09:27:57.748849Z",
     "shell.execute_reply.started": "2025-05-16T09:27:57.523354Z"
    }
   },
   "outputs": [
    {
     "data": {
      "text/plain": [
       "[<matplotlib.lines.Line2D at 0x78f7bf755910>]"
      ]
     },
     "execution_count": 27,
     "metadata": {},
     "output_type": "execute_result"
    },
    {
     "data": {
      "image/png": "[encoded data removed]",
      "text/plain": [
       "<Figure size 432x288 with 1 Axes>"
      ]
     },
     "metadata": {
      "needs_background": "light"
     },
     "output_type": "display_data"
    }
   ],
   "source": [
    "import matplotlib.pyplot as plt\n",
    "\n",
    "plt.plot(history.history['loss'])\n",
    "plt.plot(history.history['val_loss'])"
   ]
  },
  {
   "cell_type": "code",
   "execution_count": 28,
   "metadata": {
    "execution": {
     "iopub.execute_input": "2025-05-16T09:28:01.335980Z",
     "iopub.status.busy": "2025-05-16T09:28:01.335622Z",
     "iopub.status.idle": "2025-05-16T09:28:01.551994Z",
     "shell.execute_reply": "2025-05-16T09:28:01.551012Z",
     "shell.execute_reply.started": "2025-05-16T09:28:01.335947Z"
    }
   },
   "outputs": [
    {
     "data": {
      "text/plain": [
       "[<matplotlib.lines.Line2D at 0x78f7bed0de50>]"
      ]
     },
     "execution_count": 28,
     "metadata": {},
     "output_type": "execute_result"
    },
    {
     "data": {
      "image/png": "[encoded data removed]",
      "text/plain": [
       "<Figure size 432x288 with 1 Axes>"
      ]
     },
     "metadata": {
      "needs_background": "light"
     },
     "output_type": "display_data"
    }
   ],
   "source": [
    "plt.plot(history.history['accuracy'])\n",
    "plt.plot(history.history['val_accuracy'])"
   ]
  },
  {
   "cell_type": "code",
   "execution_count": 29,
   "metadata": {
    "execution": {
     "iopub.execute_input": "2025-05-16T09:29:32.977019Z",
     "iopub.status.busy": "2025-05-16T09:29:32.976641Z",
     "iopub.status.idle": "2025-05-16T09:29:33.134921Z",
     "shell.execute_reply": "2025-05-16T09:29:33.133925Z",
     "shell.execute_reply.started": "2025-05-16T09:29:32.976980Z"
    }
   },
   "outputs": [
    {
     "data": {
      "text/plain": [
       "[<matplotlib.lines.Line2D at 0x78f7bf6b7110>]"
      ]
     },
     "execution_count": 29,
     "metadata": {},
     "output_type": "execute_result"
    },
    {
     "data": {
      "image/png": "[encoded data removed]",
      "text/plain": [
       "<Figure size 432x288 with 1 Axes>"
      ]
     },
     "metadata": {
      "needs_background": "light"
     },
     "output_type": "display_data"
    }
   ],
   "source": [
    "plt.plot(history.history['loss'])\n",
    "plt.plot(history.history['val_loss'])"
   ]
  },
  {
   "cell_type": "code",
   "execution_count": null,
   "metadata": {},
   "outputs": [],
   "source": []
  },
  {
   "cell_type": "code",
   "execution_count": null,
   "metadata": {},
   "outputs": [],
   "source": []
  }
 ],
 "metadata": {
  "kaggle": {
   "accelerator": "none",
   "dataSources": [
    {
     "datasetId": 869651,
     "sourceId": 1481789,
     "sourceType": "datasetVersion"
    }
   ],
   "dockerImageVersionId": 30170,
   "isGpuEnabled": false,
   "isInternetEnabled": false,
   "language": "python",
   "sourceType": "notebook"
  },
  "kernelspec": {
   "display_name": "Python 3 (ipykernel)",
   "language": "python",
   "name": "python3"
  },
  "language_info": {
   "codemirror_mode": {
    "name": "ipython",
    "version": 3
   },
   "file_extension": ".py",
   "mimetype": "text/x-python",
   "name": "python",
   "nbconvert_exporter": "python",
   "pygments_lexer": "ipython3",
   "version": "3.12.3"
  }
 },
 "nbformat": 4,
 "nbformat_minor": 4
}
