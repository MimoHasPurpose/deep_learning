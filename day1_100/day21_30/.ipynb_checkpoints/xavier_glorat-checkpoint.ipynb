{
 "cells": [
  {
   "cell_type": "code",
   "execution_count": 1,
   "id": "2de789d9-78b2-40d5-9bd0-42dbba2dc049",
   "metadata": {},
   "outputs": [],
   "source": [
    "import tensorflow\n",
    "from tensorflow import keras\n",
    "from keras import Sequential\n",
    "from keras.layers import Dense\n"
   ]
  },
  {
   "cell_type": "code",
   "execution_count": 2,
   "id": "95e2fa9b-dfae-467c-b8e2-710090c1b9d7",
   "metadata": {},
   "outputs": [],
   "source": [
    "model=Sequential()"
   ]
  },
  {
   "cell_type": "code",
   "execution_count": 4,
   "id": "7a58d2ed-b0db-4265-86d9-75b348bbf686",
   "metadata": {},
   "outputs": [],
   "source": [
    "model.add(Dense(10,activation='relu', input_dim=2,kernel_initializer='he_normal'))\n",
    "model.add(Dense(10,activation='relu',kernel_initializer='he_normal'))\n",
    "model.add(Dense(10,activation='relu',kernel_initializer='he_normal'))\n",
    "model.add(Dense(10,activation='relu',kernel_initializer='he_normal'))\n",
    "model.add(Dense(1,activation='sigmoid'))"
   ]
  },
  {
   "cell_type": "code",
   "execution_count": 5,
   "id": "760d3db4-137a-414a-9743-3247684fd546",
   "metadata": {},
   "outputs": [
    {
     "data": {
      "text/html": [
       "<pre style=\"white-space:pre;overflow-x:auto;line-height:normal;font-family:Menlo,'DejaVu Sans Mono',consolas,'Courier New',monospace\"><span style=\"font-weight: bold\">Model: \"sequential\"</span>\n",
       "</pre>\n"
      ],
      "text/plain": [
       "\u001b[1mModel: \"sequential\"\u001b[0m\n"
      ]
     },
     "metadata": {},
     "output_type": "display_data"
    },
    {
     "data": {
      "text/html": [
       "<pre style=\"white-space:pre;overflow-x:auto;line-height:normal;font-family:Menlo,'DejaVu Sans Mono',consolas,'Courier New',monospace\">┏━━━━━━━━━━━━━━━━━━━━━━━━━━━━━━━━━━━━━━┳━━━━━━━━━━━━━━━━━━━━━━━━━━━━━┳━━━━━━━━━━━━━━━━━┓\n",
       "┃<span style=\"font-weight: bold\"> Layer (type)                         </span>┃<span style=\"font-weight: bold\"> Output Shape                </span>┃<span style=\"font-weight: bold\">         Param # </span>┃\n",
       "┡━━━━━━━━━━━━━━━━━━━━━━━━━━━━━━━━━━━━━━╇━━━━━━━━━━━━━━━━━━━━━━━━━━━━━╇━━━━━━━━━━━━━━━━━┩\n",
       "│ dense (<span style=\"color: #0087ff; text-decoration-color: #0087ff\">Dense</span>)                        │ (<span style=\"color: #00d7ff; text-decoration-color: #00d7ff\">None</span>, <span style=\"color: #00af00; text-decoration-color: #00af00\">10</span>)                  │              <span style=\"color: #00af00; text-decoration-color: #00af00\">30</span> │\n",
       "├──────────────────────────────────────┼─────────────────────────────┼─────────────────┤\n",
       "│ dense_2 (<span style=\"color: #0087ff; text-decoration-color: #0087ff\">Dense</span>)                      │ (<span style=\"color: #00d7ff; text-decoration-color: #00d7ff\">None</span>, <span style=\"color: #00af00; text-decoration-color: #00af00\">10</span>)                  │             <span style=\"color: #00af00; text-decoration-color: #00af00\">110</span> │\n",
       "├──────────────────────────────────────┼─────────────────────────────┼─────────────────┤\n",
       "│ dense_3 (<span style=\"color: #0087ff; text-decoration-color: #0087ff\">Dense</span>)                      │ (<span style=\"color: #00d7ff; text-decoration-color: #00d7ff\">None</span>, <span style=\"color: #00af00; text-decoration-color: #00af00\">10</span>)                  │             <span style=\"color: #00af00; text-decoration-color: #00af00\">110</span> │\n",
       "├──────────────────────────────────────┼─────────────────────────────┼─────────────────┤\n",
       "│ dense_4 (<span style=\"color: #0087ff; text-decoration-color: #0087ff\">Dense</span>)                      │ (<span style=\"color: #00d7ff; text-decoration-color: #00d7ff\">None</span>, <span style=\"color: #00af00; text-decoration-color: #00af00\">10</span>)                  │             <span style=\"color: #00af00; text-decoration-color: #00af00\">110</span> │\n",
       "├──────────────────────────────────────┼─────────────────────────────┼─────────────────┤\n",
       "│ dense_5 (<span style=\"color: #0087ff; text-decoration-color: #0087ff\">Dense</span>)                      │ (<span style=\"color: #00d7ff; text-decoration-color: #00d7ff\">None</span>, <span style=\"color: #00af00; text-decoration-color: #00af00\">10</span>)                  │             <span style=\"color: #00af00; text-decoration-color: #00af00\">110</span> │\n",
       "├──────────────────────────────────────┼─────────────────────────────┼─────────────────┤\n",
       "│ dense_6 (<span style=\"color: #0087ff; text-decoration-color: #0087ff\">Dense</span>)                      │ (<span style=\"color: #00d7ff; text-decoration-color: #00d7ff\">None</span>, <span style=\"color: #00af00; text-decoration-color: #00af00\">1</span>)                   │              <span style=\"color: #00af00; text-decoration-color: #00af00\">11</span> │\n",
       "└──────────────────────────────────────┴─────────────────────────────┴─────────────────┘\n",
       "</pre>\n"
      ],
      "text/plain": [
       "┏━━━━━━━━━━━━━━━━━━━━━━━━━━━━━━━━━━━━━━┳━━━━━━━━━━━━━━━━━━━━━━━━━━━━━┳━━━━━━━━━━━━━━━━━┓\n",
       "┃\u001b[1m \u001b[0m\u001b[1mLayer (type)                        \u001b[0m\u001b[1m \u001b[0m┃\u001b[1m \u001b[0m\u001b[1mOutput Shape               \u001b[0m\u001b[1m \u001b[0m┃\u001b[1m \u001b[0m\u001b[1m        Param #\u001b[0m\u001b[1m \u001b[0m┃\n",
       "┡━━━━━━━━━━━━━━━━━━━━━━━━━━━━━━━━━━━━━━╇━━━━━━━━━━━━━━━━━━━━━━━━━━━━━╇━━━━━━━━━━━━━━━━━┩\n",
       "│ dense (\u001b[38;5;33mDense\u001b[0m)                        │ (\u001b[38;5;45mNone\u001b[0m, \u001b[38;5;34m10\u001b[0m)                  │              \u001b[38;5;34m30\u001b[0m │\n",
       "├──────────────────────────────────────┼─────────────────────────────┼─────────────────┤\n",
       "│ dense_2 (\u001b[38;5;33mDense\u001b[0m)                      │ (\u001b[38;5;45mNone\u001b[0m, \u001b[38;5;34m10\u001b[0m)                  │             \u001b[38;5;34m110\u001b[0m │\n",
       "├──────────────────────────────────────┼─────────────────────────────┼─────────────────┤\n",
       "│ dense_3 (\u001b[38;5;33mDense\u001b[0m)                      │ (\u001b[38;5;45mNone\u001b[0m, \u001b[38;5;34m10\u001b[0m)                  │             \u001b[38;5;34m110\u001b[0m │\n",
       "├──────────────────────────────────────┼─────────────────────────────┼─────────────────┤\n",
       "│ dense_4 (\u001b[38;5;33mDense\u001b[0m)                      │ (\u001b[38;5;45mNone\u001b[0m, \u001b[38;5;34m10\u001b[0m)                  │             \u001b[38;5;34m110\u001b[0m │\n",
       "├──────────────────────────────────────┼─────────────────────────────┼─────────────────┤\n",
       "│ dense_5 (\u001b[38;5;33mDense\u001b[0m)                      │ (\u001b[38;5;45mNone\u001b[0m, \u001b[38;5;34m10\u001b[0m)                  │             \u001b[38;5;34m110\u001b[0m │\n",
       "├──────────────────────────────────────┼─────────────────────────────┼─────────────────┤\n",
       "│ dense_6 (\u001b[38;5;33mDense\u001b[0m)                      │ (\u001b[38;5;45mNone\u001b[0m, \u001b[38;5;34m1\u001b[0m)                   │              \u001b[38;5;34m11\u001b[0m │\n",
       "└──────────────────────────────────────┴─────────────────────────────┴─────────────────┘\n"
      ]
     },
     "metadata": {},
     "output_type": "display_data"
    },
    {
     "data": {
      "text/html": [
       "<pre style=\"white-space:pre;overflow-x:auto;line-height:normal;font-family:Menlo,'DejaVu Sans Mono',consolas,'Courier New',monospace\"><span style=\"font-weight: bold\"> Total params: </span><span style=\"color: #00af00; text-decoration-color: #00af00\">481</span> (1.88 KB)\n",
       "</pre>\n"
      ],
      "text/plain": [
       "\u001b[1m Total params: \u001b[0m\u001b[38;5;34m481\u001b[0m (1.88 KB)\n"
      ]
     },
     "metadata": {},
     "output_type": "display_data"
    },
    {
     "data": {
      "text/html": [
       "<pre style=\"white-space:pre;overflow-x:auto;line-height:normal;font-family:Menlo,'DejaVu Sans Mono',consolas,'Courier New',monospace\"><span style=\"font-weight: bold\"> Trainable params: </span><span style=\"color: #00af00; text-decoration-color: #00af00\">481</span> (1.88 KB)\n",
       "</pre>\n"
      ],
      "text/plain": [
       "\u001b[1m Trainable params: \u001b[0m\u001b[38;5;34m481\u001b[0m (1.88 KB)\n"
      ]
     },
     "metadata": {},
     "output_type": "display_data"
    },
    {
     "data": {
      "text/html": [
       "<pre style=\"white-space:pre;overflow-x:auto;line-height:normal;font-family:Menlo,'DejaVu Sans Mono',consolas,'Courier New',monospace\"><span style=\"font-weight: bold\"> Non-trainable params: </span><span style=\"color: #00af00; text-decoration-color: #00af00\">0</span> (0.00 B)\n",
       "</pre>\n"
      ],
      "text/plain": [
       "\u001b[1m Non-trainable params: \u001b[0m\u001b[38;5;34m0\u001b[0m (0.00 B)\n"
      ]
     },
     "metadata": {},
     "output_type": "display_data"
    }
   ],
   "source": [
    "model.summary()"
   ]
  },
  {
   "cell_type": "code",
   "execution_count": 6,
   "id": "7ac36179-aa80-4dbe-b643-f3f15fe413a6",
   "metadata": {},
   "outputs": [
    {
     "data": {
      "text/plain": [
       "\u001b[1;31mSignature:\u001b[0m   \u001b[0mmodel\u001b[0m\u001b[1;33m(\u001b[0m\u001b[1;33m*\u001b[0m\u001b[0margs\u001b[0m\u001b[1;33m,\u001b[0m \u001b[1;33m**\u001b[0m\u001b[0mkwargs\u001b[0m\u001b[1;33m)\u001b[0m\u001b[1;33m\u001b[0m\u001b[1;33m\u001b[0m\u001b[0m\n",
       "\u001b[1;31mType:\u001b[0m        Sequential\n",
       "\u001b[1;31mString form:\u001b[0m <Sequential name=sequential, built=True>\n",
       "\u001b[1;31mFile:\u001b[0m        c:\\users\\user\\miniconda3\\lib\\site-packages\\keras\\src\\models\\sequential.py\n",
       "\u001b[1;31mDocstring:\u001b[0m  \n",
       "`Sequential` groups a linear stack of layers into a `Model`.\n",
       "\n",
       "Examples:\n",
       "\n",
       "```python\n",
       "model = keras.Sequential()\n",
       "model.add(keras.Input(shape=(16,)))\n",
       "model.add(keras.layers.Dense(8))\n",
       "\n",
       "# Note that you can also omit the initial `Input`.\n",
       "# In that case the model doesn't have any weights until the first call\n",
       "# to a training/evaluation method (since it isn't yet built):\n",
       "model = keras.Sequential()\n",
       "model.add(keras.layers.Dense(8))\n",
       "model.add(keras.layers.Dense(4))\n",
       "# model.weights not created yet\n",
       "\n",
       "# Whereas if you specify an `Input`, the model gets built\n",
       "# continuously as you are adding layers:\n",
       "model = keras.Sequential()\n",
       "model.add(keras.Input(shape=(16,)))\n",
       "model.add(keras.layers.Dense(8))\n",
       "len(model.weights)  # Returns \"2\"\n",
       "\n",
       "# When using the delayed-build pattern (no input shape specified), you can\n",
       "# choose to manually build your model by calling\n",
       "# `build(batch_input_shape)`:\n",
       "model = keras.Sequential()\n",
       "model.add(keras.layers.Dense(8))\n",
       "model.add(keras.layers.Dense(4))\n",
       "model.build((None, 16))\n",
       "len(model.weights)  # Returns \"4\"\n",
       "\n",
       "# Note that when using the delayed-build pattern (no input shape specified),\n",
       "# the model gets built the first time you call `fit`, `eval`, or `predict`,\n",
       "# or the first time you call the model on some input data.\n",
       "model = keras.Sequential()\n",
       "model.add(keras.layers.Dense(8))\n",
       "model.add(keras.layers.Dense(1))\n",
       "model.compile(optimizer='sgd', loss='mse')\n",
       "# This builds the model for the first time:\n",
       "model.fit(x, y, batch_size=32, epochs=10)\n",
       "```"
      ]
     },
     "metadata": {},
     "output_type": "display_data"
    }
   ],
   "source": [
    "model?\n"
   ]
  },
  {
   "cell_type": "code",
   "execution_count": 7,
   "id": "de4e57a4-17f8-4966-807e-a94855e354bd",
   "metadata": {},
   "outputs": [
    {
     "data": {
      "text/plain": [
       "[array([[ 0.18726553,  2.2120843 ,  1.7418038 ,  1.8111422 ,  1.6497644 ,\n",
       "         -0.23700961, -0.14019176,  0.8092722 , -1.6920321 , -0.91717386],\n",
       "        [-0.45880482,  1.4209385 ,  1.1186025 , -0.10235941,  1.9897883 ,\n",
       "          1.1571646 , -0.35086086,  2.2093177 ,  1.1276935 ,  0.79598695]],\n",
       "       dtype=float32),\n",
       " array([0., 0., 0., 0., 0., 0., 0., 0., 0., 0.], dtype=float32),\n",
       " array([[-0.07579365,  0.40038243, -0.20783892, -0.52819866, -0.01004149,\n",
       "          0.57695657,  0.21282005,  0.2995214 ,  0.26107907, -0.0329571 ],\n",
       "        [ 0.16646574,  0.41467807, -0.1260734 , -0.01868008,  0.6835843 ,\n",
       "         -0.10177644, -0.73465854, -0.5305242 ,  0.24740264, -0.68087685],\n",
       "        [ 0.8343725 ,  0.06932276, -0.51041687,  0.10683841, -0.49493054,\n",
       "         -0.29482195, -0.379548  , -0.09096699, -0.5629694 , -0.45898905],\n",
       "        [ 0.28220025, -0.09061925, -0.14391005, -0.40321347, -0.07932976,\n",
       "         -0.65339464, -0.5552505 ,  0.62962997,  0.4970135 ,  0.9415892 ],\n",
       "        [ 0.10123213,  0.60460484,  0.43785995,  0.10868789,  0.4034418 ,\n",
       "         -0.07929845, -0.16994004,  0.05152702,  0.06578892,  0.77592516],\n",
       "        [ 0.11245736, -0.05837057, -0.5818949 , -0.35925874,  0.416088  ,\n",
       "         -0.15886094, -0.49106002,  0.05029617, -0.18552905, -0.24788727],\n",
       "        [-0.01723272, -0.17410558, -0.13118254, -0.30242342, -0.44971544,\n",
       "          0.2428265 ,  0.91182935,  0.00129836,  0.48812   , -0.7586008 ],\n",
       "        [-0.00753636,  0.275203  ,  0.2585481 , -0.01592818,  0.27602732,\n",
       "         -0.15820166,  0.01623126,  0.21327129, -0.15638304,  0.08182954],\n",
       "        [ 0.586643  , -0.2709322 , -0.5213761 , -0.08544393,  0.27516508,\n",
       "         -0.14001578, -0.21259102, -0.92334044,  0.59933305, -0.44479766],\n",
       "        [-0.06287929,  0.48822352,  0.18699583,  0.6612559 , -0.27554935,\n",
       "         -0.34667304,  0.73090947, -0.13471094, -0.45150653,  0.16006172]],\n",
       "       dtype=float32),\n",
       " array([0., 0., 0., 0., 0., 0., 0., 0., 0., 0.], dtype=float32),\n",
       " array([[-0.26621768,  0.45946357,  0.13319476,  0.6314639 , -0.07136694,\n",
       "          0.26901317,  0.2682622 , -0.00911498, -0.71638423,  0.01831915],\n",
       "        [-0.5320651 , -0.44168836, -0.3986182 , -0.43581143,  0.17375901,\n",
       "          0.32122657, -0.28523803,  0.10231563, -0.18114948, -0.22953081],\n",
       "        [ 0.53965276,  0.51374596,  0.4154718 , -0.43187845,  0.06699803,\n",
       "          0.17957833,  0.00491856, -0.47118396,  0.44084224, -0.8725769 ],\n",
       "        [ 0.05922221,  0.5019261 , -0.5161378 , -0.29940394,  0.30864456,\n",
       "          0.26499242,  0.72462845,  0.2997469 ,  0.06459627,  0.04499627],\n",
       "        [ 0.20098868, -0.48663965,  0.11474562,  0.1867213 , -0.72908306,\n",
       "          0.49017948, -0.27668568, -0.20500083,  0.18721351, -0.19624875],\n",
       "        [-0.20378996,  0.21516724, -0.13548411,  0.5891991 ,  0.2798666 ,\n",
       "          0.3856653 , -0.6277969 , -0.24712168, -0.56428885,  0.97784483],\n",
       "        [ 0.3315097 , -0.29844192,  0.28491023,  0.57533616, -0.02297064,\n",
       "          0.5007162 , -0.03267906, -0.39481035,  0.73239267,  0.609923  ],\n",
       "        [-0.22762091,  0.153798  ,  0.17621529, -0.05920538,  0.59602237,\n",
       "         -0.3918804 , -0.55257624, -0.43374965, -0.22386798,  0.25688174],\n",
       "        [ 0.8572803 , -0.27950066,  0.0201187 , -0.4120509 , -0.22315829,\n",
       "         -0.57260436,  0.66413313,  0.11335988, -0.9775857 , -0.43021172],\n",
       "        [-0.38408905, -0.16486794, -0.32615325, -0.16168329, -0.6226635 ,\n",
       "         -0.3722246 , -0.23253506,  0.86329603, -0.5929889 ,  0.03553875]],\n",
       "       dtype=float32),\n",
       " array([0., 0., 0., 0., 0., 0., 0., 0., 0., 0.], dtype=float32),\n",
       " array([[ 0.35715684, -0.07219052,  0.41699332,  0.12256059, -0.75507104,\n",
       "         -0.17930217, -0.1869622 ,  0.48181778,  0.2892686 , -0.15995438],\n",
       "        [ 0.29958892,  0.09329204, -0.7157329 , -0.28116992, -0.467477  ,\n",
       "         -0.45571285,  0.08413669,  0.19915515,  0.5252638 ,  0.84664655],\n",
       "        [ 0.22061619, -0.36080956,  0.22494593, -0.3409697 ,  0.12430912,\n",
       "         -0.1705307 , -0.57830966,  0.03430632,  0.46627724,  0.79595095],\n",
       "        [-0.9171184 ,  0.3384652 , -0.1852677 ,  0.02813099, -0.17875691,\n",
       "          0.69187015, -0.05922699,  0.87037516, -0.17135789,  0.41376376],\n",
       "        [ 0.159007  , -0.04959374, -0.7208888 , -0.9111002 ,  0.17765401,\n",
       "          0.21241535,  0.60847676,  0.7773821 ,  0.677388  ,  0.6596383 ],\n",
       "        [-0.13665374,  0.10764784,  0.9526109 , -0.122758  , -0.1507715 ,\n",
       "          0.19972463,  0.23562396, -0.13180707,  0.2604408 , -0.5165348 ],\n",
       "        [ 0.46085572,  0.20334852,  0.5405088 , -0.35141888,  0.6541303 ,\n",
       "         -0.08376645, -0.08399638, -0.13104224, -0.90556103, -0.4191561 ],\n",
       "        [-0.09674527, -0.373253  ,  0.03208418,  0.59136933, -0.28615233,\n",
       "          0.10485842, -0.14507492, -0.40767986, -0.43621597, -0.96297103],\n",
       "        [-0.19048782,  0.78418684, -0.7444719 ,  0.36690968,  0.0553888 ,\n",
       "         -0.5898007 , -0.99039495,  0.14953296,  0.07424597,  0.6102763 ],\n",
       "        [-0.11883103,  0.3232219 , -0.48713636,  0.00273705, -0.330834  ,\n",
       "         -0.48518974,  0.02788083, -0.3027622 , -0.3535396 , -0.28631213]],\n",
       "       dtype=float32),\n",
       " array([0., 0., 0., 0., 0., 0., 0., 0., 0., 0.], dtype=float32),\n",
       " array([[-0.02931592,  0.7046821 ,  0.5282317 ,  0.14341767, -0.09296276,\n",
       "         -0.29158717, -0.09787797, -0.5320666 , -0.52710855, -0.6512489 ],\n",
       "        [ 0.04944872, -0.05349212,  0.09580671,  0.468591  ,  0.12779452,\n",
       "         -0.04538194, -0.30756283,  0.29941854, -0.20896026, -0.50073665],\n",
       "        [ 0.71064794, -0.6019113 ,  0.36199692,  0.90814227,  0.07570819,\n",
       "         -0.6993823 , -0.02414785,  0.4288793 , -0.07823234,  0.16943592],\n",
       "        [ 0.5531853 , -0.41417542, -0.05299148,  0.04087539, -0.23118983,\n",
       "         -0.13515481,  0.06754185,  0.39328128,  0.04166929,  0.58507675],\n",
       "        [-0.44999295, -0.4946136 , -0.41891798, -0.179486  , -0.2064833 ,\n",
       "         -0.4448337 , -0.08412357, -0.37164542,  0.53241676,  0.44368258],\n",
       "        [-0.6514047 ,  0.29649842, -0.86665237,  0.44469276, -0.25410038,\n",
       "          0.72981006,  0.20974258,  0.8909853 , -0.644878  , -0.70783824],\n",
       "        [ 0.33516192, -0.16235583, -0.18585058, -0.5354387 , -0.2624251 ,\n",
       "          0.8421379 , -0.6443243 ,  0.4040675 ,  0.07101703, -0.99873006],\n",
       "        [-0.3193887 , -0.41462457, -0.05828143, -0.42057917, -0.30357522,\n",
       "         -0.32425705,  0.44520554, -0.5933331 ,  0.7444105 , -0.29232502],\n",
       "        [ 0.5391189 ,  0.73564124, -0.7278895 , -0.33706966,  0.1124353 ,\n",
       "          0.34051523, -0.10626404,  0.14612636, -0.45706   , -0.5522522 ],\n",
       "        [-0.22308819,  0.17454621,  0.95681244,  0.15985903,  0.5014241 ,\n",
       "         -0.53080255, -0.82957345, -0.94200104, -0.09917408,  0.24501495]],\n",
       "       dtype=float32),\n",
       " array([0., 0., 0., 0., 0., 0., 0., 0., 0., 0.], dtype=float32),\n",
       " array([[-0.00421298],\n",
       "        [-0.64769566],\n",
       "        [ 0.2966339 ],\n",
       "        [-0.44548124],\n",
       "        [ 0.0873161 ],\n",
       "        [-0.39943165],\n",
       "        [-0.21696514],\n",
       "        [ 0.19298011],\n",
       "        [-0.00557888],\n",
       "        [ 0.29369563]], dtype=float32),\n",
       " array([0.], dtype=float32)]"
      ]
     },
     "execution_count": 7,
     "metadata": {},
     "output_type": "execute_result"
    }
   ],
   "source": [
    "model.get_weights()"
   ]
  },
  {
   "cell_type": "code",
   "execution_count": null,
   "id": "3b37aebc-84b1-425c-a1b6-2d7b2d76db5f",
   "metadata": {},
   "outputs": [],
   "source": []
  }
 ],
 "metadata": {
  "kernelspec": {
   "display_name": "Python 3 (ipykernel)",
   "language": "python",
   "name": "python3"
  },
  "language_info": {
   "codemirror_mode": {
    "name": "ipython",
    "version": 3
   },
   "file_extension": ".py",
   "mimetype": "text/x-python",
   "name": "python",
   "nbconvert_exporter": "python",
   "pygments_lexer": "ipython3",
   "version": "3.12.3"
  }
 },
 "nbformat": 4,
 "nbformat_minor": 5
}
