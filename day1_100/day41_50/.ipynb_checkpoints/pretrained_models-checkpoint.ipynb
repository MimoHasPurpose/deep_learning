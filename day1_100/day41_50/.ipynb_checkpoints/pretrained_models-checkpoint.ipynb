{
  "metadata": {
    "kernelspec": {
      "language": "python",
      "display_name": "Python 3",
      "name": "python3"
    },
    "language_info": {
      "name": "python",
      "version": "3.11.11",
      "mimetype": "text/x-python",
      "codemirror_mode": {
        "name": "ipython",
        "version": 3
      },
      "pygments_lexer": "ipython3",
      "nbconvert_exporter": "python",
      "file_extension": ".py"
    },
    "kaggle": {
      "accelerator": "none",
      "dataSources": [
        {
          "sourceId": 12177923,
          "sourceType": "datasetVersion",
          "datasetId": 7669731
        }
      ],
      "dockerImageVersionId": 31040,
      "isInternetEnabled": true,
      "language": "python",
      "sourceType": "notebook",
      "isGpuEnabled": false
    },
    "colab": {
      "name": "pretrained_models",
      "provenance": []
    }
  },
  "nbformat_minor": 0,
  "nbformat": 4,
  "cells": [
    {
      "source": [
        "# IMPORTANT: RUN THIS CELL IN ORDER TO IMPORT YOUR KAGGLE DATA SOURCES,\n",
        "# THEN FEEL FREE TO DELETE THIS CELL.\n",
        "# NOTE: THIS NOTEBOOK ENVIRONMENT DIFFERS FROM KAGGLE'S PYTHON\n",
        "# ENVIRONMENT SO THERE MAY BE MISSING LIBRARIES USED BY YOUR\n",
        "# NOTEBOOK.\n",
        "import kagglehub\n",
        "sanjaysinghgurjar122_shinchan_dataset_path = kagglehub.dataset_download('sanjaysinghgurjar122/shinchan-dataset')\n",
        "\n",
        "print('Data source import complete.')\n"
      ],
      "metadata": {
        "id": "rj4e78iwSA_k"
      },
      "cell_type": "code",
      "outputs": [],
      "execution_count": null
    },
    {
      "cell_type": "markdown",
      "source": [],
      "metadata": {
        "_uuid": "8f2839f25d086af736a60e9eeb907d3b93b6e0e5",
        "_cell_guid": "b1076dfc-b9ad-4769-8c92-a6c4dae69d19",
        "id": "S72oMCJySA_t"
      }
    },
    {
      "cell_type": "markdown",
      "source": [],
      "metadata": {
        "id": "b3LTm99QSA_x"
      }
    },
    {
      "cell_type": "markdown",
      "source": [],
      "metadata": {
        "id": "SYwysBrUSA_y"
      }
    },
    {
      "cell_type": "code",
      "source": [
        "from tensorflow.keras.applications.resnet50 import ResNet50\n",
        "from tensorflow.keras.preprocessing import image\n",
        "from tensorflow.keras.applications.resnet50 import preprocess_input,decode_predictions\n",
        "import numpy as np"
      ],
      "metadata": {
        "trusted": true,
        "execution": {
          "iopub.status.busy": "2025-06-16T00:48:42.392236Z",
          "iopub.execute_input": "2025-06-16T00:48:42.392513Z",
          "iopub.status.idle": "2025-06-16T00:49:00.413313Z",
          "shell.execute_reply.started": "2025-06-16T00:48:42.392492Z",
          "shell.execute_reply": "2025-06-16T00:49:00.412265Z"
        },
        "id": "Z1Q5cPXESA_z"
      },
      "outputs": [],
      "execution_count": null
    },
    {
      "cell_type": "code",
      "source": [
        "import matplotlib.pyplot as plt\n"
      ],
      "metadata": {
        "trusted": true,
        "execution": {
          "iopub.status.busy": "2025-06-16T00:57:19.722767Z",
          "iopub.execute_input": "2025-06-16T00:57:19.72314Z",
          "iopub.status.idle": "2025-06-16T00:57:19.727894Z",
          "shell.execute_reply.started": "2025-06-16T00:57:19.723115Z",
          "shell.execute_reply": "2025-06-16T00:57:19.726737Z"
        },
        "id": "Zxyq4HIzSA_2"
      },
      "outputs": [],
      "execution_count": null
    },
    {
      "cell_type": "code",
      "source": [],
      "metadata": {
        "trusted": true,
        "id": "ZtfLKPxGSA_6"
      },
      "outputs": [],
      "execution_count": null
    },
    {
      "cell_type": "code",
      "source": [
        "model=ResNet50(weights='imagenet')"
      ],
      "metadata": {
        "trusted": true,
        "execution": {
          "iopub.status.busy": "2025-06-16T00:49:16.29486Z",
          "iopub.execute_input": "2025-06-16T00:49:16.295176Z",
          "iopub.status.idle": "2025-06-16T00:49:21.280184Z",
          "shell.execute_reply.started": "2025-06-16T00:49:16.295156Z",
          "shell.execute_reply": "2025-06-16T00:49:21.279074Z"
        },
        "id": "zci4IJzpSA_7"
      },
      "outputs": [],
      "execution_count": null
    },
    {
      "cell_type": "code",
      "source": [
        "img_path='/kaggle/input/shinchan-dataset/ig.jpg'\n",
        "img_path2='/kaggle/input/shinchan-dataset/ig2.jpg'\n",
        "img_path3='/kaggle/input/shinchan-dataset/ig3.jpg'\n",
        "img_path4='/kaggle/input/shinchan-dataset/ig4.jpg'"
      ],
      "metadata": {
        "trusted": true,
        "execution": {
          "iopub.status.busy": "2025-06-16T01:01:04.596966Z",
          "iopub.execute_input": "2025-06-16T01:01:04.597357Z",
          "iopub.status.idle": "2025-06-16T01:01:04.601732Z",
          "shell.execute_reply.started": "2025-06-16T01:01:04.597333Z",
          "shell.execute_reply": "2025-06-16T01:01:04.600971Z"
        },
        "id": "_MDSbL1qSA_9"
      },
      "outputs": [],
      "execution_count": null
    },
    {
      "cell_type": "code",
      "source": [
        "img=image.load_img(img_path,target_size=(224,224))\n",
        "img2=image.load_img(img_path2,target_size=(224,224))\n",
        "img3=image.load_img(img_path3,target_size=(224,224))\n",
        "img4=image.load_img(img_path4,target_size=(224,224))"
      ],
      "metadata": {
        "trusted": true,
        "execution": {
          "iopub.status.busy": "2025-06-16T01:01:07.448952Z",
          "iopub.execute_input": "2025-06-16T01:01:07.449291Z",
          "iopub.status.idle": "2025-06-16T01:01:07.486853Z",
          "shell.execute_reply.started": "2025-06-16T01:01:07.449264Z",
          "shell.execute_reply": "2025-06-16T01:01:07.486094Z"
        },
        "id": "q0qEMYqUSA_-"
      },
      "outputs": [],
      "execution_count": null
    },
    {
      "cell_type": "code",
      "source": [
        "plt.imshow(img2)"
      ],
      "metadata": {
        "trusted": true,
        "execution": {
          "iopub.status.busy": "2025-06-16T01:01:19.40215Z",
          "iopub.execute_input": "2025-06-16T01:01:19.402459Z",
          "iopub.status.idle": "2025-06-16T01:01:19.614241Z",
          "shell.execute_reply.started": "2025-06-16T01:01:19.402437Z",
          "shell.execute_reply": "2025-06-16T01:01:19.613284Z"
        },
        "id": "Hhq3VEkeSBAA"
      },
      "outputs": [],
      "execution_count": null
    },
    {
      "cell_type": "code",
      "source": [
        "x=image.img_to_array(img)\n",
        "x=np.expand_dims(x,axis=0)\n",
        "x=preprocess_input(x)"
      ],
      "metadata": {
        "trusted": true,
        "execution": {
          "iopub.status.busy": "2025-06-16T00:54:24.031424Z",
          "iopub.execute_input": "2025-06-16T00:54:24.031794Z",
          "iopub.status.idle": "2025-06-16T00:54:24.037962Z",
          "shell.execute_reply.started": "2025-06-16T00:54:24.031769Z",
          "shell.execute_reply": "2025-06-16T00:54:24.037094Z"
        },
        "id": "E2o-ExMKSBAC"
      },
      "outputs": [],
      "execution_count": null
    },
    {
      "cell_type": "code",
      "source": [
        "x"
      ],
      "metadata": {
        "trusted": true,
        "execution": {
          "iopub.status.busy": "2025-06-16T00:55:10.598178Z",
          "iopub.execute_input": "2025-06-16T00:55:10.598506Z",
          "iopub.status.idle": "2025-06-16T00:55:10.606489Z",
          "shell.execute_reply.started": "2025-06-16T00:55:10.598486Z",
          "shell.execute_reply": "2025-06-16T00:55:10.605724Z"
        },
        "id": "nfDgG5SYSBAE"
      },
      "outputs": [],
      "execution_count": null
    },
    {
      "cell_type": "code",
      "source": [
        "preds=model.predict(x)"
      ],
      "metadata": {
        "trusted": true,
        "execution": {
          "iopub.status.busy": "2025-06-16T00:55:20.910129Z",
          "iopub.execute_input": "2025-06-16T00:55:20.91041Z",
          "iopub.status.idle": "2025-06-16T00:55:24.13448Z",
          "shell.execute_reply.started": "2025-06-16T00:55:20.910391Z",
          "shell.execute_reply": "2025-06-16T00:55:24.13367Z"
        },
        "id": "KRiT9UdASBAH"
      },
      "outputs": [],
      "execution_count": null
    },
    {
      "cell_type": "code",
      "source": [
        "preds"
      ],
      "metadata": {
        "trusted": true,
        "execution": {
          "iopub.status.busy": "2025-06-16T00:55:32.823Z",
          "iopub.execute_input": "2025-06-16T00:55:32.82335Z",
          "iopub.status.idle": "2025-06-16T00:55:32.837932Z",
          "shell.execute_reply.started": "2025-06-16T00:55:32.823328Z",
          "shell.execute_reply": "2025-06-16T00:55:32.836959Z"
        },
        "id": "AWj5IrtRSBAJ"
      },
      "outputs": [],
      "execution_count": null
    },
    {
      "cell_type": "code",
      "source": [
        "print('predicted',decode_predictions(preds,top=10)[0])"
      ],
      "metadata": {
        "trusted": true,
        "execution": {
          "iopub.status.busy": "2025-06-16T00:56:10.248244Z",
          "iopub.execute_input": "2025-06-16T00:56:10.248611Z",
          "iopub.status.idle": "2025-06-16T00:56:10.443602Z",
          "shell.execute_reply.started": "2025-06-16T00:56:10.248587Z",
          "shell.execute_reply": "2025-06-16T00:56:10.442692Z"
        },
        "id": "sSP9rczvSBAJ"
      },
      "outputs": [],
      "execution_count": null
    },
    {
      "cell_type": "code",
      "source": [
        "plt.imshow(img)"
      ],
      "metadata": {
        "trusted": true,
        "execution": {
          "iopub.status.busy": "2025-06-16T00:57:35.70681Z",
          "iopub.execute_input": "2025-06-16T00:57:35.707149Z",
          "iopub.status.idle": "2025-06-16T00:57:35.963167Z",
          "shell.execute_reply.started": "2025-06-16T00:57:35.707124Z",
          "shell.execute_reply": "2025-06-16T00:57:35.962295Z"
        },
        "id": "PJQZIC3mSBAK"
      },
      "outputs": [],
      "execution_count": null
    },
    {
      "cell_type": "code",
      "source": [
        "x=image.img_to_array(img2)\n",
        "x=np.expand_dims(x,axis=0)\n",
        "x=preprocess_input(x)\n",
        "preds=model.predict(x)\n",
        "print('predicted',decode_predictions(preds,top=10)[0])"
      ],
      "metadata": {
        "trusted": true,
        "execution": {
          "iopub.status.busy": "2025-06-16T01:02:07.903796Z",
          "iopub.execute_input": "2025-06-16T01:02:07.904484Z",
          "iopub.status.idle": "2025-06-16T01:02:08.115947Z",
          "shell.execute_reply.started": "2025-06-16T01:02:07.90446Z",
          "shell.execute_reply": "2025-06-16T01:02:08.115167Z"
        },
        "id": "A6Jq6HHRSBAM"
      },
      "outputs": [],
      "execution_count": null
    },
    {
      "cell_type": "code",
      "source": [
        "plt.imshow(img2)"
      ],
      "metadata": {
        "trusted": true,
        "execution": {
          "iopub.status.busy": "2025-06-16T01:02:15.906667Z",
          "iopub.execute_input": "2025-06-16T01:02:15.907801Z",
          "iopub.status.idle": "2025-06-16T01:02:16.113998Z",
          "shell.execute_reply.started": "2025-06-16T01:02:15.907769Z",
          "shell.execute_reply": "2025-06-16T01:02:16.112908Z"
        },
        "id": "8r-eOjPqSBAN"
      },
      "outputs": [],
      "execution_count": null
    },
    {
      "cell_type": "code",
      "source": [
        "x=image.img_to_array(img3)\n",
        "x=np.expand_dims(x,axis=0)\n",
        "x=preprocess_input(x)\n",
        "preds=model.predict(x)\n",
        "print('predicted',decode_predictions(preds,top=10)[0])"
      ],
      "metadata": {
        "trusted": true,
        "execution": {
          "iopub.status.busy": "2025-06-16T01:02:38.683925Z",
          "iopub.execute_input": "2025-06-16T01:02:38.684599Z",
          "iopub.status.idle": "2025-06-16T01:02:38.894649Z",
          "shell.execute_reply.started": "2025-06-16T01:02:38.684573Z",
          "shell.execute_reply": "2025-06-16T01:02:38.893881Z"
        },
        "id": "Lxiw_LGZSBAO"
      },
      "outputs": [],
      "execution_count": null
    },
    {
      "cell_type": "code",
      "source": [
        "plt.imshow(img3)"
      ],
      "metadata": {
        "trusted": true,
        "execution": {
          "iopub.status.busy": "2025-06-16T01:02:47.773558Z",
          "iopub.execute_input": "2025-06-16T01:02:47.77387Z",
          "iopub.status.idle": "2025-06-16T01:02:47.976166Z",
          "shell.execute_reply.started": "2025-06-16T01:02:47.773849Z",
          "shell.execute_reply": "2025-06-16T01:02:47.975177Z"
        },
        "id": "Sp3w6AweSBAP"
      },
      "outputs": [],
      "execution_count": null
    },
    {
      "cell_type": "code",
      "source": [
        "x=image.img_to_array(img4)\n",
        "x=np.expand_dims(x,axis=0)\n",
        "x=preprocess_input(x)\n",
        "preds=model.predict(x)\n",
        "print('predicted',decode_predictions(preds,top=50)[0])"
      ],
      "metadata": {
        "trusted": true,
        "execution": {
          "iopub.status.busy": "2025-06-16T01:04:59.650267Z",
          "iopub.execute_input": "2025-06-16T01:04:59.650583Z",
          "iopub.status.idle": "2025-06-16T01:04:59.85758Z",
          "shell.execute_reply.started": "2025-06-16T01:04:59.650564Z",
          "shell.execute_reply": "2025-06-16T01:04:59.856629Z"
        },
        "id": "RQmUp2d0SBAR"
      },
      "outputs": [],
      "execution_count": null
    },
    {
      "cell_type": "code",
      "source": [
        "plt.imshow(img4)"
      ],
      "metadata": {
        "trusted": true,
        "execution": {
          "iopub.status.busy": "2025-06-16T01:03:11.835966Z",
          "iopub.execute_input": "2025-06-16T01:03:11.836294Z",
          "iopub.status.idle": "2025-06-16T01:03:12.043161Z",
          "shell.execute_reply.started": "2025-06-16T01:03:11.836274Z",
          "shell.execute_reply": "2025-06-16T01:03:12.042037Z"
        },
        "id": "iKY-afnlSBAT"
      },
      "outputs": [],
      "execution_count": null
    },
    {
      "cell_type": "code",
      "source": [],
      "metadata": {
        "trusted": true,
        "id": "0dY3Y_BGSBAT"
      },
      "outputs": [],
      "execution_count": null
    }
  ]
}