{
 "cells": [
  {
   "cell_type": "code",
   "execution_count": null,
   "metadata": {
    "id": "rj4e78iwSA_k"
   },
   "outputs": [],
   "source": [
    "# IMPORTANT: RUN THIS CELL IN ORDER TO IMPORT YOUR KAGGLE DATA SOURCES,\n",
    "# THEN FEEL FREE TO DELETE THIS CELL.\n",
    "# NOTE: THIS NOTEBOOK ENVIRONMENT DIFFERS FROM KAGGLE'S PYTHON\n",
    "# ENVIRONMENT SO THERE MAY BE MISSING LIBRARIES USED BY YOUR\n",
    "# NOTEBOOK.\n",
    "import kagglehub\n",
    "sanjaysinghgurjar122_shinchan_dataset_path = kagglehub.dataset_download('sanjaysinghgurjar122/shinchan-dataset')\n",
    "\n",
    "print('Data source import complete.')\n"
   ]
  },
  {
   "cell_type": "markdown",
   "metadata": {
    "_cell_guid": "b1076dfc-b9ad-4769-8c92-a6c4dae69d19",
    "_uuid": "8f2839f25d086af736a60e9eeb907d3b93b6e0e5",
    "id": "S72oMCJySA_t"
   },
   "source": []
  },
  {
   "cell_type": "markdown",
   "metadata": {
    "id": "b3LTm99QSA_x"
   },
   "source": []
  },
  {
   "cell_type": "markdown",
   "metadata": {
    "id": "SYwysBrUSA_y"
   },
   "source": []
  },
  {
   "cell_type": "code",
   "execution_count": null,
   "metadata": {
    "execution": {
     "iopub.execute_input": "2025-06-16T00:48:42.392513Z",
     "iopub.status.busy": "2025-06-16T00:48:42.392236Z",
     "iopub.status.idle": "2025-06-16T00:49:00.413313Z",
     "shell.execute_reply": "2025-06-16T00:49:00.412265Z",
     "shell.execute_reply.started": "2025-06-16T00:48:42.392492Z"
    },
    "id": "Z1Q5cPXESA_z"
   },
   "outputs": [],
   "source": [
    "from tensorflow.keras.applications.resnet50 import ResNet50\n",
    "from tensorflow.keras.preprocessing import image\n",
    "from tensorflow.keras.applications.resnet50 import preprocess_input,decode_predictions\n",
    "import numpy as np"
   ]
  },
  {
   "cell_type": "code",
   "execution_count": null,
   "metadata": {
    "execution": {
     "iopub.execute_input": "2025-06-16T00:57:19.72314Z",
     "iopub.status.busy": "2025-06-16T00:57:19.722767Z",
     "iopub.status.idle": "2025-06-16T00:57:19.727894Z",
     "shell.execute_reply": "2025-06-16T00:57:19.726737Z",
     "shell.execute_reply.started": "2025-06-16T00:57:19.723115Z"
    },
    "id": "Zxyq4HIzSA_2"
   },
   "outputs": [],
   "source": [
    "import matplotlib.pyplot as plt\n"
   ]
  },
  {
   "cell_type": "code",
   "execution_count": null,
   "metadata": {
    "id": "ZtfLKPxGSA_6"
   },
   "outputs": [],
   "source": []
  },
  {
   "cell_type": "code",
   "execution_count": null,
   "metadata": {
    "execution": {
     "iopub.execute_input": "2025-06-16T00:49:16.295176Z",
     "iopub.status.busy": "2025-06-16T00:49:16.29486Z",
     "iopub.status.idle": "2025-06-16T00:49:21.280184Z",
     "shell.execute_reply": "2025-06-16T00:49:21.279074Z",
     "shell.execute_reply.started": "2025-06-16T00:49:16.295156Z"
    },
    "id": "zci4IJzpSA_7"
   },
   "outputs": [],
   "source": [
    "model=ResNet50(weights='imagenet')"
   ]
  },
  {
   "cell_type": "code",
   "execution_count": null,
   "metadata": {
    "execution": {
     "iopub.execute_input": "2025-06-16T01:01:04.597357Z",
     "iopub.status.busy": "2025-06-16T01:01:04.596966Z",
     "iopub.status.idle": "2025-06-16T01:01:04.601732Z",
     "shell.execute_reply": "2025-06-16T01:01:04.600971Z",
     "shell.execute_reply.started": "2025-06-16T01:01:04.597333Z"
    },
    "id": "_MDSbL1qSA_9"
   },
   "outputs": [],
   "source": [
    "img_path='/kaggle/input/shinchan-dataset/ig.jpg'\n",
    "img_path2='/kaggle/input/shinchan-dataset/ig2.jpg'\n",
    "img_path3='/kaggle/input/shinchan-dataset/ig3.jpg'\n",
    "img_path4='/kaggle/input/shinchan-dataset/ig4.jpg'"
   ]
  },
  {
   "cell_type": "code",
   "execution_count": null,
   "metadata": {
    "execution": {
     "iopub.execute_input": "2025-06-16T01:01:07.449291Z",
     "iopub.status.busy": "2025-06-16T01:01:07.448952Z",
     "iopub.status.idle": "2025-06-16T01:01:07.486853Z",
     "shell.execute_reply": "2025-06-16T01:01:07.486094Z",
     "shell.execute_reply.started": "2025-06-16T01:01:07.449264Z"
    },
    "id": "q0qEMYqUSA_-"
   },
   "outputs": [],
   "source": [
    "img=image.load_img(img_path,target_size=(224,224))\n",
    "img2=image.load_img(img_path2,target_size=(224,224))\n",
    "img3=image.load_img(img_path3,target_size=(224,224))\n",
    "img4=image.load_img(img_path4,target_size=(224,224))"
   ]
  },
  {
   "cell_type": "code",
   "execution_count": null,
   "metadata": {
    "execution": {
     "iopub.execute_input": "2025-06-16T01:01:19.402459Z",
     "iopub.status.busy": "2025-06-16T01:01:19.40215Z",
     "iopub.status.idle": "2025-06-16T01:01:19.614241Z",
     "shell.execute_reply": "2025-06-16T01:01:19.613284Z",
     "shell.execute_reply.started": "2025-06-16T01:01:19.402437Z"
    },
    "id": "Hhq3VEkeSBAA"
   },
   "outputs": [],
   "source": [
    "plt.imshow(img2)"
   ]
  },
  {
   "cell_type": "code",
   "execution_count": null,
   "metadata": {
    "execution": {
     "iopub.execute_input": "2025-06-16T00:54:24.031794Z",
     "iopub.status.busy": "2025-06-16T00:54:24.031424Z",
     "iopub.status.idle": "2025-06-16T00:54:24.037962Z",
     "shell.execute_reply": "2025-06-16T00:54:24.037094Z",
     "shell.execute_reply.started": "2025-06-16T00:54:24.031769Z"
    },
    "id": "E2o-ExMKSBAC"
   },
   "outputs": [],
   "source": [
    "x=image.img_to_array(img)\n",
    "x=np.expand_dims(x,axis=0)\n",
    "x=preprocess_input(x)"
   ]
  },
  {
   "cell_type": "code",
   "execution_count": null,
   "metadata": {
    "execution": {
     "iopub.execute_input": "2025-06-16T00:55:10.598506Z",
     "iopub.status.busy": "2025-06-16T00:55:10.598178Z",
     "iopub.status.idle": "2025-06-16T00:55:10.606489Z",
     "shell.execute_reply": "2025-06-16T00:55:10.605724Z",
     "shell.execute_reply.started": "2025-06-16T00:55:10.598486Z"
    },
    "id": "nfDgG5SYSBAE"
   },
   "outputs": [],
   "source": [
    "x"
   ]
  },
  {
   "cell_type": "code",
   "execution_count": null,
   "metadata": {
    "execution": {
     "iopub.execute_input": "2025-06-16T00:55:20.91041Z",
     "iopub.status.busy": "2025-06-16T00:55:20.910129Z",
     "iopub.status.idle": "2025-06-16T00:55:24.13448Z",
     "shell.execute_reply": "2025-06-16T00:55:24.13367Z",
     "shell.execute_reply.started": "2025-06-16T00:55:20.910391Z"
    },
    "id": "KRiT9UdASBAH"
   },
   "outputs": [],
   "source": [
    "preds=model.predict(x)"
   ]
  },
  {
   "cell_type": "code",
   "execution_count": null,
   "metadata": {
    "execution": {
     "iopub.execute_input": "2025-06-16T00:55:32.82335Z",
     "iopub.status.busy": "2025-06-16T00:55:32.823Z",
     "iopub.status.idle": "2025-06-16T00:55:32.837932Z",
     "shell.execute_reply": "2025-06-16T00:55:32.836959Z",
     "shell.execute_reply.started": "2025-06-16T00:55:32.823328Z"
    },
    "id": "AWj5IrtRSBAJ"
   },
   "outputs": [],
   "source": [
    "preds"
   ]
  },
  {
   "cell_type": "code",
   "execution_count": null,
   "metadata": {
    "execution": {
     "iopub.execute_input": "2025-06-16T00:56:10.248611Z",
     "iopub.status.busy": "2025-06-16T00:56:10.248244Z",
     "iopub.status.idle": "2025-06-16T00:56:10.443602Z",
     "shell.execute_reply": "2025-06-16T00:56:10.442692Z",
     "shell.execute_reply.started": "2025-06-16T00:56:10.248587Z"
    },
    "id": "sSP9rczvSBAJ"
   },
   "outputs": [],
   "source": [
    "print('predicted',decode_predictions(preds,top=10)[0])"
   ]
  },
  {
   "cell_type": "code",
   "execution_count": null,
   "metadata": {
    "execution": {
     "iopub.execute_input": "2025-06-16T00:57:35.707149Z",
     "iopub.status.busy": "2025-06-16T00:57:35.70681Z",
     "iopub.status.idle": "2025-06-16T00:57:35.963167Z",
     "shell.execute_reply": "2025-06-16T00:57:35.962295Z",
     "shell.execute_reply.started": "2025-06-16T00:57:35.707124Z"
    },
    "id": "PJQZIC3mSBAK"
   },
   "outputs": [],
   "source": [
    "plt.imshow(img)"
   ]
  },
  {
   "cell_type": "code",
   "execution_count": null,
   "metadata": {
    "execution": {
     "iopub.execute_input": "2025-06-16T01:02:07.904484Z",
     "iopub.status.busy": "2025-06-16T01:02:07.903796Z",
     "iopub.status.idle": "2025-06-16T01:02:08.115947Z",
     "shell.execute_reply": "2025-06-16T01:02:08.115167Z",
     "shell.execute_reply.started": "2025-06-16T01:02:07.90446Z"
    },
    "id": "A6Jq6HHRSBAM"
   },
   "outputs": [],
   "source": [
    "x=image.img_to_array(img2)\n",
    "x=np.expand_dims(x,axis=0)\n",
    "x=preprocess_input(x)\n",
    "preds=model.predict(x)\n",
    "print('predicted',decode_predictions(preds,top=10)[0])"
   ]
  },
  {
   "cell_type": "code",
   "execution_count": null,
   "metadata": {
    "execution": {
     "iopub.execute_input": "2025-06-16T01:02:15.907801Z",
     "iopub.status.busy": "2025-06-16T01:02:15.906667Z",
     "iopub.status.idle": "2025-06-16T01:02:16.113998Z",
     "shell.execute_reply": "2025-06-16T01:02:16.112908Z",
     "shell.execute_reply.started": "2025-06-16T01:02:15.907769Z"
    },
    "id": "8r-eOjPqSBAN"
   },
   "outputs": [],
   "source": [
    "plt.imshow(img2)"
   ]
  },
  {
   "cell_type": "code",
   "execution_count": null,
   "metadata": {
    "execution": {
     "iopub.execute_input": "2025-06-16T01:02:38.684599Z",
     "iopub.status.busy": "2025-06-16T01:02:38.683925Z",
     "iopub.status.idle": "2025-06-16T01:02:38.894649Z",
     "shell.execute_reply": "2025-06-16T01:02:38.893881Z",
     "shell.execute_reply.started": "2025-06-16T01:02:38.684573Z"
    },
    "id": "Lxiw_LGZSBAO"
   },
   "outputs": [],
   "source": [
    "x=image.img_to_array(img3)\n",
    "x=np.expand_dims(x,axis=0)\n",
    "x=preprocess_input(x)\n",
    "preds=model.predict(x)\n",
    "print('predicted',decode_predictions(preds,top=10)[0])"
   ]
  },
  {
   "cell_type": "code",
   "execution_count": null,
   "metadata": {
    "execution": {
     "iopub.execute_input": "2025-06-16T01:02:47.77387Z",
     "iopub.status.busy": "2025-06-16T01:02:47.773558Z",
     "iopub.status.idle": "2025-06-16T01:02:47.976166Z",
     "shell.execute_reply": "2025-06-16T01:02:47.975177Z",
     "shell.execute_reply.started": "2025-06-16T01:02:47.773849Z"
    },
    "id": "Sp3w6AweSBAP"
   },
   "outputs": [],
   "source": [
    "plt.imshow(img3)"
   ]
  },
  {
   "cell_type": "code",
   "execution_count": null,
   "metadata": {
    "execution": {
     "iopub.execute_input": "2025-06-16T01:04:59.650583Z",
     "iopub.status.busy": "2025-06-16T01:04:59.650267Z",
     "iopub.status.idle": "2025-06-16T01:04:59.85758Z",
     "shell.execute_reply": "2025-06-16T01:04:59.856629Z",
     "shell.execute_reply.started": "2025-06-16T01:04:59.650564Z"
    },
    "id": "RQmUp2d0SBAR"
   },
   "outputs": [],
   "source": [
    "x=image.img_to_array(img4)\n",
    "x=np.expand_dims(x,axis=0)\n",
    "x=preprocess_input(x)\n",
    "preds=model.predict(x)\n",
    "print('predicted',decode_predictions(preds,top=50)[0])"
   ]
  },
  {
   "cell_type": "code",
   "execution_count": null,
   "metadata": {
    "execution": {
     "iopub.execute_input": "2025-06-16T01:03:11.836294Z",
     "iopub.status.busy": "2025-06-16T01:03:11.835966Z",
     "iopub.status.idle": "2025-06-16T01:03:12.043161Z",
     "shell.execute_reply": "2025-06-16T01:03:12.042037Z",
     "shell.execute_reply.started": "2025-06-16T01:03:11.836274Z"
    },
    "id": "iKY-afnlSBAT"
   },
   "outputs": [],
   "source": [
    "plt.imshow(img4)"
   ]
  },
  {
   "cell_type": "code",
   "execution_count": null,
   "metadata": {
    "id": "0dY3Y_BGSBAT"
   },
   "outputs": [],
   "source": []
  }
 ],
 "metadata": {
  "colab": {
   "name": "pretrained_models",
   "provenance": []
  },
  "kaggle": {
   "accelerator": "none",
   "dataSources": [
    {
     "datasetId": 7669731,
     "sourceId": 12177923,
     "sourceType": "datasetVersion"
    }
   ],
   "dockerImageVersionId": 31040,
   "isGpuEnabled": false,
   "isInternetEnabled": true,
   "language": "python",
   "sourceType": "notebook"
  },
  "kernelspec": {
   "display_name": "Python 3 (ipykernel)",
   "language": "python",
   "name": "python3"
  },
  "language_info": {
   "codemirror_mode": {
    "name": "ipython",
    "version": 3
   },
   "file_extension": ".py",
   "mimetype": "text/x-python",
   "name": "python",
   "nbconvert_exporter": "python",
   "pygments_lexer": "ipython3",
   "version": "3.12.3"
  }
 },
 "nbformat": 4,
 "nbformat_minor": 4
}
