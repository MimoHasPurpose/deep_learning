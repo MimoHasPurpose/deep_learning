{
 "cells": [
  {
   "cell_type": "markdown",
   "id": "71a2bb0a-2602-411a-a48b-ffafea0025b6",
   "metadata": {},
   "source": [
    "### Objective: Study GAN\n",
    "- Aim: explore GAN structure\n",
    "- Tools required: jupyter lab\n",
    "- Methodology:\n",
    "    1. modify structure\n",
    "- Calculation:\n",
    "    1. time and space calculations\n",
    "    2. parameters studied\n",
    "           - \n",
    "- Results\n",
    "- Insights\n"
   ]
  },
  {
   "cell_type": "markdown",
   "id": "df981d8d-3407-48dc-bb0a-e406e7b0a894",
   "metadata": {},
   "source": [
    "## modify structure:\n",
    "- different training dataset, check which available\n",
    "- \n",
    "  - small images\n",
    "  - big images\n",
    "  - cartoon images and real images\n",
    "  - example:\n",
    "    - boston_housing\n",
    "    - california_housing\n",
    "    - cifar10\n",
    "    - cifar100\n",
    "    - fashion_mnist\n",
    "    - imdb\n",
    "    - reuters\n",
    "3. adding layers in generator model\n",
    "4.  \" \" discriminator model\n",
    "5.  "
   ]
  },
  {
   "cell_type": "code",
   "execution_count": null,
   "id": "e22035bd-187a-45f7-b3f7-1f31f1c680ba",
   "metadata": {},
   "outputs": [],
   "source": []
  }
 ],
 "metadata": {
  "kernelspec": {
   "display_name": "Python 3 (ipykernel)",
   "language": "python",
   "name": "python3"
  },
  "language_info": {
   "codemirror_mode": {
    "name": "ipython",
    "version": 3
   },
   "file_extension": ".py",
   "mimetype": "text/x-python",
   "name": "python",
   "nbconvert_exporter": "python",
   "pygments_lexer": "ipython3",
   "version": "3.12.3"
  }
 },
 "nbformat": 4,
 "nbformat_minor": 5
}
