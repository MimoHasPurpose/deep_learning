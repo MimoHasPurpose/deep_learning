{
 "cells": [
  {
   "cell_type": "markdown",
   "id": "a4a7ba47-c04f-45e3-a175-b6326e76952f",
   "metadata": {},
   "source": [
    "# Date: 22/6/25\n",
    "### Experiment: "
   ]
  },
  {
   "cell_type": "code",
   "execution_count": null,
   "id": "e2675a26-f536-4728-b0f8-247798a9a488",
   "metadata": {},
   "outputs": [],
   "source": []
  }
 ],
 "metadata": {
  "kernelspec": {
   "display_name": "Python 3 (ipykernel)",
   "language": "python",
   "name": "python3"
  },
  "language_info": {
   "codemirror_mode": {
    "name": "ipython",
    "version": 3
   },
   "file_extension": ".py",
   "mimetype": "text/x-python",
   "name": "python",
   "nbconvert_exporter": "python",
   "pygments_lexer": "ipython3",
   "version": "3.12.3"
  }
 },
 "nbformat": 4,
 "nbformat_minor": 5
}
