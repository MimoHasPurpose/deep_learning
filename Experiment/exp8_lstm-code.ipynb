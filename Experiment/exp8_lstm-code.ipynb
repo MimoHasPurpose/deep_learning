{
 "cells": [
  {
   "cell_type": "code",
   "execution_count": 60,
   "metadata": {
    "executionInfo": {
     "elapsed": 885,
     "status": "ok",
     "timestamp": 1738693881351,
     "user": {
      "displayName": "CampusX",
      "userId": "17274569631252575216"
     },
     "user_tz": -330
    },
    "id": "IrmA3eaj3kF0"
   },
   "outputs": [],
   "source": [
    "faqs=\"\"\"My name is Rinki a twenty year old college girl from Delhi living in a modest middle class neighborhood \n",
    "in a creaky two story house I m fair skinned with a slim waist long black hair and deep brown eyes that turn heads \n",
    "wherever I go My tits perky and firm fill out my tight tops perfectly and I know how to flaunt them My dad Ramesh is a government \n",
    "clerk always buried in files while my mom Sunita is a housewife keeping our home running Then there s my grandpa Ramlal a year old \n",
    "lean man with white whiskers and a glint in his eyes that hides a cunning streak He s the local moneylender flush with cash respected by \n",
    "the neighborhood but secretly obsessed with young girls To the outside world he s the sweet old man handing out candies to kids but I know \n",
    "better My best friend Pinky his cousin s granddaughter is bubbly with C tits that she loves showing off in skin tight clothes She once confessed\n",
    "to me that Grandpa fucked her and ever since a twisted spark of curiosity about him has been burning inside me In our neighborhood Grandpa s got\n",
    "a reputation but girls flock to him for his gifts chocolates cash or new clothes His smooth talking charm could melt anyone and I wasn t immune \n",
    "I d bring him samosas or jalebis after college and he d flash that sly smile saying Rinki you re my sweetheart His words made my heart race but\n",
    "I wasn t naive I could feel his eyes devouring my curves lingering on my ass and tits I didn t mind Unlike the immature boys at college who bored\n",
    "me with their crude jokes and fake swagger older men like Grandpa intrigued me There was something about his rugged skin white hair and that wiry\n",
    "still strong body that got me hot I craved the experience the depth the raw confidence only a seasoned man could offer It all went down one chill\n",
    "y winter night when my parents were away visiting my sick uncle The house was empty except for me and Grandpa It was p m and we d just finished a\n",
    "simple dinner of roti dal and potato curry I wandered into his room an old school space with a wooden charpoy a creaky wardrobe and a small TV A\n",
    "faded photo of my grandma gone for years hung on the wall I plopped onto the charpoy and Grandpa sat on a nearby chair clutching an ancient radio\n",
    "playing devotional bhajans His dhoti and kurta hung loosely on his frame but his presence filled the room Grandpa still hooked on that radio? I \n",
    "teased giggling He grinned his eyes glinting Yeah beta These old songs and bhajans soothe the soul How s college going? Any boyfriends yet? I\n",
    "blushed playing coy Nah Grandpa Boys are stupid All talk no substance He chuckled leaning closer Smart girl Rinki These young guys have no \n",
    "stamina Can t even satisfy a woman properly done in two minutes flat His bluntness made me laugh but it also sent a thrill through me My mind \n",
    "wandered picturing him in his prime What was it like with Grandma? I asked my voice curious but teasing His eyes sparkled with mischief as he \n",
    "leaned back reminiscing Your grandma was just when we married I was She was so shy trembling on our wedding night When I showed her my cock she \n",
    "cried saying it was too big that it d kill her I burst out laughing but my body tingled at his raw words He was diving into sex talk without\n",
    "hesitation and it was turning me on You must ve been wild back then I said egging him on Wild? I still am he shot back puffing out his chest My \n",
    "cock s still got it inches thick and hard as ever These boys today can t compare My heart raced a mix of nerves and excitement swirling in my \n",
    "gut The room felt hotter the air thick with tension I pushed further testing him After Grandma didn t you ever need someone else? He smirked his\n",
    "voice low Of course I did But what can an old man do? Just jerk off to keep the fire burning I feigned innocence biting my lip Jerk off? What s \n",
    "that? He laughed his eyes locked on mine You know stroking my cock till it feels good Don t play dumb Rinki I giggled my cheeks flushing Okay \n",
    "maybe I know a little Grandpa scooted closer his breath quickening Rinki you re so young so fucking hot Don t you ever get horny? My face burned\n",
    "but I loved where this was going Grandpa stop it I said pretending to be shy No shame in it he growled softly It s just \n",
    "the body s hunger Then his hand landed on my thigh A jolt shot through me but I didn t pull away it felt too good His rough fingers\n",
    "stroked my skin slow and deliberate Your tits are perfect he murmured What s their size? B I whispered my voice trembling with anticipation \n",
    "Let me see he said and before I could respond his hands were on my tits squeezing them through my T shirt I gasped a soft moan escaping Grandpa \n",
    "what are you doing? Just checking he said his voice husky So soft so fucking perfect His hands grew bolder kneading my tits harder I was on fire \n",
    "my pussy already wet This is wrong I murmured but my body betrayed me arching into his touch Wrong? You re loving it he said pulling me into his\n",
    "lap His coarse mustache grazed my cheek as he kissed me his tongue plunging into my mouth I moaned kissing him back lost in the heat of it His \n",
    "hands yanked off my T shirt revealing my black bra Fuck Rinki you re a goddess he growled unhooking my bra with practiced ease My tits spilled free\n",
    "and he dove in sucking my nipples greedily Ohhh Grandpa slow down I moaned my head spinning with pleasure He didn t slow down His mouth devoured m\n",
    "y tits licking biting sucking until I was squirming Then he stood dropping his dhoti His cock sprang free inches of thick veiny meat hard as steel\n",
    "despite his age I stared my mouth watering Grandpa it s huge I said my voice shaky Suck it Rinki he urged You ll love it I hesitated then wrapped \n",
    "my fingers around his throbbing cock feeling its heat I leaned in taking it into my mouth my tongue swirling around the tip Fuck Rinki you re\n",
    "a natural he groaned his hands tangling in my hair as I sucked deeper gagging slightly but loving the taste of him His cock pulsed in my mouth \n",
    "salty and raw and I bobbed my head wanting to please him After minutes of my sloppy blowjob he pulled me up and laid me on the charpoy His lips\n",
    "trailed down my body kissing my stomach my thighs until he reached my panties He ripped them off exposing my dripping pussy So fucking wet he \n",
    "muttered his tongue diving into my folds I screamed Ohhh Grandpa yes His tongue worked my clit licking and sucking with expert precision driving\n",
    "me wild My hips bucked grinding against his face as waves of pleasure crashed over me Lick it harder fuck don t stop I begged my hands gripping \n",
    "the charpoy s edges He slid a pillow under my ass spreading my legs wide His cock rubbed against my pussy teasing my entrance Ready my little slut?\n",
    "he asked his voice dripping with lust Do it slow I whispered my heart pounding He pushed in his thick cock stretching my tight pussy Fuck I screamed the pain sharp but thrilling It s too big His cock inched deeper filling me completely the wet sounds of my pussy echoing in the room Relax Rinki he soothed stroking my hair It ll feel good soon He was right After a few slow thrusts the pain melted into pleasure His cock slid in and out slick with my juices Your pussy s fucking heaven he groaned picking up speed I wrapped my legs around him pulling him deeper Harder Grandpa Fuck me I screamed lost in the ecstasy The charpoy creaked under us the wet slap of our bodies filling the room Take my cock you dirty girl he growled pounding me relentlessly I clawed at his back my nails digging into his weathered skin as I matched his rhythm my pussy clenching around him He flipped me over fucking me doggy style his hands slapping my ass Such a tight little pussy he grunted his cock slamming into me I moaned Fuck my pussy Grandpa Tear it apart The room was a blur of sweat moans and the obscene sounds of our fucking He switched positions again pulling me on top my tits bouncing as I rode his cock His hands gripped my ass guiding me up and down his cock hitting every sensitive spot inside me Ohhh I m gonna cum I screamed my orgasm crashing through me my pussy spasming around his cock He wasn t done He fucked me for hours in every position missionary cowgirl against the wall He sucked my tits slapped my ass and whispered filthy things in my ear You re my little whore now Rinki he growled and I loved it When he finally came his hot load filled my pussy dripping down my thighs as I collapsed exhausted but satisfied By morning I was sore but buzzing with satisfaction Grandpa hugged me his voice soft Rinki you ve made me feel young again I smiled blushing You re amazing Grandpa Now whenever my parents are away Grandpa and I fuck like animals He tells me dirty stories of his past and\n",
    "I m addicted to his cock craving every inch of it Our secret nights are my escape my guilty pleasure and I wouldn t trade them for anything\"\"\""
   ]
  },
  {
   "cell_type": "code",
   "execution_count": 61,
   "metadata": {
    "executionInfo": {
     "elapsed": 9449,
     "status": "ok",
     "timestamp": 1738693894141,
     "user": {
      "displayName": "CampusX",
      "userId": "17274569631252575216"
     },
     "user_tz": -330
    },
    "id": "J1D42emD32Ro"
   },
   "outputs": [],
   "source": [
    "import tensorflow as tf\n",
    "from tensorflow.keras.preprocessing.text import Tokenizer"
   ]
  },
  {
   "cell_type": "code",
   "execution_count": null,
   "metadata": {},
   "outputs": [],
   "source": []
  },
  {
   "cell_type": "code",
   "execution_count": 93,
   "metadata": {},
   "outputs": [
    {
     "data": {
      "text/plain": [
       "\u001b[1;31mInit signature:\u001b[0m\n",
       "\u001b[0mTokenizer\u001b[0m\u001b[1;33m(\u001b[0m\u001b[1;33m\n",
       "\u001b[0m    \u001b[0mnum_words\u001b[0m\u001b[1;33m=\u001b[0m\u001b[1;32mNone\u001b[0m\u001b[1;33m,\u001b[0m\u001b[1;33m\n",
       "\u001b[0m    \u001b[0mfilters\u001b[0m\u001b[1;33m=\u001b[0m\u001b[1;34m'!\"#$%&()*+,-./:;<=>?@[\\\\]^_`{|}~\\t\\n'\u001b[0m\u001b[1;33m,\u001b[0m\u001b[1;33m\n",
       "\u001b[0m    \u001b[0mlower\u001b[0m\u001b[1;33m=\u001b[0m\u001b[1;32mTrue\u001b[0m\u001b[1;33m,\u001b[0m\u001b[1;33m\n",
       "\u001b[0m    \u001b[0msplit\u001b[0m\u001b[1;33m=\u001b[0m\u001b[1;34m' '\u001b[0m\u001b[1;33m,\u001b[0m\u001b[1;33m\n",
       "\u001b[0m    \u001b[0mchar_level\u001b[0m\u001b[1;33m=\u001b[0m\u001b[1;32mFalse\u001b[0m\u001b[1;33m,\u001b[0m\u001b[1;33m\n",
       "\u001b[0m    \u001b[0moov_token\u001b[0m\u001b[1;33m=\u001b[0m\u001b[1;32mNone\u001b[0m\u001b[1;33m,\u001b[0m\u001b[1;33m\n",
       "\u001b[0m    \u001b[0manalyzer\u001b[0m\u001b[1;33m=\u001b[0m\u001b[1;32mNone\u001b[0m\u001b[1;33m,\u001b[0m\u001b[1;33m\n",
       "\u001b[0m    \u001b[1;33m**\u001b[0m\u001b[0mkwargs\u001b[0m\u001b[1;33m,\u001b[0m\u001b[1;33m\n",
       "\u001b[0m\u001b[1;33m)\u001b[0m\u001b[1;33m\u001b[0m\u001b[1;33m\u001b[0m\u001b[0m\n",
       "\u001b[1;31mDocstring:\u001b[0m      DEPRECATED.\n",
       "\u001b[1;31mFile:\u001b[0m           c:\\users\\user\\miniconda3\\lib\\site-packages\\keras\\src\\legacy\\preprocessing\\text.py\n",
       "\u001b[1;31mType:\u001b[0m           type\n",
       "\u001b[1;31mSubclasses:\u001b[0m     "
      ]
     },
     "metadata": {},
     "output_type": "display_data"
    }
   ],
   "source": [
    "Tokenizer?"
   ]
  },
  {
   "cell_type": "code",
   "execution_count": 62,
   "metadata": {
    "executionInfo": {
     "elapsed": 438,
     "status": "ok",
     "timestamp": 1738693897296,
     "user": {
      "displayName": "CampusX",
      "userId": "17274569631252575216"
     },
     "user_tz": -330
    },
    "id": "KhtDxwL_AXFj"
   },
   "outputs": [],
   "source": [
    "tokenizer = Tokenizer()"
   ]
  },
  {
   "cell_type": "code",
   "execution_count": 80,
   "metadata": {},
   "outputs": [
    {
     "data": {
      "text/plain": [
       "{'my': 1,\n",
       " 'i': 2,\n",
       " 'his': 3,\n",
       " 'he': 4,\n",
       " 'and': 5,\n",
       " 'the': 6,\n",
       " 'me': 7,\n",
       " 'a': 8,\n",
       " 'it': 9,\n",
       " 'in': 10,\n",
       " 'grandpa': 11,\n",
       " 'with': 12,\n",
       " 'but': 13,\n",
       " 'of': 14,\n",
       " 'was': 15,\n",
       " 'cock': 16,\n",
       " 's': 17,\n",
       " 't': 18,\n",
       " 'you': 19,\n",
       " 'on': 20,\n",
       " 'him': 21,\n",
       " 'rinki': 22,\n",
       " 'pussy': 23,\n",
       " 'that': 24,\n",
       " 'tits': 25,\n",
       " 'into': 26,\n",
       " 'to': 27,\n",
       " 'as': 28,\n",
       " 're': 29,\n",
       " 'voice': 30,\n",
       " 'hands': 31,\n",
       " 'fuck': 32,\n",
       " 'old': 33,\n",
       " 'eyes': 34,\n",
       " 'our': 35,\n",
       " 'down': 36,\n",
       " 'room': 37,\n",
       " 'so': 38,\n",
       " 'said': 39,\n",
       " 'fucking': 40,\n",
       " 'is': 41,\n",
       " 'm': 42,\n",
       " 'out': 43,\n",
       " 'then': 44,\n",
       " 'off': 45,\n",
       " 'for': 46,\n",
       " 'ass': 47,\n",
       " 'body': 48,\n",
       " 'just': 49,\n",
       " 'charpoy': 50,\n",
       " 'are': 51,\n",
       " 'what': 52,\n",
       " 'back': 53,\n",
       " 'slow': 54,\n",
       " 'mouth': 55,\n",
       " 'around': 56,\n",
       " 'college': 57,\n",
       " 'hair': 58,\n",
       " 'tight': 59,\n",
       " 'know': 60,\n",
       " 'them': 61,\n",
       " 'man': 62,\n",
       " 'young': 63,\n",
       " 'she': 64,\n",
       " 'skin': 65,\n",
       " 'ever': 66,\n",
       " 'could': 67,\n",
       " 'd': 68,\n",
       " 'after': 69,\n",
       " 'didn': 70,\n",
       " 'still': 71,\n",
       " 'when': 72,\n",
       " 'grandma': 73,\n",
       " 'through': 74,\n",
       " 'thick': 75,\n",
       " 'little': 76,\n",
       " 'growled': 77,\n",
       " 'wet': 78,\n",
       " 'tongue': 79,\n",
       " 'pleasure': 80,\n",
       " 'screamed': 81,\n",
       " 'girl': 82,\n",
       " 'neighborhood': 83,\n",
       " 'her': 84,\n",
       " 'got': 85,\n",
       " 'wasn': 86,\n",
       " 'made': 87,\n",
       " 'heart': 88,\n",
       " 'feel': 89,\n",
       " 'boys': 90,\n",
       " 'at': 91,\n",
       " 'like': 92,\n",
       " 'hot': 93,\n",
       " 'raw': 94,\n",
       " 'away': 95,\n",
       " 'an': 96,\n",
       " 'these': 97,\n",
       " 'no': 98,\n",
       " 'can': 99,\n",
       " 'your': 100,\n",
       " 'too': 101,\n",
       " 'wild': 102,\n",
       " 'good': 103,\n",
       " 'don': 104,\n",
       " 'whispered': 105,\n",
       " 'soft': 106,\n",
       " 'harder': 107,\n",
       " 'pulling': 108,\n",
       " 'moaned': 109,\n",
       " 'sucking': 110,\n",
       " 'ohhh': 111,\n",
       " 'deeper': 112,\n",
       " 'up': 113,\n",
       " 'dripping': 114,\n",
       " 'against': 115,\n",
       " 'every': 116,\n",
       " 'year': 117,\n",
       " 'creaky': 118,\n",
       " 'two': 119,\n",
       " 'house': 120,\n",
       " 'black': 121,\n",
       " 'how': 122,\n",
       " 'there': 123,\n",
       " 'white': 124,\n",
       " 'cash': 125,\n",
       " 'by': 126,\n",
       " 'girls': 127,\n",
       " 'clothes': 128,\n",
       " 'fucked': 129,\n",
       " 'about': 130,\n",
       " 'been': 131,\n",
       " 'burning': 132,\n",
       " 'inside': 133,\n",
       " 'or': 134,\n",
       " 'saying': 135,\n",
       " 'words': 136,\n",
       " 'mind': 137,\n",
       " 'their': 138,\n",
       " 'all': 139,\n",
       " 'y': 140,\n",
       " 'night': 141,\n",
       " 'parents': 142,\n",
       " 'were': 143,\n",
       " 'we': 144,\n",
       " 'wandered': 145,\n",
       " 'hung': 146,\n",
       " 'wall': 147,\n",
       " 'radio': 148,\n",
       " 'playing': 149,\n",
       " 'bhajans': 150,\n",
       " 'dhoti': 151,\n",
       " 'filled': 152,\n",
       " 'going': 153,\n",
       " 'talk': 154,\n",
       " 'closer': 155,\n",
       " 'done': 156,\n",
       " 'minutes': 157,\n",
       " 'asked': 158,\n",
       " 'teasing': 159,\n",
       " 'leaned': 160,\n",
       " 'shy': 161,\n",
       " 'trembling': 162,\n",
       " 'big': 163,\n",
       " 'diving': 164,\n",
       " 've': 165,\n",
       " 'shot': 166,\n",
       " 'inches': 167,\n",
       " 'hard': 168,\n",
       " 'swirling': 169,\n",
       " 'felt': 170,\n",
       " 'pushed': 171,\n",
       " 'do': 172,\n",
       " 'jerk': 173,\n",
       " 'fire': 174,\n",
       " 'biting': 175,\n",
       " 'stroking': 176,\n",
       " 'face': 177,\n",
       " 'loved': 178,\n",
       " 'this': 179,\n",
       " 'stop': 180,\n",
       " 'fingers': 181,\n",
       " 'perfect': 182,\n",
       " 'murmured': 183,\n",
       " 'shirt': 184,\n",
       " 'wrong': 185,\n",
       " 'loving': 186,\n",
       " 'kissing': 187,\n",
       " 'lost': 188,\n",
       " 'heat': 189,\n",
       " 'bra': 190,\n",
       " 'free': 191,\n",
       " 'head': 192,\n",
       " 'licking': 193,\n",
       " 'until': 194,\n",
       " 'll': 195,\n",
       " 'wrapped': 196,\n",
       " 'groaned': 197,\n",
       " 'sucked': 198,\n",
       " 'thighs': 199,\n",
       " 'over': 200,\n",
       " 'slid': 201,\n",
       " 'under': 202,\n",
       " 'legs': 203,\n",
       " 'pounding': 204,\n",
       " 'pain': 205,\n",
       " 'filling': 206,\n",
       " 'sounds': 207,\n",
       " 'dirty': 208,\n",
       " 'again': 209,\n",
       " 'now': 210,\n",
       " 'name': 211,\n",
       " 'twenty': 212,\n",
       " 'from': 213,\n",
       " 'delhi': 214,\n",
       " 'living': 215,\n",
       " 'modest': 216,\n",
       " 'middle': 217,\n",
       " 'class': 218,\n",
       " 'story': 219,\n",
       " 'fair': 220,\n",
       " 'skinned': 221,\n",
       " 'slim': 222,\n",
       " 'waist': 223,\n",
       " 'long': 224,\n",
       " 'deep': 225,\n",
       " 'brown': 226,\n",
       " 'turn': 227,\n",
       " 'heads': 228,\n",
       " 'wherever': 229,\n",
       " 'go': 230,\n",
       " 'perky': 231,\n",
       " 'firm': 232,\n",
       " 'fill': 233,\n",
       " 'tops': 234,\n",
       " 'perfectly': 235,\n",
       " 'flaunt': 236,\n",
       " 'dad': 237,\n",
       " 'ramesh': 238,\n",
       " 'government': 239,\n",
       " 'clerk': 240,\n",
       " 'always': 241,\n",
       " 'buried': 242,\n",
       " 'files': 243,\n",
       " 'while': 244,\n",
       " 'mom': 245,\n",
       " 'sunita': 246,\n",
       " 'housewife': 247,\n",
       " 'keeping': 248,\n",
       " 'home': 249,\n",
       " 'running': 250,\n",
       " 'ramlal': 251,\n",
       " 'lean': 252,\n",
       " 'whiskers': 253,\n",
       " 'glint': 254,\n",
       " 'hides': 255,\n",
       " 'cunning': 256,\n",
       " 'streak': 257,\n",
       " 'local': 258,\n",
       " 'moneylender': 259,\n",
       " 'flush': 260,\n",
       " 'respected': 261,\n",
       " 'secretly': 262,\n",
       " 'obsessed': 263,\n",
       " 'outside': 264,\n",
       " 'world': 265,\n",
       " 'sweet': 266,\n",
       " 'handing': 267,\n",
       " 'candies': 268,\n",
       " 'kids': 269,\n",
       " 'better': 270,\n",
       " 'best': 271,\n",
       " 'friend': 272,\n",
       " 'pinky': 273,\n",
       " 'cousin': 274,\n",
       " 'granddaughter': 275,\n",
       " 'bubbly': 276,\n",
       " 'c': 277,\n",
       " 'loves': 278,\n",
       " 'showing': 279,\n",
       " 'once': 280,\n",
       " 'confessed': 281,\n",
       " 'since': 282,\n",
       " 'twisted': 283,\n",
       " 'spark': 284,\n",
       " 'curiosity': 285,\n",
       " 'has': 286,\n",
       " 'reputation': 287,\n",
       " 'flock': 288,\n",
       " 'gifts': 289,\n",
       " 'chocolates': 290,\n",
       " 'new': 291,\n",
       " 'smooth': 292,\n",
       " 'talking': 293,\n",
       " 'charm': 294,\n",
       " 'melt': 295,\n",
       " 'anyone': 296,\n",
       " 'immune': 297,\n",
       " 'bring': 298,\n",
       " 'samosas': 299,\n",
       " 'jalebis': 300,\n",
       " 'flash': 301,\n",
       " 'sly': 302,\n",
       " 'smile': 303,\n",
       " 'sweetheart': 304,\n",
       " 'race': 305,\n",
       " 'naive': 306,\n",
       " 'devouring': 307,\n",
       " 'curves': 308,\n",
       " 'lingering': 309,\n",
       " 'unlike': 310,\n",
       " 'immature': 311,\n",
       " 'who': 312,\n",
       " 'bored': 313,\n",
       " 'crude': 314,\n",
       " 'jokes': 315,\n",
       " 'fake': 316,\n",
       " 'swagger': 317,\n",
       " 'older': 318,\n",
       " 'men': 319,\n",
       " 'intrigued': 320,\n",
       " 'something': 321,\n",
       " 'rugged': 322,\n",
       " 'wiry': 323,\n",
       " 'strong': 324,\n",
       " 'craved': 325,\n",
       " 'experience': 326,\n",
       " 'depth': 327,\n",
       " 'confidence': 328,\n",
       " 'only': 329,\n",
       " 'seasoned': 330,\n",
       " 'offer': 331,\n",
       " 'went': 332,\n",
       " 'one': 333,\n",
       " 'chill': 334,\n",
       " 'winter': 335,\n",
       " 'visiting': 336,\n",
       " 'sick': 337,\n",
       " 'uncle': 338,\n",
       " 'empty': 339,\n",
       " 'except': 340,\n",
       " 'p': 341,\n",
       " 'finished': 342,\n",
       " 'simple': 343,\n",
       " 'dinner': 344,\n",
       " 'roti': 345,\n",
       " 'dal': 346,\n",
       " 'potato': 347,\n",
       " 'curry': 348,\n",
       " 'school': 349,\n",
       " 'space': 350,\n",
       " 'wooden': 351,\n",
       " 'wardrobe': 352,\n",
       " 'small': 353,\n",
       " 'tv': 354,\n",
       " 'faded': 355,\n",
       " 'photo': 356,\n",
       " 'gone': 357,\n",
       " 'years': 358,\n",
       " 'plopped': 359,\n",
       " 'onto': 360,\n",
       " 'sat': 361,\n",
       " 'nearby': 362,\n",
       " 'chair': 363,\n",
       " 'clutching': 364,\n",
       " 'ancient': 365,\n",
       " 'devotional': 366,\n",
       " 'kurta': 367,\n",
       " 'loosely': 368,\n",
       " 'frame': 369,\n",
       " 'presence': 370,\n",
       " 'hooked': 371,\n",
       " 'teased': 372,\n",
       " 'giggling': 373,\n",
       " 'grinned': 374,\n",
       " 'glinting': 375,\n",
       " 'yeah': 376,\n",
       " 'beta': 377,\n",
       " 'songs': 378,\n",
       " 'soothe': 379,\n",
       " 'soul': 380,\n",
       " 'any': 381,\n",
       " 'boyfriends': 382,\n",
       " 'yet': 383,\n",
       " 'blushed': 384,\n",
       " 'coy': 385,\n",
       " 'nah': 386,\n",
       " 'stupid': 387,\n",
       " 'substance': 388,\n",
       " 'chuckled': 389,\n",
       " 'leaning': 390,\n",
       " 'smart': 391,\n",
       " 'guys': 392,\n",
       " 'have': 393,\n",
       " 'stamina': 394,\n",
       " 'even': 395,\n",
       " 'satisfy': 396,\n",
       " 'woman': 397,\n",
       " 'properly': 398,\n",
       " 'flat': 399,\n",
       " 'bluntness': 400,\n",
       " 'laugh': 401,\n",
       " 'also': 402,\n",
       " 'sent': 403,\n",
       " 'thrill': 404,\n",
       " 'picturing': 405,\n",
       " 'prime': 406,\n",
       " 'curious': 407,\n",
       " 'sparkled': 408,\n",
       " 'mischief': 409,\n",
       " 'reminiscing': 410,\n",
       " 'married': 411,\n",
       " 'wedding': 412,\n",
       " 'showed': 413,\n",
       " 'cried': 414,\n",
       " 'kill': 415,\n",
       " 'burst': 416,\n",
       " 'laughing': 417,\n",
       " 'tingled': 418,\n",
       " 'sex': 419,\n",
       " 'without': 420,\n",
       " 'hesitation': 421,\n",
       " 'turning': 422,\n",
       " 'must': 423,\n",
       " 'egging': 424,\n",
       " 'am': 425,\n",
       " 'puffing': 426,\n",
       " 'chest': 427,\n",
       " 'today': 428,\n",
       " 'compare': 429,\n",
       " 'raced': 430,\n",
       " 'mix': 431,\n",
       " 'nerves': 432,\n",
       " 'excitement': 433,\n",
       " 'gut': 434,\n",
       " 'hotter': 435,\n",
       " 'air': 436,\n",
       " 'tension': 437,\n",
       " 'further': 438,\n",
       " 'testing': 439,\n",
       " 'need': 440,\n",
       " 'someone': 441,\n",
       " 'else': 442,\n",
       " 'smirked': 443,\n",
       " 'low': 444,\n",
       " 'course': 445,\n",
       " 'did': 446,\n",
       " 'keep': 447,\n",
       " 'feigned': 448,\n",
       " 'innocence': 449,\n",
       " 'lip': 450,\n",
       " 'laughed': 451,\n",
       " 'locked': 452,\n",
       " 'mine': 453,\n",
       " 'till': 454,\n",
       " 'feels': 455,\n",
       " 'play': 456,\n",
       " 'dumb': 457,\n",
       " 'giggled': 458,\n",
       " 'cheeks': 459,\n",
       " 'flushing': 460,\n",
       " 'okay': 461,\n",
       " 'maybe': 462,\n",
       " 'scooted': 463,\n",
       " 'breath': 464,\n",
       " 'quickening': 465,\n",
       " 'get': 466,\n",
       " 'horny': 467,\n",
       " 'burned': 468,\n",
       " 'where': 469,\n",
       " 'pretending': 470,\n",
       " 'be': 471,\n",
       " 'shame': 472,\n",
       " 'softly': 473,\n",
       " 'hunger': 474,\n",
       " 'hand': 475,\n",
       " 'landed': 476,\n",
       " 'thigh': 477,\n",
       " 'jolt': 478,\n",
       " 'pull': 479,\n",
       " 'rough': 480,\n",
       " 'stroked': 481,\n",
       " 'deliberate': 482,\n",
       " 'size': 483,\n",
       " 'b': 484,\n",
       " 'anticipation': 485,\n",
       " 'let': 486,\n",
       " 'see': 487,\n",
       " 'before': 488,\n",
       " 'respond': 489,\n",
       " 'squeezing': 490,\n",
       " 'gasped': 491,\n",
       " 'moan': 492,\n",
       " 'escaping': 493,\n",
       " 'doing': 494,\n",
       " 'checking': 495,\n",
       " 'husky': 496,\n",
       " 'grew': 497,\n",
       " 'bolder': 498,\n",
       " 'kneading': 499,\n",
       " 'already': 500,\n",
       " 'betrayed': 501,\n",
       " 'arching': 502,\n",
       " 'touch': 503,\n",
       " 'lap': 504,\n",
       " 'coarse': 505,\n",
       " 'mustache': 506,\n",
       " 'grazed': 507,\n",
       " 'cheek': 508,\n",
       " 'kissed': 509,\n",
       " 'plunging': 510,\n",
       " 'yanked': 511,\n",
       " 'revealing': 512,\n",
       " 'goddess': 513,\n",
       " 'unhooking': 514,\n",
       " 'practiced': 515,\n",
       " 'ease': 516,\n",
       " 'spilled': 517,\n",
       " 'dove': 518,\n",
       " 'nipples': 519,\n",
       " 'greedily': 520,\n",
       " 'spinning': 521,\n",
       " 'devoured': 522,\n",
       " 'squirming': 523,\n",
       " 'stood': 524,\n",
       " 'dropping': 525,\n",
       " 'sprang': 526,\n",
       " 'veiny': 527,\n",
       " 'meat': 528,\n",
       " 'steel': 529,\n",
       " 'despite': 530,\n",
       " 'age': 531,\n",
       " 'stared': 532,\n",
       " 'watering': 533,\n",
       " 'huge': 534,\n",
       " 'shaky': 535,\n",
       " 'suck': 536,\n",
       " 'urged': 537,\n",
       " 'love': 538,\n",
       " 'hesitated': 539,\n",
       " 'throbbing': 540,\n",
       " 'feeling': 541,\n",
       " 'its': 542,\n",
       " 'taking': 543,\n",
       " 'tip': 544,\n",
       " 'natural': 545,\n",
       " 'tangling': 546,\n",
       " 'gagging': 547,\n",
       " 'slightly': 548,\n",
       " 'taste': 549,\n",
       " 'pulsed': 550,\n",
       " 'salty': 551,\n",
       " 'bobbed': 552,\n",
       " 'wanting': 553,\n",
       " 'please': 554,\n",
       " 'sloppy': 555,\n",
       " 'blowjob': 556,\n",
       " 'pulled': 557,\n",
       " 'laid': 558,\n",
       " 'lips': 559,\n",
       " 'trailed': 560,\n",
       " 'stomach': 561,\n",
       " 'reached': 562,\n",
       " 'panties': 563,\n",
       " 'ripped': 564,\n",
       " 'exposing': 565,\n",
       " 'muttered': 566,\n",
       " 'folds': 567,\n",
       " 'yes': 568,\n",
       " 'worked': 569,\n",
       " 'clit': 570,\n",
       " 'expert': 571,\n",
       " 'precision': 572,\n",
       " 'driving': 573,\n",
       " 'hips': 574,\n",
       " 'bucked': 575,\n",
       " 'grinding': 576,\n",
       " 'waves': 577,\n",
       " 'crashed': 578,\n",
       " 'lick': 579,\n",
       " 'begged': 580,\n",
       " 'gripping': 581,\n",
       " 'edges': 582,\n",
       " 'pillow': 583,\n",
       " 'spreading': 584,\n",
       " 'wide': 585,\n",
       " 'rubbed': 586,\n",
       " 'entrance': 587,\n",
       " 'ready': 588,\n",
       " 'slut': 589,\n",
       " 'lust': 590,\n",
       " 'stretching': 591,\n",
       " 'sharp': 592,\n",
       " 'thrilling': 593,\n",
       " 'inched': 594,\n",
       " 'completely': 595,\n",
       " 'echoing': 596,\n",
       " 'relax': 597,\n",
       " 'soothed': 598,\n",
       " 'soon': 599,\n",
       " 'right': 600,\n",
       " 'few': 601,\n",
       " 'thrusts': 602,\n",
       " 'melted': 603,\n",
       " 'slick': 604,\n",
       " 'juices': 605,\n",
       " 'heaven': 606,\n",
       " 'picking': 607,\n",
       " 'speed': 608,\n",
       " 'ecstasy': 609,\n",
       " 'creaked': 610,\n",
       " 'us': 611,\n",
       " 'slap': 612,\n",
       " 'bodies': 613,\n",
       " 'take': 614,\n",
       " 'relentlessly': 615,\n",
       " 'clawed': 616,\n",
       " 'nails': 617,\n",
       " 'digging': 618,\n",
       " 'weathered': 619,\n",
       " 'matched': 620,\n",
       " 'rhythm': 621,\n",
       " 'clenching': 622,\n",
       " 'flipped': 623,\n",
       " 'doggy': 624,\n",
       " 'style': 625,\n",
       " 'slapping': 626,\n",
       " 'such': 627,\n",
       " 'grunted': 628,\n",
       " 'slamming': 629,\n",
       " 'tear': 630,\n",
       " 'apart': 631,\n",
       " 'blur': 632,\n",
       " 'sweat': 633,\n",
       " 'moans': 634,\n",
       " 'obscene': 635,\n",
       " 'switched': 636,\n",
       " 'positions': 637,\n",
       " 'top': 638,\n",
       " 'bouncing': 639,\n",
       " 'rode': 640,\n",
       " 'gripped': 641,\n",
       " 'guiding': 642,\n",
       " 'hitting': 643,\n",
       " 'sensitive': 644,\n",
       " 'spot': 645,\n",
       " 'gonna': 646,\n",
       " 'cum': 647,\n",
       " 'orgasm': 648,\n",
       " 'crashing': 649,\n",
       " 'spasming': 650,\n",
       " 'hours': 651,\n",
       " 'position': 652,\n",
       " 'missionary': 653,\n",
       " 'cowgirl': 654,\n",
       " 'slapped': 655,\n",
       " 'filthy': 656,\n",
       " 'things': 657,\n",
       " 'ear': 658,\n",
       " 'whore': 659,\n",
       " 'finally': 660,\n",
       " 'came': 661,\n",
       " 'load': 662,\n",
       " 'collapsed': 663,\n",
       " 'exhausted': 664,\n",
       " 'satisfied': 665,\n",
       " 'morning': 666,\n",
       " 'sore': 667,\n",
       " 'buzzing': 668,\n",
       " 'satisfaction': 669,\n",
       " 'hugged': 670,\n",
       " 'smiled': 671,\n",
       " 'blushing': 672,\n",
       " 'amazing': 673,\n",
       " 'whenever': 674,\n",
       " 'animals': 675,\n",
       " 'tells': 676,\n",
       " 'stories': 677,\n",
       " 'past': 678,\n",
       " 'addicted': 679,\n",
       " 'craving': 680,\n",
       " 'inch': 681,\n",
       " 'secret': 682,\n",
       " 'nights': 683,\n",
       " 'escape': 684,\n",
       " 'guilty': 685,\n",
       " 'wouldn': 686,\n",
       " 'trade': 687,\n",
       " 'anything': 688}"
      ]
     },
     "execution_count": 80,
     "metadata": {},
     "output_type": "execute_result"
    }
   ],
   "source": [
    "tokenizer.word_index"
   ]
  },
  {
   "cell_type": "code",
   "execution_count": 64,
   "metadata": {
    "executionInfo": {
     "elapsed": 4,
     "status": "ok",
     "timestamp": 1738693899092,
     "user": {
      "displayName": "CampusX",
      "userId": "17274569631252575216"
     },
     "user_tz": -330
    },
    "id": "K8MRFre9AaG9"
   },
   "outputs": [],
   "source": [
    "tokenizer.fit_on_texts([faqs])"
   ]
  },
  {
   "cell_type": "code",
   "execution_count": null,
   "metadata": {},
   "outputs": [],
   "source": []
  },
  {
   "cell_type": "code",
   "execution_count": 65,
   "metadata": {
    "colab": {
     "base_uri": "https://localhost:8080/"
    },
    "executionInfo": {
     "elapsed": 2,
     "status": "ok",
     "timestamp": 1738693900768,
     "user": {
      "displayName": "CampusX",
      "userId": "17274569631252575216"
     },
     "user_tz": -330
    },
    "id": "YrpAl3EDAgvh",
    "outputId": "b8d7232a-c538-4f48-e331-aebea747c2c4"
   },
   "outputs": [
    {
     "data": {
      "text/plain": [
       "688"
      ]
     },
     "execution_count": 65,
     "metadata": {},
     "output_type": "execute_result"
    }
   ],
   "source": [
    "len(tokenizer.word_index)"
   ]
  },
  {
   "cell_type": "code",
   "execution_count": 66,
   "metadata": {
    "executionInfo": {
     "elapsed": 2,
     "status": "ok",
     "timestamp": 1738693902364,
     "user": {
      "displayName": "CampusX",
      "userId": "17274569631252575216"
     },
     "user_tz": -330
    },
    "id": "44VahqKdAjr9"
   },
   "outputs": [],
   "source": [
    "input_sequences = []\n",
    "for sentence in faqs.split('\\n'):\n",
    "  tokenized_sentence = tokenizer.texts_to_sequences([sentence])[0]\n",
    "  # print(tokenized_sentence)  \n",
    "\n",
    "  for i in range(1,len(tokenized_sentence)):\n",
    "    input_sequences.append(tokenized_sentence[:i+1])"
   ]
  },
  {
   "cell_type": "code",
   "execution_count": 67,
   "metadata": {},
   "outputs": [
    {
     "data": {
      "text/plain": [
       "[2,\n",
       " 42,\n",
       " 679,\n",
       " 27,\n",
       " 3,\n",
       " 16,\n",
       " 680,\n",
       " 116,\n",
       " 681,\n",
       " 14,\n",
       " 9,\n",
       " 35,\n",
       " 682,\n",
       " 683,\n",
       " 51,\n",
       " 1,\n",
       " 684,\n",
       " 1,\n",
       " 685,\n",
       " 80,\n",
       " 5,\n",
       " 2,\n",
       " 686,\n",
       " 18,\n",
       " 687,\n",
       " 61,\n",
       " 46,\n",
       " 688]"
      ]
     },
     "execution_count": 67,
     "metadata": {},
     "output_type": "execute_result"
    }
   ],
   "source": [
    "tokenized_sentence"
   ]
  },
  {
   "cell_type": "code",
   "execution_count": 68,
   "metadata": {},
   "outputs": [],
   "source": [
    "input_sequences;"
   ]
  },
  {
   "cell_type": "code",
   "execution_count": 69,
   "metadata": {
    "colab": {
     "base_uri": "https://localhost:8080/"
    },
    "executionInfo": {
     "elapsed": 4,
     "status": "ok",
     "timestamp": 1738693904223,
     "user": {
      "displayName": "CampusX",
      "userId": "17274569631252575216"
     },
     "user_tz": -330
    },
    "id": "UyqwPDzNA5mR",
    "outputId": "cf7f38c7-9ebe-475e-e51c-dfee031c80f0"
   },
   "outputs": [
    {
     "data": {
      "text/plain": [
       "1646"
      ]
     },
     "execution_count": 69,
     "metadata": {},
     "output_type": "execute_result"
    }
   ],
   "source": [
    "len(input_sequences)"
   ]
  },
  {
   "cell_type": "code",
   "execution_count": 70,
   "metadata": {
    "executionInfo": {
     "elapsed": 481,
     "status": "ok",
     "timestamp": 1738693906471,
     "user": {
      "displayName": "CampusX",
      "userId": "17274569631252575216"
     },
     "user_tz": -330
    },
    "id": "CrzbvUUQCXPU"
   },
   "outputs": [],
   "source": [
    "max_len = max([len(x) for x in input_sequences])"
   ]
  },
  {
   "cell_type": "code",
   "execution_count": 71,
   "metadata": {},
   "outputs": [
    {
     "data": {
      "text/plain": [
       "381"
      ]
     },
     "execution_count": 71,
     "metadata": {},
     "output_type": "execute_result"
    }
   ],
   "source": [
    "max_len"
   ]
  },
  {
   "cell_type": "code",
   "execution_count": 72,
   "metadata": {
    "executionInfo": {
     "elapsed": 2,
     "status": "ok",
     "timestamp": 1738693907934,
     "user": {
      "displayName": "CampusX",
      "userId": "17274569631252575216"
     },
     "user_tz": -330
    },
    "id": "9oPMoWBSD1_U"
   },
   "outputs": [],
   "source": [
    "from tensorflow.keras.preprocessing.sequence import pad_sequences\n",
    "padded_input_sequences = pad_sequences(input_sequences, maxlen = max_len, padding='pre')"
   ]
  },
  {
   "cell_type": "code",
   "execution_count": 73,
   "metadata": {
    "colab": {
     "base_uri": "https://localhost:8080/"
    },
    "executionInfo": {
     "elapsed": 3,
     "status": "ok",
     "timestamp": 1738693909461,
     "user": {
      "displayName": "CampusX",
      "userId": "17274569631252575216"
     },
     "user_tz": -330
    },
    "id": "miRb-QZyIi7_",
    "outputId": "e1d10078-2877-40eb-aebd-f5a74656d0b3"
   },
   "outputs": [
    {
     "data": {
      "text/plain": [
       "(1646, 381)"
      ]
     },
     "execution_count": 73,
     "metadata": {},
     "output_type": "execute_result"
    }
   ],
   "source": [
    "padded_input_sequences.shape"
   ]
  },
  {
   "cell_type": "code",
   "execution_count": 74,
   "metadata": {
    "executionInfo": {
     "elapsed": 2,
     "status": "ok",
     "timestamp": 1738693911220,
     "user": {
      "displayName": "CampusX",
      "userId": "17274569631252575216"
     },
     "user_tz": -330
    },
    "id": "qVI0-UUrIsd3"
   },
   "outputs": [],
   "source": [
    "X = padded_input_sequences[:,:-1]"
   ]
  },
  {
   "cell_type": "code",
   "execution_count": 75,
   "metadata": {},
   "outputs": [
    {
     "data": {
      "text/plain": [
       "(1646, 380)"
      ]
     },
     "execution_count": 75,
     "metadata": {},
     "output_type": "execute_result"
    }
   ],
   "source": [
    "X.shape"
   ]
  },
  {
   "cell_type": "code",
   "execution_count": 76,
   "metadata": {
    "executionInfo": {
     "elapsed": 2,
     "status": "ok",
     "timestamp": 1738693912944,
     "user": {
      "displayName": "CampusX",
      "userId": "17274569631252575216"
     },
     "user_tz": -330
    },
    "id": "lXrYHTDFI3uE"
   },
   "outputs": [],
   "source": [
    "y= padded_input_sequences[:,-1]"
   ]
  },
  {
   "cell_type": "code",
   "execution_count": 77,
   "metadata": {},
   "outputs": [
    {
     "data": {
      "text/plain": [
       "array([211,  41,  22, ...,  61,  46, 688], shape=(1646,), dtype=int32)"
      ]
     },
     "execution_count": 77,
     "metadata": {},
     "output_type": "execute_result"
    }
   ],
   "source": [
    "y"
   ]
  },
  {
   "cell_type": "code",
   "execution_count": 78,
   "metadata": {
    "colab": {
     "base_uri": "https://localhost:8080/"
    },
    "executionInfo": {
     "elapsed": 2,
     "status": "ok",
     "timestamp": 1738693914614,
     "user": {
      "displayName": "CampusX",
      "userId": "17274569631252575216"
     },
     "user_tz": -330
    },
    "id": "kmsFnHx1Qdow",
    "outputId": "726091f2-6d5e-408e-aa32-fafa30583879"
   },
   "outputs": [
    {
     "data": {
      "text/plain": [
       "(1646, 380)"
      ]
     },
     "execution_count": 78,
     "metadata": {},
     "output_type": "execute_result"
    }
   ],
   "source": [
    "X.shape"
   ]
  },
  {
   "cell_type": "code",
   "execution_count": 79,
   "metadata": {
    "colab": {
     "base_uri": "https://localhost:8080/"
    },
    "executionInfo": {
     "elapsed": 2,
     "status": "ok",
     "timestamp": 1738693915989,
     "user": {
      "displayName": "CampusX",
      "userId": "17274569631252575216"
     },
     "user_tz": -330
    },
    "id": "-wyYqYgZSeck",
    "outputId": "87e67e59-511d-4803-c1d8-383fdbd9dea7"
   },
   "outputs": [
    {
     "data": {
      "text/plain": [
       "(1646,)"
      ]
     },
     "execution_count": 79,
     "metadata": {},
     "output_type": "execute_result"
    }
   ],
   "source": [
    "y.shape"
   ]
  },
  {
   "cell_type": "code",
   "execution_count": 84,
   "metadata": {
    "executionInfo": {
     "elapsed": 416,
     "status": "ok",
     "timestamp": 1738693921334,
     "user": {
      "displayName": "CampusX",
      "userId": "17274569631252575216"
     },
     "user_tz": -330
    },
    "id": "rs1NPitwSgzk"
   },
   "outputs": [],
   "source": [
    "from tensorflow.keras.utils import to_categorical\n",
    "y = to_categorical(y,num_classes=689)"
   ]
  },
  {
   "cell_type": "code",
   "execution_count": 83,
   "metadata": {
    "colab": {
     "base_uri": "https://localhost:8080/"
    },
    "executionInfo": {
     "elapsed": 3,
     "status": "ok",
     "timestamp": 1738693922942,
     "user": {
      "displayName": "CampusX",
      "userId": "17274569631252575216"
     },
     "user_tz": -330
    },
    "id": "iQMJ0I6xSiZf",
    "outputId": "c5a0bfee-e63f-4d04-fdc0-d9a64c314804"
   },
   "outputs": [
    {
     "data": {
      "text/plain": [
       "np.int32(688)"
      ]
     },
     "execution_count": 83,
     "metadata": {},
     "output_type": "execute_result"
    }
   ],
   "source": [
    "y.max()"
   ]
  },
  {
   "cell_type": "code",
   "execution_count": 85,
   "metadata": {
    "executionInfo": {
     "elapsed": 2,
     "status": "ok",
     "timestamp": 1738693924545,
     "user": {
      "displayName": "CampusX",
      "userId": "17274569631252575216"
     },
     "user_tz": -330
    },
    "id": "9kVeTvR2S8Fk"
   },
   "outputs": [],
   "source": [
    "from tensorflow.keras.models import Sequential\n",
    "from tensorflow.keras.layers import Embedding, LSTM, Dense"
   ]
  },
  {
   "cell_type": "code",
   "execution_count": 86,
   "metadata": {
    "colab": {
     "base_uri": "https://localhost:8080/"
    },
    "executionInfo": {
     "elapsed": 3,
     "status": "ok",
     "timestamp": 1738693926319,
     "user": {
      "displayName": "CampusX",
      "userId": "17274569631252575216"
     },
     "user_tz": -330
    },
    "id": "wo-OYfHpTK2o",
    "outputId": "a135eea2-37b4-4427-ca78-79c9af481c1f"
   },
   "outputs": [],
   "source": [
    "model = Sequential()\n",
    "model.add(Embedding(689,100, input_length=380))\n",
    "model.add(LSTM(150))\n",
    "# model.add(LSTM(150))\n",
    "model.add(Dense(689, activation='softmax'))"
   ]
  },
  {
   "cell_type": "code",
   "execution_count": 87,
   "metadata": {
    "executionInfo": {
     "elapsed": 2,
     "status": "ok",
     "timestamp": 1738693928287,
     "user": {
      "displayName": "CampusX",
      "userId": "17274569631252575216"
     },
     "user_tz": -330
    },
    "id": "-GGjqh7ue_Yq"
   },
   "outputs": [],
   "source": [
    "model.compile(loss='categorical_crossentropy', optimizer='adam',metrics=['accuracy'])"
   ]
  },
  {
   "cell_type": "code",
   "execution_count": 88,
   "metadata": {
    "colab": {
     "base_uri": "https://localhost:8080/",
     "height": 268
    },
    "executionInfo": {
     "elapsed": 5,
     "status": "ok",
     "timestamp": 1738693929885,
     "user": {
      "displayName": "CampusX",
      "userId": "17274569631252575216"
     },
     "user_tz": -330
    },
    "id": "OxxXkrSXfIBv",
    "outputId": "0d0979ee-4238-4b1b-bb03-d60f5a489a64"
   },
   "outputs": [
    {
     "data": {
      "text/html": [
       "<pre style=\"white-space:pre;overflow-x:auto;line-height:normal;font-family:Menlo,'DejaVu Sans Mono',consolas,'Courier New',monospace\"><span style=\"font-weight: bold\">Model: \"sequential_2\"</span>\n",
       "</pre>\n"
      ],
      "text/plain": [
       "\u001b[1mModel: \"sequential_2\"\u001b[0m\n"
      ]
     },
     "metadata": {},
     "output_type": "display_data"
    },
    {
     "data": {
      "text/html": [
       "<pre style=\"white-space:pre;overflow-x:auto;line-height:normal;font-family:Menlo,'DejaVu Sans Mono',consolas,'Courier New',monospace\">┏━━━━━━━━━━━━━━━━━━━━━━━━━━━━━━━━━━━━━━┳━━━━━━━━━━━━━━━━━━━━━━━━━━━━━┳━━━━━━━━━━━━━━━━━┓\n",
       "┃<span style=\"font-weight: bold\"> Layer (type)                         </span>┃<span style=\"font-weight: bold\"> Output Shape                </span>┃<span style=\"font-weight: bold\">         Param # </span>┃\n",
       "┡━━━━━━━━━━━━━━━━━━━━━━━━━━━━━━━━━━━━━━╇━━━━━━━━━━━━━━━━━━━━━━━━━━━━━╇━━━━━━━━━━━━━━━━━┩\n",
       "│ embedding_2 (<span style=\"color: #0087ff; text-decoration-color: #0087ff\">Embedding</span>)              │ ?                           │     <span style=\"color: #00af00; text-decoration-color: #00af00\">0</span> (unbuilt) │\n",
       "├──────────────────────────────────────┼─────────────────────────────┼─────────────────┤\n",
       "│ lstm_2 (<span style=\"color: #0087ff; text-decoration-color: #0087ff\">LSTM</span>)                        │ ?                           │     <span style=\"color: #00af00; text-decoration-color: #00af00\">0</span> (unbuilt) │\n",
       "├──────────────────────────────────────┼─────────────────────────────┼─────────────────┤\n",
       "│ dense_2 (<span style=\"color: #0087ff; text-decoration-color: #0087ff\">Dense</span>)                      │ ?                           │     <span style=\"color: #00af00; text-decoration-color: #00af00\">0</span> (unbuilt) │\n",
       "└──────────────────────────────────────┴─────────────────────────────┴─────────────────┘\n",
       "</pre>\n"
      ],
      "text/plain": [
       "┏━━━━━━━━━━━━━━━━━━━━━━━━━━━━━━━━━━━━━━┳━━━━━━━━━━━━━━━━━━━━━━━━━━━━━┳━━━━━━━━━━━━━━━━━┓\n",
       "┃\u001b[1m \u001b[0m\u001b[1mLayer (type)                        \u001b[0m\u001b[1m \u001b[0m┃\u001b[1m \u001b[0m\u001b[1mOutput Shape               \u001b[0m\u001b[1m \u001b[0m┃\u001b[1m \u001b[0m\u001b[1m        Param #\u001b[0m\u001b[1m \u001b[0m┃\n",
       "┡━━━━━━━━━━━━━━━━━━━━━━━━━━━━━━━━━━━━━━╇━━━━━━━━━━━━━━━━━━━━━━━━━━━━━╇━━━━━━━━━━━━━━━━━┩\n",
       "│ embedding_2 (\u001b[38;5;33mEmbedding\u001b[0m)              │ ?                           │     \u001b[38;5;34m0\u001b[0m (unbuilt) │\n",
       "├──────────────────────────────────────┼─────────────────────────────┼─────────────────┤\n",
       "│ lstm_2 (\u001b[38;5;33mLSTM\u001b[0m)                        │ ?                           │     \u001b[38;5;34m0\u001b[0m (unbuilt) │\n",
       "├──────────────────────────────────────┼─────────────────────────────┼─────────────────┤\n",
       "│ dense_2 (\u001b[38;5;33mDense\u001b[0m)                      │ ?                           │     \u001b[38;5;34m0\u001b[0m (unbuilt) │\n",
       "└──────────────────────────────────────┴─────────────────────────────┴─────────────────┘\n"
      ]
     },
     "metadata": {},
     "output_type": "display_data"
    },
    {
     "data": {
      "text/html": [
       "<pre style=\"white-space:pre;overflow-x:auto;line-height:normal;font-family:Menlo,'DejaVu Sans Mono',consolas,'Courier New',monospace\"><span style=\"font-weight: bold\"> Total params: </span><span style=\"color: #00af00; text-decoration-color: #00af00\">0</span> (0.00 B)\n",
       "</pre>\n"
      ],
      "text/plain": [
       "\u001b[1m Total params: \u001b[0m\u001b[38;5;34m0\u001b[0m (0.00 B)\n"
      ]
     },
     "metadata": {},
     "output_type": "display_data"
    },
    {
     "data": {
      "text/html": [
       "<pre style=\"white-space:pre;overflow-x:auto;line-height:normal;font-family:Menlo,'DejaVu Sans Mono',consolas,'Courier New',monospace\"><span style=\"font-weight: bold\"> Trainable params: </span><span style=\"color: #00af00; text-decoration-color: #00af00\">0</span> (0.00 B)\n",
       "</pre>\n"
      ],
      "text/plain": [
       "\u001b[1m Trainable params: \u001b[0m\u001b[38;5;34m0\u001b[0m (0.00 B)\n"
      ]
     },
     "metadata": {},
     "output_type": "display_data"
    },
    {
     "data": {
      "text/html": [
       "<pre style=\"white-space:pre;overflow-x:auto;line-height:normal;font-family:Menlo,'DejaVu Sans Mono',consolas,'Courier New',monospace\"><span style=\"font-weight: bold\"> Non-trainable params: </span><span style=\"color: #00af00; text-decoration-color: #00af00\">0</span> (0.00 B)\n",
       "</pre>\n"
      ],
      "text/plain": [
       "\u001b[1m Non-trainable params: \u001b[0m\u001b[38;5;34m0\u001b[0m (0.00 B)\n"
      ]
     },
     "metadata": {},
     "output_type": "display_data"
    }
   ],
   "source": [
    "model.summary()"
   ]
  },
  {
   "cell_type": "code",
   "execution_count": 89,
   "metadata": {
    "colab": {
     "base_uri": "https://localhost:8080/",
     "height": 304
    },
    "executionInfo": {
     "elapsed": 810,
     "status": "error",
     "timestamp": 1738693938119,
     "user": {
      "displayName": "CampusX",
      "userId": "17274569631252575216"
     },
     "user_tz": -330
    },
    "id": "LpFUCALCfJRR",
    "outputId": "323951e5-9773-4c2d-d185-9837e33ca4d3"
   },
   "outputs": [
    {
     "name": "stdout",
     "output_type": "stream",
     "text": [
      "Epoch 1/5\n",
      "\u001b[1m52/52\u001b[0m \u001b[32m━━━━━━━━━━━━━━━━━━━━\u001b[0m\u001b[37m\u001b[0m \u001b[1m24s\u001b[0m 387ms/step - accuracy: 0.0246 - loss: 6.3823    \n",
      "Epoch 2/5\n",
      "\u001b[1m52/52\u001b[0m \u001b[32m━━━━━━━━━━━━━━━━━━━━\u001b[0m\u001b[37m\u001b[0m \u001b[1m20s\u001b[0m 379ms/step - accuracy: 0.0501 - loss: 5.8129\n",
      "Epoch 3/5\n",
      "\u001b[1m52/52\u001b[0m \u001b[32m━━━━━━━━━━━━━━━━━━━━\u001b[0m\u001b[37m\u001b[0m \u001b[1m20s\u001b[0m 393ms/step - accuracy: 0.0514 - loss: 5.7511\n",
      "Epoch 4/5\n",
      "\u001b[1m52/52\u001b[0m \u001b[32m━━━━━━━━━━━━━━━━━━━━\u001b[0m\u001b[37m\u001b[0m \u001b[1m19s\u001b[0m 372ms/step - accuracy: 0.0622 - loss: 5.5667\n",
      "Epoch 5/5\n",
      "\u001b[1m52/52\u001b[0m \u001b[32m━━━━━━━━━━━━━━━━━━━━\u001b[0m\u001b[37m\u001b[0m \u001b[1m22s\u001b[0m 415ms/step - accuracy: 0.0523 - loss: 5.5258\n"
     ]
    },
    {
     "data": {
      "text/plain": [
       "<keras.src.callbacks.history.History at 0x1e5451074a0>"
      ]
     },
     "execution_count": 89,
     "metadata": {},
     "output_type": "execute_result"
    }
   ],
   "source": [
    "model.fit(X,y,epochs=5)"
   ]
  },
  {
   "cell_type": "code",
   "execution_count": 90,
   "metadata": {},
   "outputs": [],
   "source": [
    "import numpy as np"
   ]
  },
  {
   "cell_type": "code",
   "execution_count": 96,
   "metadata": {
    "colab": {
     "base_uri": "https://localhost:8080/"
    },
    "executionInfo": {
     "elapsed": 21248,
     "status": "ok",
     "timestamp": 1694508702951,
     "user": {
      "displayName": "CampusX",
      "userId": "17274569631252575216"
     },
     "user_tz": -330
    },
    "id": "PGeYGwCMfTus",
    "outputId": "2d508555-b83e-470e-e7e5-1b5c10cce70b"
   },
   "outputs": [
    {
     "name": "stdout",
     "output_type": "stream",
     "text": [
      "\u001b[1m1/1\u001b[0m \u001b[32m━━━━━━━━━━━━━━━━━━━━\u001b[0m\u001b[37m\u001b[0m \u001b[1m0s\u001b[0m 136ms/step\n",
      "yes that hides a cunning strea my\n",
      "\u001b[1m1/1\u001b[0m \u001b[32m━━━━━━━━━━━━━━━━━━━━\u001b[0m\u001b[37m\u001b[0m \u001b[1m0s\u001b[0m 39ms/step\n",
      "yes that hides a cunning strea my my\n",
      "\u001b[1m1/1\u001b[0m \u001b[32m━━━━━━━━━━━━━━━━━━━━\u001b[0m\u001b[37m\u001b[0m \u001b[1m0s\u001b[0m 38ms/step\n",
      "yes that hides a cunning strea my my my\n",
      "\u001b[1m1/1\u001b[0m \u001b[32m━━━━━━━━━━━━━━━━━━━━\u001b[0m\u001b[37m\u001b[0m \u001b[1m0s\u001b[0m 44ms/step\n",
      "yes that hides a cunning strea my my my my\n",
      "\u001b[1m1/1\u001b[0m \u001b[32m━━━━━━━━━━━━━━━━━━━━\u001b[0m\u001b[37m\u001b[0m \u001b[1m0s\u001b[0m 53ms/step\n",
      "yes that hides a cunning strea my my my my my\n",
      "\u001b[1m1/1\u001b[0m \u001b[32m━━━━━━━━━━━━━━━━━━━━\u001b[0m\u001b[37m\u001b[0m \u001b[1m0s\u001b[0m 39ms/step\n",
      "yes that hides a cunning strea my my my my my my\n",
      "\u001b[1m1/1\u001b[0m \u001b[32m━━━━━━━━━━━━━━━━━━━━\u001b[0m\u001b[37m\u001b[0m \u001b[1m0s\u001b[0m 51ms/step\n",
      "yes that hides a cunning strea my my my my my my my\n",
      "\u001b[1m1/1\u001b[0m \u001b[32m━━━━━━━━━━━━━━━━━━━━\u001b[0m\u001b[37m\u001b[0m \u001b[1m0s\u001b[0m 45ms/step\n",
      "yes that hides a cunning strea my my my my my my my my\n",
      "\u001b[1m1/1\u001b[0m \u001b[32m━━━━━━━━━━━━━━━━━━━━\u001b[0m\u001b[37m\u001b[0m \u001b[1m0s\u001b[0m 40ms/step\n",
      "yes that hides a cunning strea my my my my my my my my my\n",
      "\u001b[1m1/1\u001b[0m \u001b[32m━━━━━━━━━━━━━━━━━━━━\u001b[0m\u001b[37m\u001b[0m \u001b[1m0s\u001b[0m 49ms/step\n",
      "yes that hides a cunning strea my my my my my my my my my my\n"
     ]
    }
   ],
   "source": [
    "import time\n",
    "text = \"My name is Rinki\"\n",
    "text=\"yes that hides a cunning strea\"\n",
    "\n",
    "for i in range(10):\n",
    "  # tokenize\n",
    "  token_text = tokenizer.texts_to_sequences([text])[0]\n",
    "  # padding\n",
    "  padded_token_text = pad_sequences([token_text], maxlen=56, padding='pre')\n",
    "  # predict\n",
    "  pos = np.argmax(model.predict(padded_token_text))\n",
    "\n",
    "  for word,index in tokenizer.word_index.items():\n",
    "    if index == pos:\n",
    "      text = text + \" \" + word\n",
    "      print(text)\n",
    "      # time.sleep()"
   ]
  },
  {
   "cell_type": "code",
   "execution_count": null,
   "metadata": {
    "colab": {
     "base_uri": "https://localhost:8080/"
    },
    "executionInfo": {
     "elapsed": 575,
     "status": "ok",
     "timestamp": 1694508271409,
     "user": {
      "displayName": "CampusX",
      "userId": "17274569631252575216"
     },
     "user_tz": -330
    },
    "id": "TTxsj-_CjbQW",
    "outputId": "7e8e0b43-d8f5-4e87-8caf-33806965ab3a"
   },
   "outputs": [],
   "source": []
  },
  {
   "cell_type": "code",
   "execution_count": null,
   "metadata": {
    "id": "92y7gE6pj9EZ"
   },
   "outputs": [],
   "source": []
  },
  {
   "cell_type": "code",
   "execution_count": null,
   "metadata": {},
   "outputs": [],
   "source": []
  }
 ],
 "metadata": {
  "colab": {
   "authorship_tag": "ABX9TyPpSWiCUts7yj+fzeAAECYm",
   "provenance": []
  },
  "kaggle": {
   "accelerator": "none",
   "dataSources": [],
   "dockerImageVersionId": 31040,
   "isGpuEnabled": false,
   "isInternetEnabled": true,
   "language": "python",
   "sourceType": "notebook"
  },
  "kernelspec": {
   "display_name": "Python 3 (ipykernel)",
   "language": "python",
   "name": "python3"
  },
  "language_info": {
   "codemirror_mode": {
    "name": "ipython",
    "version": 3
   },
   "file_extension": ".py",
   "mimetype": "text/x-python",
   "name": "python",
   "nbconvert_exporter": "python",
   "pygments_lexer": "ipython3",
   "version": "3.12.3"
  }
 },
 "nbformat": 4,
 "nbformat_minor": 4
}
