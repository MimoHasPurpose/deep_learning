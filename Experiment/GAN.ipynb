{
 "cells": [
  {
   "cell_type": "code",
   "execution_count": 1,
   "metadata": {
    "id": "4QuAK2_TsMuz"
   },
   "outputs": [],
   "source": [
    "import tensorflow as tf"
   ]
  },
  {
   "cell_type": "code",
   "execution_count": 2,
   "metadata": {
    "colab": {
     "base_uri": "https://localhost:8080/"
    },
    "id": "7sPVNzMvsShW",
    "outputId": "2ea0db3e-68b1-4f32-bd16-49d5cacf6050"
   },
   "outputs": [
    {
     "name": "stdout",
     "output_type": "stream",
     "text": [
      "Requirement already satisfied: imageio in /usr/local/lib/python3.11/dist-packages (2.37.0)\n",
      "Requirement already satisfied: numpy in /usr/local/lib/python3.11/dist-packages (from imageio) (2.0.2)\n",
      "Requirement already satisfied: pillow>=8.3.2 in /usr/local/lib/python3.11/dist-packages (from imageio) (11.2.1)\n",
      "Collecting git+https://github.com/tensorflow/docs\n",
      "  Cloning https://github.com/tensorflow/docs to /tmp/pip-req-build-ohobij2m\n",
      "  Running command git clone --filter=blob:none --quiet https://github.com/tensorflow/docs /tmp/pip-req-build-ohobij2m\n",
      "  Resolved https://github.com/tensorflow/docs to commit a85e05593b485171c388df1a45b6da668edc39e7\n",
      "  Preparing metadata (setup.py) ... \u001b[?25l\u001b[?25hdone\n",
      "Collecting astor (from tensorflow-docs==2025.3.6.10029)\n",
      "  Downloading astor-0.8.1-py2.py3-none-any.whl.metadata (4.2 kB)\n",
      "Requirement already satisfied: absl-py in /usr/local/lib/python3.11/dist-packages (from tensorflow-docs==2025.3.6.10029) (1.4.0)\n",
      "Requirement already satisfied: jinja2 in /usr/local/lib/python3.11/dist-packages (from tensorflow-docs==2025.3.6.10029) (3.1.6)\n",
      "Requirement already satisfied: nbformat in /usr/local/lib/python3.11/dist-packages (from tensorflow-docs==2025.3.6.10029) (5.10.4)\n",
      "Requirement already satisfied: protobuf>=3.12 in /usr/local/lib/python3.11/dist-packages (from tensorflow-docs==2025.3.6.10029) (5.29.5)\n",
      "Requirement already satisfied: pyyaml in /usr/local/lib/python3.11/dist-packages (from tensorflow-docs==2025.3.6.10029) (6.0.2)\n",
      "Requirement already satisfied: MarkupSafe>=2.0 in /usr/local/lib/python3.11/dist-packages (from jinja2->tensorflow-docs==2025.3.6.10029) (3.0.2)\n",
      "Requirement already satisfied: fastjsonschema>=2.15 in /usr/local/lib/python3.11/dist-packages (from nbformat->tensorflow-docs==2025.3.6.10029) (2.21.1)\n",
      "Requirement already satisfied: jsonschema>=2.6 in /usr/local/lib/python3.11/dist-packages (from nbformat->tensorflow-docs==2025.3.6.10029) (4.24.0)\n",
      "Requirement already satisfied: jupyter-core!=5.0.*,>=4.12 in /usr/local/lib/python3.11/dist-packages (from nbformat->tensorflow-docs==2025.3.6.10029) (5.8.1)\n",
      "Requirement already satisfied: traitlets>=5.1 in /usr/local/lib/python3.11/dist-packages (from nbformat->tensorflow-docs==2025.3.6.10029) (5.7.1)\n",
      "Requirement already satisfied: attrs>=22.2.0 in /usr/local/lib/python3.11/dist-packages (from jsonschema>=2.6->nbformat->tensorflow-docs==2025.3.6.10029) (25.3.0)\n",
      "Requirement already satisfied: jsonschema-specifications>=2023.03.6 in /usr/local/lib/python3.11/dist-packages (from jsonschema>=2.6->nbformat->tensorflow-docs==2025.3.6.10029) (2025.4.1)\n",
      "Requirement already satisfied: referencing>=0.28.4 in /usr/local/lib/python3.11/dist-packages (from jsonschema>=2.6->nbformat->tensorflow-docs==2025.3.6.10029) (0.36.2)\n",
      "Requirement already satisfied: rpds-py>=0.7.1 in /usr/local/lib/python3.11/dist-packages (from jsonschema>=2.6->nbformat->tensorflow-docs==2025.3.6.10029) (0.25.1)\n",
      "Requirement already satisfied: platformdirs>=2.5 in /usr/local/lib/python3.11/dist-packages (from jupyter-core!=5.0.*,>=4.12->nbformat->tensorflow-docs==2025.3.6.10029) (4.3.8)\n",
      "Requirement already satisfied: typing-extensions>=4.4.0 in /usr/local/lib/python3.11/dist-packages (from referencing>=0.28.4->jsonschema>=2.6->nbformat->tensorflow-docs==2025.3.6.10029) (4.14.0)\n",
      "Downloading astor-0.8.1-py2.py3-none-any.whl (27 kB)\n",
      "Building wheels for collected packages: tensorflow-docs\n",
      "  Building wheel for tensorflow-docs (setup.py) ... \u001b[?25l\u001b[?25hdone\n",
      "  Created wheel for tensorflow-docs: filename=tensorflow_docs-2025.3.6.10029-py3-none-any.whl size=186351 sha256=5498f1b936c81444bcbd37097127d9f97da4117fd501fcce3b8b7dd8fdd1ba94\n",
      "  Stored in directory: /tmp/pip-ephem-wheel-cache-3d8bs1xs/wheels/34/53/89/3db54cf97ce0f0261aaab3fdc12a847ea0879d34edf373e2c5\n",
      "Successfully built tensorflow-docs\n",
      "Installing collected packages: astor, tensorflow-docs\n",
      "Successfully installed astor-0.8.1 tensorflow-docs-2025.3.6.10029\n"
     ]
    }
   ],
   "source": [
    "# To generate GIFs\n",
    "!pip install imageio\n",
    "!pip install git+https://github.com/tensorflow/docs"
   ]
  },
  {
   "cell_type": "code",
   "execution_count": 2,
   "metadata": {
    "id": "41OcWE8AsUQk"
   },
   "outputs": [],
   "source": [
    "import glob\n",
    "import imageio\n",
    "import matplotlib.pyplot as plt\n",
    "import numpy as np\n",
    "import os\n",
    "import PIL\n",
    "from tensorflow.keras import layers\n",
    "import time\n",
    "\n",
    "from IPython import display"
   ]
  },
  {
   "cell_type": "code",
   "execution_count": 70,
   "metadata": {
    "id": "uw93zCCNY3Ms"
   },
   "outputs": [
    {
     "data": {
      "text/plain": [
       "\u001b[1;31mType:\u001b[0m        module\n",
       "\u001b[1;31mString form:\u001b[0m <module 'keras.api.datasets' from 'C:\\\\Users\\\\user\\\\miniconda3\\\\Lib\\\\site-packages\\\\keras\\\\api\\\\datasets\\\\__init__.py'>\n",
       "\u001b[1;31mFile:\u001b[0m        c:\\users\\user\\miniconda3\\lib\\site-packages\\keras\\api\\datasets\\__init__.py\n",
       "\u001b[1;31mDocstring:\u001b[0m  \n",
       "DO NOT EDIT.\n",
       "\n",
       "This file was autogenerated. Do not edit it by hand,\n",
       "since your modifications would be overwritten."
      ]
     },
     "metadata": {},
     "output_type": "display_data"
    }
   ],
   "source": [
    "tf.keras.datasets?"
   ]
  },
  {
   "cell_type": "code",
   "execution_count": 30,
   "metadata": {
    "colab": {
     "base_uri": "https://localhost:8080/"
    },
    "id": "qMXJc5IIsU8Z",
    "outputId": "f955be67-7960-4a3f-904d-4f0016dc5ab2"
   },
   "outputs": [],
   "source": [
    "(train_images, train_labels), (_, _) = tf.keras.datasets.mnist.load_data()"
   ]
  },
  {
   "cell_type": "code",
   "execution_count": 31,
   "metadata": {},
   "outputs": [],
   "source": [
    "train_images = train_images.reshape(train_images.shape[0], 28, 28, 1).astype('float32')\n",
    "train_images = (train_images - 127.5) / 127.5  # Normalize the images to [-1, 1]"
   ]
  },
  {
   "cell_type": "code",
   "execution_count": 32,
   "metadata": {
    "colab": {
     "base_uri": "https://localhost:8080/"
    },
    "id": "CfqpuZnrZPb_",
    "outputId": "59da691c-5fc7-47a6-9dfc-b5eb33410ac0"
   },
   "outputs": [
    {
     "data": {
      "text/plain": [
       "(60000, 28, 28, 1)"
      ]
     },
     "execution_count": 32,
     "metadata": {},
     "output_type": "execute_result"
    }
   ],
   "source": [
    "train_images.shape"
   ]
  },
  {
   "cell_type": "code",
   "execution_count": 33,
   "metadata": {
    "colab": {
     "base_uri": "https://localhost:8080/"
    },
    "id": "6ZoUJk5wZPrM",
    "outputId": "d4b836dc-18a6-4ca5-dffa-02c5bef05135"
   },
   "outputs": [
    {
     "data": {
      "text/plain": [
       "array([5, 0, 4, ..., 5, 6, 8], shape=(60000,), dtype=uint8)"
      ]
     },
     "execution_count": 33,
     "metadata": {},
     "output_type": "execute_result"
    }
   ],
   "source": [
    "train_labels"
   ]
  },
  {
   "cell_type": "code",
   "execution_count": 34,
   "metadata": {
    "id": "UWDyfDTusU_L"
   },
   "outputs": [],
   "source": [
    "BUFFER_SIZE = 800\n",
    "BATCH_SIZE = 256"
   ]
  },
  {
   "cell_type": "code",
   "execution_count": 35,
   "metadata": {
    "id": "5J2GfkhWsVDM"
   },
   "outputs": [],
   "source": [
    "# Batch and shuffle the data\n",
    "train_dataset = tf.data.Dataset.from_tensor_slices(train_images).shuffle(BUFFER_SIZE).batch(BATCH_SIZE)"
   ]
  },
  {
   "cell_type": "code",
   "execution_count": null,
   "metadata": {
    "id": "tid_ooA_Zkjp"
   },
   "outputs": [],
   "source": []
  },
  {
   "cell_type": "code",
   "execution_count": null,
   "metadata": {
    "id": "bGKQyIl7Zk2I"
   },
   "outputs": [],
   "source": []
  },
  {
   "cell_type": "code",
   "execution_count": 36,
   "metadata": {
    "id": "U-AQKZnmsVFz"
   },
   "outputs": [],
   "source": [
    "def make_generator_model():\n",
    "    model = tf.keras.Sequential()\n",
    "    model.add(layers.Dense(7*7*256, use_bias=False, input_shape=(100,)))\n",
    "    model.add(layers.BatchNormalization())\n",
    "    model.add(layers.LeakyReLU())\n",
    "\n",
    "    model.add(layers.Reshape((7, 7, 256)))\n",
    "    assert model.output_shape == (None, 7, 7, 256)  # Note: None is the batch size\n",
    "\n",
    "    model.add(layers.Conv2DTranspose(128, (5, 5), strides=(1, 1), padding='same', use_bias=False))\n",
    "    assert model.output_shape == (None, 7, 7, 128)\n",
    "    model.add(layers.BatchNormalization())\n",
    "    model.add(layers.LeakyReLU())\n",
    "\n",
    "    model.add(layers.Conv2DTranspose(64, (5, 5), strides=(2, 2), padding='same', use_bias=False))\n",
    "    assert model.output_shape == (None, 14, 14, 64)\n",
    "    model.add(layers.BatchNormalization())\n",
    "    model.add(layers.LeakyReLU())\n",
    "\n",
    "    model.add(layers.Conv2DTranspose(1, (5, 5), strides=(2, 2), padding='same', use_bias=False, activation='tanh'))\n",
    "    assert model.output_shape == (None, 28, 28, 1)\n",
    "\n",
    "    return model"
   ]
  },
  {
   "cell_type": "code",
   "execution_count": 37,
   "metadata": {
    "colab": {
     "base_uri": "https://localhost:8080/",
     "height": 612
    },
    "id": "YBIzRC7raa-O",
    "outputId": "1e8ca9ad-802d-4927-a091-50dac8ce71be"
   },
   "outputs": [
    {
     "data": {
      "text/html": [
       "<pre style=\"white-space:pre;overflow-x:auto;line-height:normal;font-family:Menlo,'DejaVu Sans Mono',consolas,'Courier New',monospace\"><span style=\"font-weight: bold\">Model: \"sequential\"</span>\n",
       "</pre>\n"
      ],
      "text/plain": [
       "\u001b[1mModel: \"sequential\"\u001b[0m\n"
      ]
     },
     "metadata": {},
     "output_type": "display_data"
    },
    {
     "data": {
      "text/html": [
       "<pre style=\"white-space:pre;overflow-x:auto;line-height:normal;font-family:Menlo,'DejaVu Sans Mono',consolas,'Courier New',monospace\">┏━━━━━━━━━━━━━━━━━━━━━━━━━━━━━━━━━━━━━━┳━━━━━━━━━━━━━━━━━━━━━━━━━━━━━┳━━━━━━━━━━━━━━━━━┓\n",
       "┃<span style=\"font-weight: bold\"> Layer (type)                         </span>┃<span style=\"font-weight: bold\"> Output Shape                </span>┃<span style=\"font-weight: bold\">         Param # </span>┃\n",
       "┡━━━━━━━━━━━━━━━━━━━━━━━━━━━━━━━━━━━━━━╇━━━━━━━━━━━━━━━━━━━━━━━━━━━━━╇━━━━━━━━━━━━━━━━━┩\n",
       "│ dense (<span style=\"color: #0087ff; text-decoration-color: #0087ff\">Dense</span>)                        │ (<span style=\"color: #00d7ff; text-decoration-color: #00d7ff\">None</span>, <span style=\"color: #00af00; text-decoration-color: #00af00\">12544</span>)               │       <span style=\"color: #00af00; text-decoration-color: #00af00\">1,254,400</span> │\n",
       "├──────────────────────────────────────┼─────────────────────────────┼─────────────────┤\n",
       "│ batch_normalization                  │ (<span style=\"color: #00d7ff; text-decoration-color: #00d7ff\">None</span>, <span style=\"color: #00af00; text-decoration-color: #00af00\">12544</span>)               │          <span style=\"color: #00af00; text-decoration-color: #00af00\">50,176</span> │\n",
       "│ (<span style=\"color: #0087ff; text-decoration-color: #0087ff\">BatchNormalization</span>)                 │                             │                 │\n",
       "├──────────────────────────────────────┼─────────────────────────────┼─────────────────┤\n",
       "│ leaky_re_lu (<span style=\"color: #0087ff; text-decoration-color: #0087ff\">LeakyReLU</span>)              │ (<span style=\"color: #00d7ff; text-decoration-color: #00d7ff\">None</span>, <span style=\"color: #00af00; text-decoration-color: #00af00\">12544</span>)               │               <span style=\"color: #00af00; text-decoration-color: #00af00\">0</span> │\n",
       "├──────────────────────────────────────┼─────────────────────────────┼─────────────────┤\n",
       "│ reshape (<span style=\"color: #0087ff; text-decoration-color: #0087ff\">Reshape</span>)                    │ (<span style=\"color: #00d7ff; text-decoration-color: #00d7ff\">None</span>, <span style=\"color: #00af00; text-decoration-color: #00af00\">7</span>, <span style=\"color: #00af00; text-decoration-color: #00af00\">7</span>, <span style=\"color: #00af00; text-decoration-color: #00af00\">256</span>)           │               <span style=\"color: #00af00; text-decoration-color: #00af00\">0</span> │\n",
       "├──────────────────────────────────────┼─────────────────────────────┼─────────────────┤\n",
       "│ conv2d_transpose (<span style=\"color: #0087ff; text-decoration-color: #0087ff\">Conv2DTranspose</span>)   │ (<span style=\"color: #00d7ff; text-decoration-color: #00d7ff\">None</span>, <span style=\"color: #00af00; text-decoration-color: #00af00\">7</span>, <span style=\"color: #00af00; text-decoration-color: #00af00\">7</span>, <span style=\"color: #00af00; text-decoration-color: #00af00\">128</span>)           │         <span style=\"color: #00af00; text-decoration-color: #00af00\">819,200</span> │\n",
       "├──────────────────────────────────────┼─────────────────────────────┼─────────────────┤\n",
       "│ batch_normalization_1                │ (<span style=\"color: #00d7ff; text-decoration-color: #00d7ff\">None</span>, <span style=\"color: #00af00; text-decoration-color: #00af00\">7</span>, <span style=\"color: #00af00; text-decoration-color: #00af00\">7</span>, <span style=\"color: #00af00; text-decoration-color: #00af00\">128</span>)           │             <span style=\"color: #00af00; text-decoration-color: #00af00\">512</span> │\n",
       "│ (<span style=\"color: #0087ff; text-decoration-color: #0087ff\">BatchNormalization</span>)                 │                             │                 │\n",
       "├──────────────────────────────────────┼─────────────────────────────┼─────────────────┤\n",
       "│ leaky_re_lu_1 (<span style=\"color: #0087ff; text-decoration-color: #0087ff\">LeakyReLU</span>)            │ (<span style=\"color: #00d7ff; text-decoration-color: #00d7ff\">None</span>, <span style=\"color: #00af00; text-decoration-color: #00af00\">7</span>, <span style=\"color: #00af00; text-decoration-color: #00af00\">7</span>, <span style=\"color: #00af00; text-decoration-color: #00af00\">128</span>)           │               <span style=\"color: #00af00; text-decoration-color: #00af00\">0</span> │\n",
       "├──────────────────────────────────────┼─────────────────────────────┼─────────────────┤\n",
       "│ conv2d_transpose_1 (<span style=\"color: #0087ff; text-decoration-color: #0087ff\">Conv2DTranspose</span>) │ (<span style=\"color: #00d7ff; text-decoration-color: #00d7ff\">None</span>, <span style=\"color: #00af00; text-decoration-color: #00af00\">14</span>, <span style=\"color: #00af00; text-decoration-color: #00af00\">14</span>, <span style=\"color: #00af00; text-decoration-color: #00af00\">64</span>)          │         <span style=\"color: #00af00; text-decoration-color: #00af00\">204,800</span> │\n",
       "├──────────────────────────────────────┼─────────────────────────────┼─────────────────┤\n",
       "│ batch_normalization_2                │ (<span style=\"color: #00d7ff; text-decoration-color: #00d7ff\">None</span>, <span style=\"color: #00af00; text-decoration-color: #00af00\">14</span>, <span style=\"color: #00af00; text-decoration-color: #00af00\">14</span>, <span style=\"color: #00af00; text-decoration-color: #00af00\">64</span>)          │             <span style=\"color: #00af00; text-decoration-color: #00af00\">256</span> │\n",
       "│ (<span style=\"color: #0087ff; text-decoration-color: #0087ff\">BatchNormalization</span>)                 │                             │                 │\n",
       "├──────────────────────────────────────┼─────────────────────────────┼─────────────────┤\n",
       "│ leaky_re_lu_2 (<span style=\"color: #0087ff; text-decoration-color: #0087ff\">LeakyReLU</span>)            │ (<span style=\"color: #00d7ff; text-decoration-color: #00d7ff\">None</span>, <span style=\"color: #00af00; text-decoration-color: #00af00\">14</span>, <span style=\"color: #00af00; text-decoration-color: #00af00\">14</span>, <span style=\"color: #00af00; text-decoration-color: #00af00\">64</span>)          │               <span style=\"color: #00af00; text-decoration-color: #00af00\">0</span> │\n",
       "├──────────────────────────────────────┼─────────────────────────────┼─────────────────┤\n",
       "│ conv2d_transpose_2 (<span style=\"color: #0087ff; text-decoration-color: #0087ff\">Conv2DTranspose</span>) │ (<span style=\"color: #00d7ff; text-decoration-color: #00d7ff\">None</span>, <span style=\"color: #00af00; text-decoration-color: #00af00\">28</span>, <span style=\"color: #00af00; text-decoration-color: #00af00\">28</span>, <span style=\"color: #00af00; text-decoration-color: #00af00\">1</span>)           │           <span style=\"color: #00af00; text-decoration-color: #00af00\">1,600</span> │\n",
       "└──────────────────────────────────────┴─────────────────────────────┴─────────────────┘\n",
       "</pre>\n"
      ],
      "text/plain": [
       "┏━━━━━━━━━━━━━━━━━━━━━━━━━━━━━━━━━━━━━━┳━━━━━━━━━━━━━━━━━━━━━━━━━━━━━┳━━━━━━━━━━━━━━━━━┓\n",
       "┃\u001b[1m \u001b[0m\u001b[1mLayer (type)                        \u001b[0m\u001b[1m \u001b[0m┃\u001b[1m \u001b[0m\u001b[1mOutput Shape               \u001b[0m\u001b[1m \u001b[0m┃\u001b[1m \u001b[0m\u001b[1m        Param #\u001b[0m\u001b[1m \u001b[0m┃\n",
       "┡━━━━━━━━━━━━━━━━━━━━━━━━━━━━━━━━━━━━━━╇━━━━━━━━━━━━━━━━━━━━━━━━━━━━━╇━━━━━━━━━━━━━━━━━┩\n",
       "│ dense (\u001b[38;5;33mDense\u001b[0m)                        │ (\u001b[38;5;45mNone\u001b[0m, \u001b[38;5;34m12544\u001b[0m)               │       \u001b[38;5;34m1,254,400\u001b[0m │\n",
       "├──────────────────────────────────────┼─────────────────────────────┼─────────────────┤\n",
       "│ batch_normalization                  │ (\u001b[38;5;45mNone\u001b[0m, \u001b[38;5;34m12544\u001b[0m)               │          \u001b[38;5;34m50,176\u001b[0m │\n",
       "│ (\u001b[38;5;33mBatchNormalization\u001b[0m)                 │                             │                 │\n",
       "├──────────────────────────────────────┼─────────────────────────────┼─────────────────┤\n",
       "│ leaky_re_lu (\u001b[38;5;33mLeakyReLU\u001b[0m)              │ (\u001b[38;5;45mNone\u001b[0m, \u001b[38;5;34m12544\u001b[0m)               │               \u001b[38;5;34m0\u001b[0m │\n",
       "├──────────────────────────────────────┼─────────────────────────────┼─────────────────┤\n",
       "│ reshape (\u001b[38;5;33mReshape\u001b[0m)                    │ (\u001b[38;5;45mNone\u001b[0m, \u001b[38;5;34m7\u001b[0m, \u001b[38;5;34m7\u001b[0m, \u001b[38;5;34m256\u001b[0m)           │               \u001b[38;5;34m0\u001b[0m │\n",
       "├──────────────────────────────────────┼─────────────────────────────┼─────────────────┤\n",
       "│ conv2d_transpose (\u001b[38;5;33mConv2DTranspose\u001b[0m)   │ (\u001b[38;5;45mNone\u001b[0m, \u001b[38;5;34m7\u001b[0m, \u001b[38;5;34m7\u001b[0m, \u001b[38;5;34m128\u001b[0m)           │         \u001b[38;5;34m819,200\u001b[0m │\n",
       "├──────────────────────────────────────┼─────────────────────────────┼─────────────────┤\n",
       "│ batch_normalization_1                │ (\u001b[38;5;45mNone\u001b[0m, \u001b[38;5;34m7\u001b[0m, \u001b[38;5;34m7\u001b[0m, \u001b[38;5;34m128\u001b[0m)           │             \u001b[38;5;34m512\u001b[0m │\n",
       "│ (\u001b[38;5;33mBatchNormalization\u001b[0m)                 │                             │                 │\n",
       "├──────────────────────────────────────┼─────────────────────────────┼─────────────────┤\n",
       "│ leaky_re_lu_1 (\u001b[38;5;33mLeakyReLU\u001b[0m)            │ (\u001b[38;5;45mNone\u001b[0m, \u001b[38;5;34m7\u001b[0m, \u001b[38;5;34m7\u001b[0m, \u001b[38;5;34m128\u001b[0m)           │               \u001b[38;5;34m0\u001b[0m │\n",
       "├──────────────────────────────────────┼─────────────────────────────┼─────────────────┤\n",
       "│ conv2d_transpose_1 (\u001b[38;5;33mConv2DTranspose\u001b[0m) │ (\u001b[38;5;45mNone\u001b[0m, \u001b[38;5;34m14\u001b[0m, \u001b[38;5;34m14\u001b[0m, \u001b[38;5;34m64\u001b[0m)          │         \u001b[38;5;34m204,800\u001b[0m │\n",
       "├──────────────────────────────────────┼─────────────────────────────┼─────────────────┤\n",
       "│ batch_normalization_2                │ (\u001b[38;5;45mNone\u001b[0m, \u001b[38;5;34m14\u001b[0m, \u001b[38;5;34m14\u001b[0m, \u001b[38;5;34m64\u001b[0m)          │             \u001b[38;5;34m256\u001b[0m │\n",
       "│ (\u001b[38;5;33mBatchNormalization\u001b[0m)                 │                             │                 │\n",
       "├──────────────────────────────────────┼─────────────────────────────┼─────────────────┤\n",
       "│ leaky_re_lu_2 (\u001b[38;5;33mLeakyReLU\u001b[0m)            │ (\u001b[38;5;45mNone\u001b[0m, \u001b[38;5;34m14\u001b[0m, \u001b[38;5;34m14\u001b[0m, \u001b[38;5;34m64\u001b[0m)          │               \u001b[38;5;34m0\u001b[0m │\n",
       "├──────────────────────────────────────┼─────────────────────────────┼─────────────────┤\n",
       "│ conv2d_transpose_2 (\u001b[38;5;33mConv2DTranspose\u001b[0m) │ (\u001b[38;5;45mNone\u001b[0m, \u001b[38;5;34m28\u001b[0m, \u001b[38;5;34m28\u001b[0m, \u001b[38;5;34m1\u001b[0m)           │           \u001b[38;5;34m1,600\u001b[0m │\n",
       "└──────────────────────────────────────┴─────────────────────────────┴─────────────────┘\n"
      ]
     },
     "metadata": {},
     "output_type": "display_data"
    },
    {
     "data": {
      "text/html": [
       "<pre style=\"white-space:pre;overflow-x:auto;line-height:normal;font-family:Menlo,'DejaVu Sans Mono',consolas,'Courier New',monospace\"><span style=\"font-weight: bold\"> Total params: </span><span style=\"color: #00af00; text-decoration-color: #00af00\">2,330,944</span> (8.89 MB)\n",
       "</pre>\n"
      ],
      "text/plain": [
       "\u001b[1m Total params: \u001b[0m\u001b[38;5;34m2,330,944\u001b[0m (8.89 MB)\n"
      ]
     },
     "metadata": {},
     "output_type": "display_data"
    },
    {
     "data": {
      "text/html": [
       "<pre style=\"white-space:pre;overflow-x:auto;line-height:normal;font-family:Menlo,'DejaVu Sans Mono',consolas,'Courier New',monospace\"><span style=\"font-weight: bold\"> Trainable params: </span><span style=\"color: #00af00; text-decoration-color: #00af00\">2,305,472</span> (8.79 MB)\n",
       "</pre>\n"
      ],
      "text/plain": [
       "\u001b[1m Trainable params: \u001b[0m\u001b[38;5;34m2,305,472\u001b[0m (8.79 MB)\n"
      ]
     },
     "metadata": {},
     "output_type": "display_data"
    },
    {
     "data": {
      "text/html": [
       "<pre style=\"white-space:pre;overflow-x:auto;line-height:normal;font-family:Menlo,'DejaVu Sans Mono',consolas,'Courier New',monospace\"><span style=\"font-weight: bold\"> Non-trainable params: </span><span style=\"color: #00af00; text-decoration-color: #00af00\">25,472</span> (99.50 KB)\n",
       "</pre>\n"
      ],
      "text/plain": [
       "\u001b[1m Non-trainable params: \u001b[0m\u001b[38;5;34m25,472\u001b[0m (99.50 KB)\n"
      ]
     },
     "metadata": {},
     "output_type": "display_data"
    }
   ],
   "source": [
    "generator.summary()"
   ]
  },
  {
   "cell_type": "code",
   "execution_count": 58,
   "metadata": {},
   "outputs": [
    {
     "data": {
      "text/plain": [
       "<tf.Tensor: shape=(1, 28, 28, 1), dtype=float32, numpy=\n",
       "array([[[[ 3.03416222e-04],\n",
       "         [-5.70738409e-03],\n",
       "         [ 5.09118603e-04],\n",
       "         [ 6.17765938e-04],\n",
       "         [ 1.34133035e-04],\n",
       "         [ 1.77244246e-02],\n",
       "         [-6.48633251e-03],\n",
       "         [-5.89356152e-03],\n",
       "         [-2.57261703e-03],\n",
       "         [-3.40216095e-03],\n",
       "         [-9.11920425e-03],\n",
       "         [ 5.23365987e-03],\n",
       "         [ 4.95784171e-03],\n",
       "         [ 6.86436053e-03],\n",
       "         [ 1.59857748e-03],\n",
       "         [ 5.19718649e-03],\n",
       "         [ 2.99527682e-03],\n",
       "         [ 1.05262140e-03],\n",
       "         [-1.73280984e-02],\n",
       "         [-9.50443675e-04],\n",
       "         [-1.12041330e-03],\n",
       "         [ 1.19873136e-02],\n",
       "         [ 3.13905417e-03],\n",
       "         [ 6.61472278e-03],\n",
       "         [-7.36092543e-03],\n",
       "         [-5.31832781e-03],\n",
       "         [ 3.48642608e-03],\n",
       "         [ 2.24629347e-03]],\n",
       "\n",
       "        [[ 6.71348476e-04],\n",
       "         [ 8.80052056e-03],\n",
       "         [-6.36160234e-03],\n",
       "         [ 1.55687258e-02],\n",
       "         [-2.97727087e-03],\n",
       "         [ 1.26830535e-04],\n",
       "         [-4.10991115e-03],\n",
       "         [ 2.47552786e-02],\n",
       "         [-1.06563121e-02],\n",
       "         [ 9.40375682e-03],\n",
       "         [-2.54013343e-03],\n",
       "         [ 5.44215553e-03],\n",
       "         [ 2.90635135e-03],\n",
       "         [ 1.84755921e-02],\n",
       "         [ 8.89938907e-04],\n",
       "         [-1.10402156e-03],\n",
       "         [ 1.24948146e-02],\n",
       "         [ 5.88935241e-03],\n",
       "         [-1.36724347e-02],\n",
       "         [-4.96374071e-03],\n",
       "         [ 6.87949243e-04],\n",
       "         [ 2.64761373e-02],\n",
       "         [-6.92967931e-03],\n",
       "         [-1.05640274e-02],\n",
       "         [ 7.43567478e-03],\n",
       "         [ 3.33126378e-03],\n",
       "         [-4.51581972e-03],\n",
       "         [ 4.60561458e-03]],\n",
       "\n",
       "        [[ 3.45621025e-04],\n",
       "         [ 2.41489103e-03],\n",
       "         [-2.80998275e-03],\n",
       "         [ 4.30334732e-03],\n",
       "         [ 2.54131388e-03],\n",
       "         [-1.37522221e-02],\n",
       "         [-3.59701365e-03],\n",
       "         [ 5.48477238e-03],\n",
       "         [ 9.71221365e-03],\n",
       "         [-6.40739547e-03],\n",
       "         [-2.28348863e-03],\n",
       "         [ 3.12710158e-03],\n",
       "         [ 5.13541372e-03],\n",
       "         [ 1.23797404e-02],\n",
       "         [-7.28205603e-04],\n",
       "         [ 4.08384716e-03],\n",
       "         [ 8.43329448e-03],\n",
       "         [ 1.22481836e-02],\n",
       "         [-1.14658047e-02],\n",
       "         [ 1.21167786e-02],\n",
       "         [ 6.48280326e-03],\n",
       "         [-3.76493409e-02],\n",
       "         [-3.87781160e-03],\n",
       "         [ 4.80880775e-03],\n",
       "         [-1.46832196e-02],\n",
       "         [-7.77334766e-03],\n",
       "         [-4.36287327e-03],\n",
       "         [ 1.03771938e-02]],\n",
       "\n",
       "        [[ 8.51086341e-03],\n",
       "         [-6.52437855e-04],\n",
       "         [-1.53575847e-02],\n",
       "         [ 8.06982070e-03],\n",
       "         [ 6.43660733e-03],\n",
       "         [-2.23990399e-02],\n",
       "         [-6.68329140e-03],\n",
       "         [ 2.46598125e-02],\n",
       "         [ 1.97064541e-02],\n",
       "         [ 1.74762483e-03],\n",
       "         [-1.09908758e-02],\n",
       "         [-1.60372034e-02],\n",
       "         [ 5.78192202e-03],\n",
       "         [ 2.15529911e-02],\n",
       "         [-2.95785349e-02],\n",
       "         [-1.65577065e-02],\n",
       "         [-2.12960457e-03],\n",
       "         [ 1.10002048e-02],\n",
       "         [-2.13325699e-03],\n",
       "         [ 3.02809067e-02],\n",
       "         [-1.10845333e-02],\n",
       "         [-3.63455201e-03],\n",
       "         [-3.42113450e-02],\n",
       "         [ 1.14352824e-02],\n",
       "         [ 6.99011143e-04],\n",
       "         [-1.28800573e-03],\n",
       "         [-1.57012641e-02],\n",
       "         [-1.49166735e-03]],\n",
       "\n",
       "        [[-2.88918079e-03],\n",
       "         [ 1.37614561e-02],\n",
       "         [-1.73540674e-02],\n",
       "         [ 1.83286949e-03],\n",
       "         [-2.74672154e-02],\n",
       "         [-1.62433868e-03],\n",
       "         [-1.97509807e-02],\n",
       "         [ 2.44583003e-04],\n",
       "         [-1.60787348e-02],\n",
       "         [-1.82277132e-02],\n",
       "         [-1.63468756e-02],\n",
       "         [ 1.47317229e-02],\n",
       "         [-3.45069282e-02],\n",
       "         [ 5.96338697e-03],\n",
       "         [-2.32512411e-02],\n",
       "         [ 6.25551119e-03],\n",
       "         [-1.13651156e-02],\n",
       "         [-1.37420958e-02],\n",
       "         [-6.82107592e-03],\n",
       "         [ 1.81855820e-02],\n",
       "         [-1.79090295e-02],\n",
       "         [-8.63189343e-03],\n",
       "         [-1.34424930e-02],\n",
       "         [ 9.95696057e-03],\n",
       "         [-1.36152450e-02],\n",
       "         [ 6.37408346e-03],\n",
       "         [ 1.30930508e-03],\n",
       "         [-8.08862876e-03]],\n",
       "\n",
       "        [[ 4.31968179e-03],\n",
       "         [ 1.95928421e-02],\n",
       "         [ 2.45991326e-03],\n",
       "         [ 1.17100859e-02],\n",
       "         [-1.90435313e-02],\n",
       "         [-5.36908861e-03],\n",
       "         [-1.47625583e-03],\n",
       "         [ 8.31431989e-03],\n",
       "         [-1.99707095e-02],\n",
       "         [-4.31291340e-03],\n",
       "         [-3.47988657e-03],\n",
       "         [-7.02378713e-03],\n",
       "         [-4.12060739e-03],\n",
       "         [-8.85719340e-03],\n",
       "         [-1.72692612e-02],\n",
       "         [-6.22471608e-03],\n",
       "         [ 2.82072853e-02],\n",
       "         [ 1.87284295e-02],\n",
       "         [-1.36445193e-02],\n",
       "         [-3.01579945e-04],\n",
       "         [ 2.10286174e-02],\n",
       "         [ 6.70238072e-03],\n",
       "         [-2.26269495e-02],\n",
       "         [ 4.13902886e-02],\n",
       "         [ 4.48413147e-03],\n",
       "         [ 1.49802270e-03],\n",
       "         [ 1.20331976e-03],\n",
       "         [-8.45009275e-03]],\n",
       "\n",
       "        [[ 2.42943552e-05],\n",
       "         [-1.36405258e-02],\n",
       "         [ 1.44491426e-03],\n",
       "         [ 2.06939802e-02],\n",
       "         [ 1.56174554e-03],\n",
       "         [-4.35136631e-03],\n",
       "         [-4.78753075e-03],\n",
       "         [ 1.67788304e-02],\n",
       "         [-9.89366788e-03],\n",
       "         [-4.01583239e-02],\n",
       "         [ 3.03036999e-03],\n",
       "         [ 3.58130364e-03],\n",
       "         [-1.47226891e-02],\n",
       "         [-1.56345125e-02],\n",
       "         [-2.01111510e-02],\n",
       "         [ 5.29538356e-02],\n",
       "         [-1.47154564e-02],\n",
       "         [-1.35556478e-02],\n",
       "         [ 7.72521645e-03],\n",
       "         [ 1.11022480e-02],\n",
       "         [-1.80293750e-02],\n",
       "         [ 2.24472489e-02],\n",
       "         [-9.08475369e-03],\n",
       "         [ 1.30237006e-02],\n",
       "         [-2.35131732e-03],\n",
       "         [ 1.53007274e-02],\n",
       "         [-1.35813914e-02],\n",
       "         [ 7.55442306e-05]],\n",
       "\n",
       "        [[ 9.49958526e-03],\n",
       "         [-6.45576860e-04],\n",
       "         [-2.77373716e-02],\n",
       "         [ 7.63423787e-03],\n",
       "         [ 4.72381944e-05],\n",
       "         [ 9.73390415e-03],\n",
       "         [-2.17413120e-02],\n",
       "         [-3.72322509e-04],\n",
       "         [-6.88617397e-03],\n",
       "         [ 5.58866076e-02],\n",
       "         [-2.78763585e-02],\n",
       "         [ 5.06017078e-03],\n",
       "         [ 1.19890189e-02],\n",
       "         [-2.11706385e-04],\n",
       "         [-3.08066215e-02],\n",
       "         [-1.44551031e-03],\n",
       "         [-6.68811146e-03],\n",
       "         [ 1.73985194e-02],\n",
       "         [-3.99540737e-02],\n",
       "         [ 6.10531913e-03],\n",
       "         [ 1.60946250e-02],\n",
       "         [ 1.71598401e-02],\n",
       "         [-4.99633513e-02],\n",
       "         [ 2.76846997e-03],\n",
       "         [-6.89059636e-03],\n",
       "         [ 2.80926879e-02],\n",
       "         [-1.92827154e-02],\n",
       "         [-1.81946568e-02]],\n",
       "\n",
       "        [[-2.66128452e-04],\n",
       "         [-9.40054655e-03],\n",
       "         [-5.06256241e-03],\n",
       "         [ 5.13074687e-03],\n",
       "         [ 1.20110456e-02],\n",
       "         [ 3.80868558e-04],\n",
       "         [ 1.83165502e-02],\n",
       "         [-1.51435109e-02],\n",
       "         [ 8.37670360e-03],\n",
       "         [ 1.83463003e-02],\n",
       "         [-1.25125460e-02],\n",
       "         [ 3.53620946e-02],\n",
       "         [ 2.50832289e-02],\n",
       "         [-1.36272078e-02],\n",
       "         [ 2.78867129e-02],\n",
       "         [-1.57660358e-02],\n",
       "         [ 4.91180830e-03],\n",
       "         [-5.83479321e-03],\n",
       "         [-3.39278542e-02],\n",
       "         [ 4.85051796e-03],\n",
       "         [ 2.33637821e-03],\n",
       "         [ 1.01285847e-03],\n",
       "         [ 1.80347469e-02],\n",
       "         [ 6.57355529e-04],\n",
       "         [ 2.29342915e-02],\n",
       "         [ 8.39222036e-03],\n",
       "         [-2.13482492e-02],\n",
       "         [-4.22949810e-03]],\n",
       "\n",
       "        [[-1.59158441e-03],\n",
       "         [ 1.94572210e-02],\n",
       "         [-9.06428229e-03],\n",
       "         [-3.81895341e-04],\n",
       "         [ 5.05905878e-03],\n",
       "         [ 1.03938757e-02],\n",
       "         [-2.15472747e-02],\n",
       "         [ 8.24714173e-03],\n",
       "         [-2.46414915e-04],\n",
       "         [ 4.20469865e-02],\n",
       "         [-1.00628873e-02],\n",
       "         [-9.87366401e-03],\n",
       "         [-1.68160128e-04],\n",
       "         [-3.78339947e-03],\n",
       "         [ 3.60298227e-03],\n",
       "         [ 1.94343943e-02],\n",
       "         [-2.79229600e-04],\n",
       "         [ 2.17877533e-02],\n",
       "         [-1.47134075e-02],\n",
       "         [ 1.90122258e-02],\n",
       "         [-1.11940755e-02],\n",
       "         [-1.43250439e-03],\n",
       "         [ 8.78438354e-03],\n",
       "         [ 1.09333859e-03],\n",
       "         [-1.56367943e-02],\n",
       "         [ 2.12713797e-02],\n",
       "         [-5.71713597e-03],\n",
       "         [ 7.33302254e-03]],\n",
       "\n",
       "        [[ 9.33038769e-04],\n",
       "         [-4.35745530e-03],\n",
       "         [ 4.33770102e-03],\n",
       "         [ 7.77538517e-04],\n",
       "         [-4.91150795e-03],\n",
       "         [-2.01799572e-02],\n",
       "         [-4.49474109e-03],\n",
       "         [-3.27972486e-03],\n",
       "         [ 5.22767659e-03],\n",
       "         [-4.74043656e-03],\n",
       "         [-1.53274008e-03],\n",
       "         [-5.74217364e-03],\n",
       "         [-6.97292155e-03],\n",
       "         [ 1.64713599e-02],\n",
       "         [-3.87386270e-02],\n",
       "         [-5.46770729e-03],\n",
       "         [-2.95033064e-02],\n",
       "         [-9.77782719e-03],\n",
       "         [-3.52902710e-02],\n",
       "         [ 6.08831737e-03],\n",
       "         [-8.08233581e-03],\n",
       "         [-2.44825371e-02],\n",
       "         [-2.61246180e-03],\n",
       "         [ 2.23149266e-02],\n",
       "         [-2.40968298e-02],\n",
       "         [-7.42808171e-03],\n",
       "         [-2.93359701e-02],\n",
       "         [-5.88265248e-04]],\n",
       "\n",
       "        [[ 6.44459296e-03],\n",
       "         [ 5.40852314e-03],\n",
       "         [-1.01169534e-02],\n",
       "         [-5.93131082e-03],\n",
       "         [ 1.09328330e-02],\n",
       "         [ 5.53907547e-03],\n",
       "         [-2.31246371e-02],\n",
       "         [ 6.97624683e-03],\n",
       "         [ 2.98775602e-02],\n",
       "         [ 2.48233192e-02],\n",
       "         [ 6.25462178e-03],\n",
       "         [-2.18254887e-02],\n",
       "         [-1.67277250e-02],\n",
       "         [ 2.98272781e-02],\n",
       "         [ 4.22727829e-03],\n",
       "         [ 1.55339399e-02],\n",
       "         [ 8.67361017e-03],\n",
       "         [ 1.83062125e-02],\n",
       "         [-1.16791867e-03],\n",
       "         [ 9.11520235e-03],\n",
       "         [ 1.81845075e-03],\n",
       "         [-4.64290753e-03],\n",
       "         [-1.49964234e-02],\n",
       "         [ 1.11983658e-03],\n",
       "         [ 2.03987956e-02],\n",
       "         [ 2.37712469e-02],\n",
       "         [-8.78625456e-03],\n",
       "         [-1.76750459e-02]],\n",
       "\n",
       "        [[-9.59995319e-04],\n",
       "         [-2.51052133e-03],\n",
       "         [-3.07183457e-03],\n",
       "         [ 9.20058694e-03],\n",
       "         [ 5.48683014e-03],\n",
       "         [-9.54009243e-04],\n",
       "         [-6.79484801e-03],\n",
       "         [-2.15526484e-03],\n",
       "         [-7.41189392e-03],\n",
       "         [ 1.89296005e-03],\n",
       "         [-1.25524458e-02],\n",
       "         [ 1.37562840e-03],\n",
       "         [ 1.95493102e-02],\n",
       "         [-6.58157514e-04],\n",
       "         [ 3.92526668e-03],\n",
       "         [ 1.32612195e-02],\n",
       "         [-2.59413663e-02],\n",
       "         [ 1.83996018e-02],\n",
       "         [-1.44487610e-02],\n",
       "         [ 3.37813119e-03],\n",
       "         [ 2.36184616e-02],\n",
       "         [ 1.08424509e-02],\n",
       "         [ 7.67275982e-04],\n",
       "         [ 2.83556990e-04],\n",
       "         [-1.94532908e-02],\n",
       "         [ 4.21175035e-03],\n",
       "         [ 8.15160293e-03],\n",
       "         [ 1.22890398e-02]],\n",
       "\n",
       "        [[ 7.22636702e-04],\n",
       "         [-5.90634532e-03],\n",
       "         [-1.05503621e-02],\n",
       "         [ 2.75473502e-02],\n",
       "         [-2.82548089e-03],\n",
       "         [-2.25298963e-02],\n",
       "         [ 1.48845231e-02],\n",
       "         [ 5.07823788e-02],\n",
       "         [ 4.97204345e-03],\n",
       "         [-1.09629994e-02],\n",
       "         [-5.85597148e-03],\n",
       "         [ 3.91418487e-02],\n",
       "         [-2.60748696e-02],\n",
       "         [ 2.16933247e-02],\n",
       "         [-8.98979418e-03],\n",
       "         [ 2.26809317e-03],\n",
       "         [-1.56329144e-02],\n",
       "         [ 3.39306029e-03],\n",
       "         [ 3.22450651e-03],\n",
       "         [ 1.65905822e-02],\n",
       "         [ 2.76411679e-02],\n",
       "         [ 1.43605075e-03],\n",
       "         [-2.19982080e-02],\n",
       "         [ 3.96869518e-02],\n",
       "         [-4.08040024e-02],\n",
       "         [-3.03519866e-03],\n",
       "         [ 3.95979965e-04],\n",
       "         [-3.74156679e-03]],\n",
       "\n",
       "        [[ 1.74721528e-04],\n",
       "         [ 8.22044071e-03],\n",
       "         [-8.98281764e-03],\n",
       "         [ 1.53206000e-02],\n",
       "         [-1.07611455e-02],\n",
       "         [ 2.70613842e-03],\n",
       "         [-1.24923429e-02],\n",
       "         [ 2.24807616e-02],\n",
       "         [-9.51790530e-03],\n",
       "         [ 2.65387148e-02],\n",
       "         [-3.77834328e-02],\n",
       "         [ 8.12927168e-03],\n",
       "         [ 1.71414521e-02],\n",
       "         [ 1.67413964e-03],\n",
       "         [-2.17731781e-02],\n",
       "         [-1.08012324e-03],\n",
       "         [-2.00401596e-03],\n",
       "         [-8.40948988e-03],\n",
       "         [-1.19614424e-02],\n",
       "         [ 4.01799120e-02],\n",
       "         [ 9.53485537e-03],\n",
       "         [-1.86485685e-02],\n",
       "         [-1.17403101e-02],\n",
       "         [-2.04879735e-02],\n",
       "         [-5.73335029e-03],\n",
       "         [ 1.20032104e-02],\n",
       "         [-4.44403943e-03],\n",
       "         [ 1.31926453e-02]],\n",
       "\n",
       "        [[ 4.65986598e-03],\n",
       "         [ 4.47781105e-03],\n",
       "         [-3.00598163e-02],\n",
       "         [ 1.21632554e-02],\n",
       "         [-1.12331463e-02],\n",
       "         [-1.38108181e-02],\n",
       "         [-1.03137279e-02],\n",
       "         [ 2.43806150e-02],\n",
       "         [-1.74852703e-02],\n",
       "         [ 7.54353590e-03],\n",
       "         [-9.13826656e-03],\n",
       "         [-1.88049506e-02],\n",
       "         [-8.60222615e-03],\n",
       "         [ 2.12342739e-02],\n",
       "         [ 7.93172885e-03],\n",
       "         [-2.41615605e-02],\n",
       "         [ 2.06575673e-02],\n",
       "         [ 2.22783722e-02],\n",
       "         [-1.37430392e-02],\n",
       "         [-2.05432996e-02],\n",
       "         [ 2.02021841e-02],\n",
       "         [ 2.47054733e-03],\n",
       "         [-1.62613206e-02],\n",
       "         [-8.31684656e-03],\n",
       "         [-4.51977598e-03],\n",
       "         [ 1.30879984e-03],\n",
       "         [-2.56901141e-04],\n",
       "         [-6.00522244e-03]],\n",
       "\n",
       "        [[-6.03713887e-03],\n",
       "         [ 1.84495398e-03],\n",
       "         [-1.38383750e-02],\n",
       "         [-5.21109207e-03],\n",
       "         [-1.32370153e-02],\n",
       "         [ 1.09103993e-02],\n",
       "         [-2.04226258e-03],\n",
       "         [ 6.37765322e-03],\n",
       "         [ 8.61570146e-03],\n",
       "         [ 1.01223728e-02],\n",
       "         [ 3.17096547e-03],\n",
       "         [ 1.38829080e-02],\n",
       "         [ 1.26713598e-02],\n",
       "         [ 2.58248150e-02],\n",
       "         [-5.72215347e-03],\n",
       "         [-2.65757106e-02],\n",
       "         [ 2.30050664e-02],\n",
       "         [-1.20369550e-02],\n",
       "         [ 5.34670055e-03],\n",
       "         [ 1.53652970e-02],\n",
       "         [ 4.39751428e-03],\n",
       "         [ 1.27715198e-03],\n",
       "         [-3.22333118e-03],\n",
       "         [-4.59256675e-03],\n",
       "         [-1.89185571e-02],\n",
       "         [ 2.23280061e-02],\n",
       "         [-9.12862364e-03],\n",
       "         [-1.17994267e-02]],\n",
       "\n",
       "        [[ 7.27759954e-03],\n",
       "         [ 3.41399130e-03],\n",
       "         [-1.01056024e-02],\n",
       "         [ 3.13796699e-02],\n",
       "         [-2.05635391e-02],\n",
       "         [ 1.73133314e-02],\n",
       "         [ 2.01379787e-03],\n",
       "         [ 2.34512165e-02],\n",
       "         [-2.57850881e-03],\n",
       "         [ 6.11388823e-03],\n",
       "         [-7.83110224e-03],\n",
       "         [ 4.66791866e-03],\n",
       "         [-4.26596263e-03],\n",
       "         [ 1.30250966e-02],\n",
       "         [ 1.08753005e-02],\n",
       "         [-8.33190512e-03],\n",
       "         [-1.36103090e-02],\n",
       "         [-1.90797206e-02],\n",
       "         [-1.59163438e-02],\n",
       "         [ 4.38110810e-03],\n",
       "         [ 2.33146697e-02],\n",
       "         [ 9.27168969e-03],\n",
       "         [-2.40546204e-02],\n",
       "         [ 3.97082716e-02],\n",
       "         [ 8.92464910e-03],\n",
       "         [ 1.46052577e-02],\n",
       "         [-2.80623473e-02],\n",
       "         [ 8.78246129e-03]],\n",
       "\n",
       "        [[-4.89263190e-03],\n",
       "         [-5.33255003e-03],\n",
       "         [-4.49324679e-03],\n",
       "         [ 6.90181507e-03],\n",
       "         [ 3.47789843e-04],\n",
       "         [-1.02225831e-02],\n",
       "         [-1.70382392e-02],\n",
       "         [ 1.71620958e-02],\n",
       "         [-1.06384670e-02],\n",
       "         [-3.19201034e-04],\n",
       "         [-2.54918821e-03],\n",
       "         [ 5.91900386e-03],\n",
       "         [-2.39678170e-03],\n",
       "         [-6.79235789e-04],\n",
       "         [-3.63673531e-02],\n",
       "         [ 3.87342349e-02],\n",
       "         [ 8.89337738e-04],\n",
       "         [ 2.94194277e-02],\n",
       "         [-9.84641071e-03],\n",
       "         [-4.61512432e-03],\n",
       "         [-2.39391979e-02],\n",
       "         [ 2.16921903e-02],\n",
       "         [-3.23891751e-02],\n",
       "         [ 9.25121014e-04],\n",
       "         [-4.18414362e-03],\n",
       "         [ 2.49473713e-02],\n",
       "         [-2.06583496e-02],\n",
       "         [ 2.23848922e-03]],\n",
       "\n",
       "        [[ 1.66231545e-03],\n",
       "         [ 1.83515879e-03],\n",
       "         [-1.39684835e-02],\n",
       "         [ 4.77716839e-03],\n",
       "         [ 9.49887093e-03],\n",
       "         [ 6.82059349e-03],\n",
       "         [-1.97704732e-02],\n",
       "         [ 1.05827372e-03],\n",
       "         [ 1.27261663e-02],\n",
       "         [ 8.39562807e-03],\n",
       "         [-2.36903466e-02],\n",
       "         [ 1.27938967e-02],\n",
       "         [ 1.83836389e-02],\n",
       "         [ 4.08782586e-02],\n",
       "         [ 7.26730051e-03],\n",
       "         [ 2.09590308e-02],\n",
       "         [-1.20692840e-02],\n",
       "         [ 2.27108952e-02],\n",
       "         [-3.86589579e-02],\n",
       "         [-1.07710604e-02],\n",
       "         [-1.48168916e-03],\n",
       "         [-1.33656897e-04],\n",
       "         [ 4.04278660e-04],\n",
       "         [ 1.09813297e-02],\n",
       "         [-1.88420024e-02],\n",
       "         [ 3.27600702e-03],\n",
       "         [-2.84861517e-03],\n",
       "         [ 1.64535572e-03]],\n",
       "\n",
       "        [[ 2.86181201e-03],\n",
       "         [-4.16519959e-03],\n",
       "         [-1.21103344e-03],\n",
       "         [-2.01398646e-03],\n",
       "         [ 1.72659606e-02],\n",
       "         [-8.80006421e-03],\n",
       "         [ 6.42017322e-03],\n",
       "         [-1.55428089e-02],\n",
       "         [ 1.17875752e-03],\n",
       "         [ 3.41902599e-02],\n",
       "         [-1.27039514e-02],\n",
       "         [ 1.75553672e-02],\n",
       "         [-9.02692438e-04],\n",
       "         [-3.44135426e-02],\n",
       "         [-2.42057554e-02],\n",
       "         [ 3.30548696e-02],\n",
       "         [-1.00203417e-02],\n",
       "         [ 1.45143215e-02],\n",
       "         [-1.05026402e-02],\n",
       "         [-2.28778496e-02],\n",
       "         [ 1.12082222e-02],\n",
       "         [ 1.59558896e-02],\n",
       "         [-1.18855461e-02],\n",
       "         [ 3.78577597e-02],\n",
       "         [ 9.96648706e-03],\n",
       "         [-1.11701498e-02],\n",
       "         [-1.63097761e-03],\n",
       "         [ 1.25275804e-02]],\n",
       "\n",
       "        [[ 3.31108249e-03],\n",
       "         [ 1.27417501e-02],\n",
       "         [-1.61390305e-02],\n",
       "         [-1.70089025e-02],\n",
       "         [ 1.09695150e-02],\n",
       "         [ 3.92811596e-02],\n",
       "         [-3.17378677e-02],\n",
       "         [ 3.58472671e-03],\n",
       "         [ 1.86915009e-03],\n",
       "         [ 1.91075001e-02],\n",
       "         [ 1.44369844e-02],\n",
       "         [ 1.82041135e-02],\n",
       "         [-1.52318005e-03],\n",
       "         [-3.97071894e-03],\n",
       "         [ 2.43466403e-02],\n",
       "         [ 5.33614191e-04],\n",
       "         [ 1.09289708e-02],\n",
       "         [ 2.02076603e-02],\n",
       "         [ 6.31306274e-03],\n",
       "         [ 2.86915265e-02],\n",
       "         [-2.52029151e-02],\n",
       "         [ 3.83368344e-03],\n",
       "         [ 2.38699019e-02],\n",
       "         [-1.78355898e-03],\n",
       "         [ 2.05209795e-02],\n",
       "         [-1.01164402e-02],\n",
       "         [-2.03263089e-02],\n",
       "         [ 7.92086124e-04]],\n",
       "\n",
       "        [[-2.24243943e-03],\n",
       "         [-9.42185894e-03],\n",
       "         [ 6.26312150e-03],\n",
       "         [ 1.63078494e-02],\n",
       "         [-4.71755024e-03],\n",
       "         [-1.36214904e-02],\n",
       "         [ 7.64739001e-04],\n",
       "         [ 2.50940267e-02],\n",
       "         [ 9.31329373e-03],\n",
       "         [-2.30277441e-02],\n",
       "         [-1.00900596e-02],\n",
       "         [-1.15502998e-02],\n",
       "         [-1.20204873e-03],\n",
       "         [ 5.69792651e-03],\n",
       "         [-4.42880429e-02],\n",
       "         [-7.85132684e-03],\n",
       "         [-1.25530036e-02],\n",
       "         [-8.06031935e-03],\n",
       "         [-3.54920179e-02],\n",
       "         [-6.77664648e-04],\n",
       "         [ 1.49795611e-03],\n",
       "         [ 4.13763290e-03],\n",
       "         [-2.35378370e-02],\n",
       "         [ 2.12145713e-03],\n",
       "         [-1.43756028e-02],\n",
       "         [-9.84236412e-03],\n",
       "         [-1.48920491e-02],\n",
       "         [-1.42174084e-02]],\n",
       "\n",
       "        [[ 1.21186581e-02],\n",
       "         [ 1.15493611e-02],\n",
       "         [-1.19115338e-02],\n",
       "         [-1.51032628e-02],\n",
       "         [ 2.11182144e-02],\n",
       "         [ 2.30569392e-04],\n",
       "         [-1.23782260e-02],\n",
       "         [-7.14585790e-03],\n",
       "         [ 1.40502471e-02],\n",
       "         [ 5.40088117e-03],\n",
       "         [-2.54126377e-02],\n",
       "         [-2.01961379e-02],\n",
       "         [ 1.32761607e-02],\n",
       "         [ 2.05148775e-02],\n",
       "         [-2.11380627e-02],\n",
       "         [ 1.05903931e-02],\n",
       "         [-4.81474958e-03],\n",
       "         [-2.69408654e-02],\n",
       "         [ 2.70105293e-03],\n",
       "         [ 1.39012607e-02],\n",
       "         [-2.91706901e-03],\n",
       "         [ 3.53692174e-02],\n",
       "         [-3.06398608e-04],\n",
       "         [-2.49092728e-02],\n",
       "         [-6.82769227e-04],\n",
       "         [ 7.71936681e-03],\n",
       "         [ 1.59663092e-02],\n",
       "         [ 4.56957758e-04]],\n",
       "\n",
       "        [[-1.90862152e-03],\n",
       "         [ 8.27291328e-03],\n",
       "         [-1.31213879e-02],\n",
       "         [ 5.32072363e-03],\n",
       "         [-8.47013015e-03],\n",
       "         [ 8.35922826e-03],\n",
       "         [-7.25372322e-03],\n",
       "         [-1.09585961e-02],\n",
       "         [ 6.41269493e-04],\n",
       "         [-9.23967268e-03],\n",
       "         [-8.19991808e-03],\n",
       "         [-4.04226780e-03],\n",
       "         [-1.15959393e-02],\n",
       "         [ 1.07473899e-02],\n",
       "         [-1.13327634e-02],\n",
       "         [ 3.73374368e-03],\n",
       "         [ 1.58645883e-02],\n",
       "         [ 1.57028474e-02],\n",
       "         [ 2.61861663e-02],\n",
       "         [ 1.56279840e-02],\n",
       "         [ 7.17691099e-03],\n",
       "         [-8.48287810e-03],\n",
       "         [-3.27418372e-02],\n",
       "         [ 2.40325858e-03],\n",
       "         [ 5.29736653e-03],\n",
       "         [ 1.99676082e-02],\n",
       "         [-6.74164714e-03],\n",
       "         [-1.81932724e-03]],\n",
       "\n",
       "        [[-2.16901419e-03],\n",
       "         [ 2.00704262e-02],\n",
       "         [-2.39609974e-03],\n",
       "         [-9.45762731e-03],\n",
       "         [-4.22619516e-03],\n",
       "         [ 8.47415719e-03],\n",
       "         [-1.12518119e-02],\n",
       "         [ 7.00145029e-06],\n",
       "         [-1.91035978e-02],\n",
       "         [ 1.72923878e-02],\n",
       "         [-8.02215375e-03],\n",
       "         [ 1.87303200e-02],\n",
       "         [ 7.82479811e-03],\n",
       "         [ 3.34503464e-02],\n",
       "         [-7.23073585e-03],\n",
       "         [ 1.73466243e-02],\n",
       "         [ 4.55247378e-03],\n",
       "         [ 1.72512121e-02],\n",
       "         [-2.62768082e-02],\n",
       "         [ 2.45027654e-02],\n",
       "         [-1.96665991e-02],\n",
       "         [ 2.84880456e-02],\n",
       "         [-3.04676946e-02],\n",
       "         [-3.05606984e-04],\n",
       "         [ 3.82707734e-03],\n",
       "         [-1.41719617e-02],\n",
       "         [-1.31555768e-02],\n",
       "         [ 1.42238308e-02]],\n",
       "\n",
       "        [[ 2.40315357e-03],\n",
       "         [-8.09658691e-03],\n",
       "         [ 4.18418960e-04],\n",
       "         [ 4.66719922e-03],\n",
       "         [-3.68258241e-03],\n",
       "         [-4.87850560e-03],\n",
       "         [-1.99424219e-03],\n",
       "         [ 1.91178508e-02],\n",
       "         [-1.37076562e-03],\n",
       "         [ 4.88235708e-03],\n",
       "         [-1.18956892e-02],\n",
       "         [ 1.33844791e-02],\n",
       "         [-2.44033663e-03],\n",
       "         [ 7.98053667e-03],\n",
       "         [-2.47882083e-02],\n",
       "         [ 5.39456541e-03],\n",
       "         [ 5.34906983e-03],\n",
       "         [-6.69930829e-03],\n",
       "         [-7.02740485e-03],\n",
       "         [ 1.42373517e-02],\n",
       "         [-3.98205500e-03],\n",
       "         [ 8.69452767e-03],\n",
       "         [-1.35418093e-02],\n",
       "         [ 6.91777281e-03],\n",
       "         [ 1.07471813e-02],\n",
       "         [ 1.38317496e-02],\n",
       "         [-9.45899729e-03],\n",
       "         [ 1.34460686e-03]],\n",
       "\n",
       "        [[ 7.26908445e-03],\n",
       "         [ 1.58946216e-02],\n",
       "         [-4.52895323e-03],\n",
       "         [-1.14593990e-02],\n",
       "         [-2.51097186e-03],\n",
       "         [ 3.13898660e-02],\n",
       "         [-1.23045431e-03],\n",
       "         [ 2.64196913e-03],\n",
       "         [-1.31531786e-02],\n",
       "         [ 2.30434760e-02],\n",
       "         [-2.21809540e-02],\n",
       "         [-3.01142642e-03],\n",
       "         [-8.40503909e-03],\n",
       "         [ 2.46014968e-02],\n",
       "         [-5.27336774e-03],\n",
       "         [-9.65874642e-05],\n",
       "         [-3.35775651e-02],\n",
       "         [ 7.62884039e-03],\n",
       "         [-1.44677972e-02],\n",
       "         [ 1.06091686e-02],\n",
       "         [-1.64952204e-02],\n",
       "         [ 7.34687597e-03],\n",
       "         [-9.37285088e-03],\n",
       "         [-5.78279374e-03],\n",
       "         [-1.45188756e-02],\n",
       "         [ 1.36669911e-03],\n",
       "         [-2.37195808e-02],\n",
       "         [-3.79419327e-03]]]], dtype=float32)>"
      ]
     },
     "execution_count": 58,
     "metadata": {},
     "output_type": "execute_result"
    }
   ],
   "source": [
    "noise;\n",
    "generated_image"
   ]
  },
  {
   "cell_type": "code",
   "execution_count": 67,
   "metadata": {
    "colab": {
     "base_uri": "https://localhost:8080/",
     "height": 502
    },
    "id": "WWOK1EcIsVIx",
    "outputId": "50d72c4b-8f09-4f73-feb0-75f360348f5c"
   },
   "outputs": [
    {
     "data": {
      "text/plain": [
       "<matplotlib.image.AxesImage at 0x1cbe832f7a0>"
      ]
     },
     "execution_count": 67,
     "metadata": {},
     "output_type": "execute_result"
    },
    {
     "data": {
      "image/png": "[encoded data removed]",
      "text/plain": [
       "<Figure size 640x480 with 1 Axes>"
      ]
     },
     "metadata": {},
     "output_type": "display_data"
    }
   ],
   "source": [
    "generator = make_generator_model()\n",
    "\n",
    "noise = tf.random.normal([1, 100])\n",
    "generated_image = generator(noise, training=False)\n",
    "\n",
    "plt.imshow(generated_image[0,:, :, 0], cmap='gray')"
   ]
  },
  {
   "cell_type": "code",
   "execution_count": null,
   "metadata": {},
   "outputs": [],
   "source": []
  },
  {
   "cell_type": "code",
   "execution_count": 61,
   "metadata": {
    "id": "JHE3xM_osVLw"
   },
   "outputs": [],
   "source": [
    "def make_discriminator_model():\n",
    "    model = tf.keras.Sequential()\n",
    "    model.add(layers.Conv2D(64, (5, 5), strides=(2, 2), padding='same',\n",
    "                                     input_shape=[28, 28, 1]))\n",
    "    model.add(layers.LeakyReLU())\n",
    "    model.add(layers.Dropout(0.3))\n",
    "\n",
    "    model.add(layers.Conv2D(128, (5, 5), strides=(2, 2), padding='same'))\n",
    "    model.add(layers.LeakyReLU())\n",
    "    model.add(layers.Dropout(0.3))\n",
    "\n",
    "    model.add(layers.Flatten())\n",
    "    model.add(layers.Dense(1))\n",
    "\n",
    "    return model"
   ]
  },
  {
   "cell_type": "code",
   "execution_count": 40,
   "metadata": {
    "colab": {
     "base_uri": "https://localhost:8080/"
    },
    "id": "OY3B8xAysVPH",
    "outputId": "f7302d57-d848-48ea-b80d-e1ce9f308fef"
   },
   "outputs": [
    {
     "name": "stdout",
     "output_type": "stream",
     "text": [
      "tf.Tensor([[-0.00260544]], shape=(1, 1), dtype=float32)\n"
     ]
    }
   ],
   "source": [
    "discriminator = make_discriminator_model()\n",
    "decision = discriminator(generated_image)\n",
    "print (decision)"
   ]
  },
  {
   "cell_type": "code",
   "execution_count": 41,
   "metadata": {
    "colab": {
     "base_uri": "https://localhost:8080/",
     "height": 408
    },
    "id": "ETRYUmhXa2hZ",
    "outputId": "4b09e96c-44e0-4ec8-d6b2-494b90f60656"
   },
   "outputs": [
    {
     "data": {
      "text/html": [
       "<pre style=\"white-space:pre;overflow-x:auto;line-height:normal;font-family:Menlo,'DejaVu Sans Mono',consolas,'Courier New',monospace\"><span style=\"font-weight: bold\">Model: \"sequential_3\"</span>\n",
       "</pre>\n"
      ],
      "text/plain": [
       "\u001b[1mModel: \"sequential_3\"\u001b[0m\n"
      ]
     },
     "metadata": {},
     "output_type": "display_data"
    },
    {
     "data": {
      "text/html": [
       "<pre style=\"white-space:pre;overflow-x:auto;line-height:normal;font-family:Menlo,'DejaVu Sans Mono',consolas,'Courier New',monospace\">┏━━━━━━━━━━━━━━━━━━━━━━━━━━━━━━━━━━━━━━┳━━━━━━━━━━━━━━━━━━━━━━━━━━━━━┳━━━━━━━━━━━━━━━━━┓\n",
       "┃<span style=\"font-weight: bold\"> Layer (type)                         </span>┃<span style=\"font-weight: bold\"> Output Shape                </span>┃<span style=\"font-weight: bold\">         Param # </span>┃\n",
       "┡━━━━━━━━━━━━━━━━━━━━━━━━━━━━━━━━━━━━━━╇━━━━━━━━━━━━━━━━━━━━━━━━━━━━━╇━━━━━━━━━━━━━━━━━┩\n",
       "│ conv2d_2 (<span style=\"color: #0087ff; text-decoration-color: #0087ff\">Conv2D</span>)                    │ (<span style=\"color: #00d7ff; text-decoration-color: #00d7ff\">None</span>, <span style=\"color: #00af00; text-decoration-color: #00af00\">14</span>, <span style=\"color: #00af00; text-decoration-color: #00af00\">14</span>, <span style=\"color: #00af00; text-decoration-color: #00af00\">64</span>)          │           <span style=\"color: #00af00; text-decoration-color: #00af00\">1,664</span> │\n",
       "├──────────────────────────────────────┼─────────────────────────────┼─────────────────┤\n",
       "│ leaky_re_lu_8 (<span style=\"color: #0087ff; text-decoration-color: #0087ff\">LeakyReLU</span>)            │ (<span style=\"color: #00d7ff; text-decoration-color: #00d7ff\">None</span>, <span style=\"color: #00af00; text-decoration-color: #00af00\">14</span>, <span style=\"color: #00af00; text-decoration-color: #00af00\">14</span>, <span style=\"color: #00af00; text-decoration-color: #00af00\">64</span>)          │               <span style=\"color: #00af00; text-decoration-color: #00af00\">0</span> │\n",
       "├──────────────────────────────────────┼─────────────────────────────┼─────────────────┤\n",
       "│ dropout_2 (<span style=\"color: #0087ff; text-decoration-color: #0087ff\">Dropout</span>)                  │ (<span style=\"color: #00d7ff; text-decoration-color: #00d7ff\">None</span>, <span style=\"color: #00af00; text-decoration-color: #00af00\">14</span>, <span style=\"color: #00af00; text-decoration-color: #00af00\">14</span>, <span style=\"color: #00af00; text-decoration-color: #00af00\">64</span>)          │               <span style=\"color: #00af00; text-decoration-color: #00af00\">0</span> │\n",
       "├──────────────────────────────────────┼─────────────────────────────┼─────────────────┤\n",
       "│ conv2d_3 (<span style=\"color: #0087ff; text-decoration-color: #0087ff\">Conv2D</span>)                    │ (<span style=\"color: #00d7ff; text-decoration-color: #00d7ff\">None</span>, <span style=\"color: #00af00; text-decoration-color: #00af00\">7</span>, <span style=\"color: #00af00; text-decoration-color: #00af00\">7</span>, <span style=\"color: #00af00; text-decoration-color: #00af00\">128</span>)           │         <span style=\"color: #00af00; text-decoration-color: #00af00\">204,928</span> │\n",
       "├──────────────────────────────────────┼─────────────────────────────┼─────────────────┤\n",
       "│ leaky_re_lu_9 (<span style=\"color: #0087ff; text-decoration-color: #0087ff\">LeakyReLU</span>)            │ (<span style=\"color: #00d7ff; text-decoration-color: #00d7ff\">None</span>, <span style=\"color: #00af00; text-decoration-color: #00af00\">7</span>, <span style=\"color: #00af00; text-decoration-color: #00af00\">7</span>, <span style=\"color: #00af00; text-decoration-color: #00af00\">128</span>)           │               <span style=\"color: #00af00; text-decoration-color: #00af00\">0</span> │\n",
       "├──────────────────────────────────────┼─────────────────────────────┼─────────────────┤\n",
       "│ dropout_3 (<span style=\"color: #0087ff; text-decoration-color: #0087ff\">Dropout</span>)                  │ (<span style=\"color: #00d7ff; text-decoration-color: #00d7ff\">None</span>, <span style=\"color: #00af00; text-decoration-color: #00af00\">7</span>, <span style=\"color: #00af00; text-decoration-color: #00af00\">7</span>, <span style=\"color: #00af00; text-decoration-color: #00af00\">128</span>)           │               <span style=\"color: #00af00; text-decoration-color: #00af00\">0</span> │\n",
       "├──────────────────────────────────────┼─────────────────────────────┼─────────────────┤\n",
       "│ flatten_1 (<span style=\"color: #0087ff; text-decoration-color: #0087ff\">Flatten</span>)                  │ (<span style=\"color: #00d7ff; text-decoration-color: #00d7ff\">None</span>, <span style=\"color: #00af00; text-decoration-color: #00af00\">6272</span>)                │               <span style=\"color: #00af00; text-decoration-color: #00af00\">0</span> │\n",
       "├──────────────────────────────────────┼─────────────────────────────┼─────────────────┤\n",
       "│ dense_3 (<span style=\"color: #0087ff; text-decoration-color: #0087ff\">Dense</span>)                      │ (<span style=\"color: #00d7ff; text-decoration-color: #00d7ff\">None</span>, <span style=\"color: #00af00; text-decoration-color: #00af00\">1</span>)                   │           <span style=\"color: #00af00; text-decoration-color: #00af00\">6,273</span> │\n",
       "└──────────────────────────────────────┴─────────────────────────────┴─────────────────┘\n",
       "</pre>\n"
      ],
      "text/plain": [
       "┏━━━━━━━━━━━━━━━━━━━━━━━━━━━━━━━━━━━━━━┳━━━━━━━━━━━━━━━━━━━━━━━━━━━━━┳━━━━━━━━━━━━━━━━━┓\n",
       "┃\u001b[1m \u001b[0m\u001b[1mLayer (type)                        \u001b[0m\u001b[1m \u001b[0m┃\u001b[1m \u001b[0m\u001b[1mOutput Shape               \u001b[0m\u001b[1m \u001b[0m┃\u001b[1m \u001b[0m\u001b[1m        Param #\u001b[0m\u001b[1m \u001b[0m┃\n",
       "┡━━━━━━━━━━━━━━━━━━━━━━━━━━━━━━━━━━━━━━╇━━━━━━━━━━━━━━━━━━━━━━━━━━━━━╇━━━━━━━━━━━━━━━━━┩\n",
       "│ conv2d_2 (\u001b[38;5;33mConv2D\u001b[0m)                    │ (\u001b[38;5;45mNone\u001b[0m, \u001b[38;5;34m14\u001b[0m, \u001b[38;5;34m14\u001b[0m, \u001b[38;5;34m64\u001b[0m)          │           \u001b[38;5;34m1,664\u001b[0m │\n",
       "├──────────────────────────────────────┼─────────────────────────────┼─────────────────┤\n",
       "│ leaky_re_lu_8 (\u001b[38;5;33mLeakyReLU\u001b[0m)            │ (\u001b[38;5;45mNone\u001b[0m, \u001b[38;5;34m14\u001b[0m, \u001b[38;5;34m14\u001b[0m, \u001b[38;5;34m64\u001b[0m)          │               \u001b[38;5;34m0\u001b[0m │\n",
       "├──────────────────────────────────────┼─────────────────────────────┼─────────────────┤\n",
       "│ dropout_2 (\u001b[38;5;33mDropout\u001b[0m)                  │ (\u001b[38;5;45mNone\u001b[0m, \u001b[38;5;34m14\u001b[0m, \u001b[38;5;34m14\u001b[0m, \u001b[38;5;34m64\u001b[0m)          │               \u001b[38;5;34m0\u001b[0m │\n",
       "├──────────────────────────────────────┼─────────────────────────────┼─────────────────┤\n",
       "│ conv2d_3 (\u001b[38;5;33mConv2D\u001b[0m)                    │ (\u001b[38;5;45mNone\u001b[0m, \u001b[38;5;34m7\u001b[0m, \u001b[38;5;34m7\u001b[0m, \u001b[38;5;34m128\u001b[0m)           │         \u001b[38;5;34m204,928\u001b[0m │\n",
       "├──────────────────────────────────────┼─────────────────────────────┼─────────────────┤\n",
       "│ leaky_re_lu_9 (\u001b[38;5;33mLeakyReLU\u001b[0m)            │ (\u001b[38;5;45mNone\u001b[0m, \u001b[38;5;34m7\u001b[0m, \u001b[38;5;34m7\u001b[0m, \u001b[38;5;34m128\u001b[0m)           │               \u001b[38;5;34m0\u001b[0m │\n",
       "├──────────────────────────────────────┼─────────────────────────────┼─────────────────┤\n",
       "│ dropout_3 (\u001b[38;5;33mDropout\u001b[0m)                  │ (\u001b[38;5;45mNone\u001b[0m, \u001b[38;5;34m7\u001b[0m, \u001b[38;5;34m7\u001b[0m, \u001b[38;5;34m128\u001b[0m)           │               \u001b[38;5;34m0\u001b[0m │\n",
       "├──────────────────────────────────────┼─────────────────────────────┼─────────────────┤\n",
       "│ flatten_1 (\u001b[38;5;33mFlatten\u001b[0m)                  │ (\u001b[38;5;45mNone\u001b[0m, \u001b[38;5;34m6272\u001b[0m)                │               \u001b[38;5;34m0\u001b[0m │\n",
       "├──────────────────────────────────────┼─────────────────────────────┼─────────────────┤\n",
       "│ dense_3 (\u001b[38;5;33mDense\u001b[0m)                      │ (\u001b[38;5;45mNone\u001b[0m, \u001b[38;5;34m1\u001b[0m)                   │           \u001b[38;5;34m6,273\u001b[0m │\n",
       "└──────────────────────────────────────┴─────────────────────────────┴─────────────────┘\n"
      ]
     },
     "metadata": {},
     "output_type": "display_data"
    },
    {
     "data": {
      "text/html": [
       "<pre style=\"white-space:pre;overflow-x:auto;line-height:normal;font-family:Menlo,'DejaVu Sans Mono',consolas,'Courier New',monospace\"><span style=\"font-weight: bold\"> Total params: </span><span style=\"color: #00af00; text-decoration-color: #00af00\">212,865</span> (831.50 KB)\n",
       "</pre>\n"
      ],
      "text/plain": [
       "\u001b[1m Total params: \u001b[0m\u001b[38;5;34m212,865\u001b[0m (831.50 KB)\n"
      ]
     },
     "metadata": {},
     "output_type": "display_data"
    },
    {
     "data": {
      "text/html": [
       "<pre style=\"white-space:pre;overflow-x:auto;line-height:normal;font-family:Menlo,'DejaVu Sans Mono',consolas,'Courier New',monospace\"><span style=\"font-weight: bold\"> Trainable params: </span><span style=\"color: #00af00; text-decoration-color: #00af00\">212,865</span> (831.50 KB)\n",
       "</pre>\n"
      ],
      "text/plain": [
       "\u001b[1m Trainable params: \u001b[0m\u001b[38;5;34m212,865\u001b[0m (831.50 KB)\n"
      ]
     },
     "metadata": {},
     "output_type": "display_data"
    },
    {
     "data": {
      "text/html": [
       "<pre style=\"white-space:pre;overflow-x:auto;line-height:normal;font-family:Menlo,'DejaVu Sans Mono',consolas,'Courier New',monospace\"><span style=\"font-weight: bold\"> Non-trainable params: </span><span style=\"color: #00af00; text-decoration-color: #00af00\">0</span> (0.00 B)\n",
       "</pre>\n"
      ],
      "text/plain": [
       "\u001b[1m Non-trainable params: \u001b[0m\u001b[38;5;34m0\u001b[0m (0.00 B)\n"
      ]
     },
     "metadata": {},
     "output_type": "display_data"
    }
   ],
   "source": [
    "discriminator.summary()"
   ]
  },
  {
   "cell_type": "code",
   "execution_count": 42,
   "metadata": {
    "id": "D8KG0aNvsVSF"
   },
   "outputs": [],
   "source": [
    "# This method returns a helper function to compute cross entropy loss\n",
    "cross_entropy = tf.keras.losses.BinaryCrossentropy(from_logits=True)"
   ]
  },
  {
   "cell_type": "code",
   "execution_count": 43,
   "metadata": {
    "id": "_GxVto_9sVWA"
   },
   "outputs": [],
   "source": [
    "def discriminator_loss(real_output, fake_output):\n",
    "    real_loss = cross_entropy(tf.ones_like(real_output), real_output)\n",
    "    fake_loss = cross_entropy(tf.zeros_like(fake_output), fake_output)\n",
    "    total_loss = real_loss + fake_loss\n",
    "    return total_loss"
   ]
  },
  {
   "cell_type": "code",
   "execution_count": 44,
   "metadata": {
    "id": "XfkoYxmCss29"
   },
   "outputs": [],
   "source": [
    "def generator_loss(fake_output):\n",
    "    return cross_entropy(tf.ones_like(fake_output), fake_output)"
   ]
  },
  {
   "cell_type": "code",
   "execution_count": 45,
   "metadata": {
    "id": "qRmsbZ4Zsuj4"
   },
   "outputs": [],
   "source": [
    "generator_optimizer = tf.keras.optimizers.Adam(1e-4)\n",
    "discriminator_optimizer = tf.keras.optimizers.Adam(1e-4)"
   ]
  },
  {
   "cell_type": "code",
   "execution_count": 46,
   "metadata": {
    "id": "E1hUMSa-swxd"
   },
   "outputs": [],
   "source": [
    "checkpoint_dir = './training_checkpoints'\n",
    "checkpoint_prefix = os.path.join(checkpoint_dir, \"ckpt\")\n",
    "checkpoint = tf.train.Checkpoint(generator_optimizer=generator_optimizer,\n",
    "                                 discriminator_optimizer=discriminator_optimizer,\n",
    "                                 generator=generator,\n",
    "                                 discriminator=discriminator)"
   ]
  },
  {
   "cell_type": "code",
   "execution_count": 47,
   "metadata": {
    "id": "UUcVvPSnsyWw"
   },
   "outputs": [],
   "source": [
    "EPOCHS = 1\n",
    "noise_dim = 100\n",
    "num_examples_to_generate = 16\n",
    "\n",
    "# You will reuse this seed overtime (so it's easier)\n",
    "# to visualize progress in the animated GIF)\n",
    "seed = tf.random.normal([num_examples_to_generate, noise_dim])"
   ]
  },
  {
   "cell_type": "code",
   "execution_count": 48,
   "metadata": {
    "id": "JarSLwoGs2RD"
   },
   "outputs": [],
   "source": [
    "# Notice the use of `tf.function`\n",
    "# This annotation causes the function to be \"compiled\".\n",
    "@tf.function\n",
    "def train_step(images):\n",
    "    noise = tf.random.normal([BATCH_SIZE, noise_dim])\n",
    "\n",
    "    with tf.GradientTape() as gen_tape, tf.GradientTape() as disc_tape:\n",
    "      generated_images = generator(noise, training=True)\n",
    "\n",
    "      real_output = discriminator(images, training=True)\n",
    "      fake_output = discriminator(generated_images, training=True)\n",
    "\n",
    "      gen_loss = generator_loss(fake_output)\n",
    "      disc_loss = discriminator_loss(real_output, fake_output)\n",
    "\n",
    "    gradients_of_generator = gen_tape.gradient(gen_loss, generator.trainable_variables)\n",
    "    gradients_of_discriminator = disc_tape.gradient(disc_loss, discriminator.trainable_variables)\n",
    "\n",
    "    generator_optimizer.apply_gradients(zip(gradients_of_generator, generator.trainable_variables))\n",
    "    discriminator_optimizer.apply_gradients(zip(gradients_of_discriminator, discriminator.trainable_variables))"
   ]
  },
  {
   "cell_type": "code",
   "execution_count": 49,
   "metadata": {
    "id": "s6A0cizEs473"
   },
   "outputs": [],
   "source": [
    "def train(dataset, epochs):\n",
    "  for epoch in range(epochs):\n",
    "    start = time.time()\n",
    "\n",
    "    for image_batch in dataset:\n",
    "      train_step(image_batch)\n",
    "\n",
    "    # Produce images for the GIF as you go\n",
    "    display.clear_output(wait=True)\n",
    "    generate_and_save_images(generator,\n",
    "                             epoch + 1,\n",
    "                             seed)\n",
    "\n",
    "    # Save the model every 15 epochs\n",
    "    if (epoch + 1) % 15 == 0:\n",
    "      checkpoint.save(file_prefix = checkpoint_prefix)\n",
    "\n",
    "    print ('Time for epoch {} is {} sec'.format(epoch + 1, time.time()-start))\n",
    "\n",
    "  # Generate after the final epoch\n",
    "  display.clear_output(wait=True)\n",
    "  generate_and_save_images(generator,\n",
    "                           epochs,\n",
    "                           seed)"
   ]
  },
  {
   "cell_type": "code",
   "execution_count": 50,
   "metadata": {
    "id": "XnOdR2HHs7Bn"
   },
   "outputs": [],
   "source": [
    "def generate_and_save_images(model, epoch, test_input):\n",
    "  # Notice `training` is set to False.\n",
    "  # This is so all layers run in inference mode (batchnorm).\n",
    "  predictions = model(test_input, training=False)\n",
    "\n",
    "  fig = plt.figure(figsize=(4, 4))\n",
    "\n",
    "  for i in range(predictions.shape[0]):\n",
    "      plt.subplot(4, 4, i+1)\n",
    "      plt.imshow(predictions[i, :, :, 0] * 127.5 + 127.5, cmap='gray')\n",
    "      plt.axis('off')\n",
    "\n",
    "  plt.savefig('image_at_epoch_{:04d}.png'.format(epoch))\n",
    "  plt.show()"
   ]
  },
  {
   "cell_type": "code",
   "execution_count": 51,
   "metadata": {
    "id": "0tOllWXIs9G1"
   },
   "outputs": [
    {
     "data": {
      "image/png": "[encoded data removed]",
      "text/plain": [
       "<Figure size 400x400 with 16 Axes>"
      ]
     },
     "metadata": {},
     "output_type": "display_data"
    }
   ],
   "source": [
    "train(train_dataset, EPOCHS)"
   ]
  },
  {
   "cell_type": "code",
   "execution_count": 52,
   "metadata": {
    "colab": {
     "base_uri": "https://localhost:8080/"
    },
    "id": "SEfygdgus-6_",
    "outputId": "bef7b586-8c36-45c8-ba41-1bfecb7d1742"
   },
   "outputs": [
    {
     "data": {
      "text/plain": [
       "<tensorflow.python.checkpoint.checkpoint.InitializationOnlyStatus at 0x1cb971e8f50>"
      ]
     },
     "execution_count": 52,
     "metadata": {},
     "output_type": "execute_result"
    }
   ],
   "source": [
    "checkpoint.restore(tf.train.latest_checkpoint(checkpoint_dir))"
   ]
  },
  {
   "cell_type": "code",
   "execution_count": 53,
   "metadata": {
    "id": "fK0rJPWRtAxj"
   },
   "outputs": [],
   "source": [
    "# Display a single image using the epoch number\n",
    "def display_image(epoch_no):\n",
    "  return PIL.Image.open('image_at_epoch_{:04d}.png'.format(epoch_no))"
   ]
  },
  {
   "cell_type": "code",
   "execution_count": 54,
   "metadata": {
    "colab": {
     "base_uri": "https://localhost:8080/",
     "height": 417
    },
    "id": "vuA3n2-_tC4M",
    "outputId": "266fd38f-4655-4afb-9e58-6d02e0915619"
   },
   "outputs": [
    {
     "data": {
      "image/png": "[encoded data removed]",
      "text/plain": [
       "<PIL.PngImagePlugin.PngImageFile image mode=RGBA size=400x400>"
      ]
     },
     "execution_count": 54,
     "metadata": {},
     "output_type": "execute_result"
    }
   ],
   "source": [
    "display_image(EPOCHS)"
   ]
  },
  {
   "cell_type": "code",
   "execution_count": 55,
   "metadata": {
    "colab": {
     "base_uri": "https://localhost:8080/"
    },
    "id": "-g6sLsy3tEpP",
    "outputId": "4c50e6b6-ed2f-4558-8dab-e2fb36579fef"
   },
   "outputs": [
    {
     "name": "stderr",
     "output_type": "stream",
     "text": [
      "C:\\Users\\user\\AppData\\Local\\Temp\\ipykernel_5572\\1982054950.py:7: DeprecationWarning: Starting with ImageIO v3 the behavior of this function will switch to that of iio.v3.imread. To keep the current behavior (and make this warning disappear) use `import imageio.v2 as imageio` or call `imageio.v2.imread` directly.\n",
      "  image = imageio.imread(filename)\n",
      "C:\\Users\\user\\AppData\\Local\\Temp\\ipykernel_5572\\1982054950.py:9: DeprecationWarning: Starting with ImageIO v3 the behavior of this function will switch to that of iio.v3.imread. To keep the current behavior (and make this warning disappear) use `import imageio.v2 as imageio` or call `imageio.v2.imread` directly.\n",
      "  image = imageio.imread(filename)\n"
     ]
    }
   ],
   "source": [
    "anim_file = 'dcgan.gif'\n",
    "\n",
    "with imageio.get_writer(anim_file, mode='I') as writer:\n",
    "  filenames = glob.glob('image*.png')\n",
    "  filenames = sorted(filenames)\n",
    "  for filename in filenames:\n",
    "    image = imageio.imread(filename)\n",
    "    writer.append_data(image)\n",
    "  image = imageio.imread(filename)\n",
    "  writer.append_data(image)"
   ]
  },
  {
   "cell_type": "code",
   "execution_count": 56,
   "metadata": {
    "id": "aUWMt6H1tGZP"
   },
   "outputs": [
    {
     "ename": "ModuleNotFoundError",
     "evalue": "No module named 'tensorflow_docs'",
     "output_type": "error",
     "traceback": [
      "\u001b[1;31m---------------------------------------------------------------------------\u001b[0m",
      "\u001b[1;31mModuleNotFoundError\u001b[0m                       Traceback (most recent call last)",
      "Cell \u001b[1;32mIn[56], line 1\u001b[0m\n\u001b[1;32m----> 1\u001b[0m \u001b[38;5;28;01mimport\u001b[39;00m \u001b[38;5;21;01mtensorflow_docs\u001b[39;00m\u001b[38;5;21;01m.\u001b[39;00m\u001b[38;5;21;01mvis\u001b[39;00m\u001b[38;5;21;01m.\u001b[39;00m\u001b[38;5;21;01membed\u001b[39;00m \u001b[38;5;28;01mas\u001b[39;00m \u001b[38;5;21;01membed\u001b[39;00m\n\u001b[0;32m      2\u001b[0m embed\u001b[38;5;241m.\u001b[39membed_file(anim_file)\n",
      "\u001b[1;31mModuleNotFoundError\u001b[0m: No module named 'tensorflow_docs'"
     ]
    }
   ],
   "source": [
    "import tensorflow_docs.vis.embed as embed\n",
    "embed.embed_file(anim_file)"
   ]
  },
  {
   "cell_type": "code",
   "execution_count": null,
   "metadata": {
    "id": "pHJhcdNctH9N"
   },
   "outputs": [],
   "source": []
  },
  {
   "cell_type": "code",
   "execution_count": null,
   "metadata": {
    "id": "HTyp_Yy-ffa4"
   },
   "outputs": [],
   "source": []
  }
 ],
 "metadata": {
  "colab": {
   "provenance": []
  },
  "kernelspec": {
   "display_name": "Python 3 (ipykernel)",
   "language": "python",
   "name": "python3"
  },
  "language_info": {
   "codemirror_mode": {
    "name": "ipython",
    "version": 3
   },
   "file_extension": ".py",
   "mimetype": "text/x-python",
   "name": "python",
   "nbconvert_exporter": "python",
   "pygments_lexer": "ipython3",
   "version": "3.12.3"
  }
 },
 "nbformat": 4,
 "nbformat_minor": 4
}
